{
 "cells": [
  {
   "cell_type": "markdown",
   "metadata": {
    "editable": false
   },
   "source": [
    "<img src=\"Images/IMG-Titanic-Banner.gif\">"
   ]
  },
  {
   "cell_type": "markdown",
   "metadata": {
    "editable": false
   },
   "source": [
    "Mittwoch, 10. April 1912, Southhampton in England. Ein großer Tag für die <a href=\"https://de.wikipedia.org/wiki/White_Star_Line\">White Star Line</a>, denn heute tritt ihr prestigeträchtigstes Schiff ihre Jungfernfahrt an. An Bord freuen sich über 1300 Fahrgäste auf eine luxuriöse Fahrt nach New York City. Mehr als 900 Besatzungsmitglieder stehen bereit, auf dem kolossalen Dampfer auf der Atlantiküberquerung zu Diensten zu stehen. Der Name des Schiffs: <a href=\"https://de.wikipedia.org/wiki/RMS_Titanic\">RMS Titanic</a>.\n",
    "\n",
    "In vorangegangenen Notebooks haben wir Methoden zur Datenvorverarbeitung und zur Klassifikation kennengelernt. Jetzt ist es an der Zeit, diese an einem Datensatz mal (fast) ganz ohne Anleitung auszuprobieren!\n",
    "Die Aufgabe besteht darin, anhand der (authentischen) Daten von über 800 Passagieren das Überleben eines Passagiers vorherzusagen.\n",
    "\n",
    "Halten Sie sich am besten (zumindest grob) an die vorgegebene Struktur dieses Notebooks, um ein optimales Ergebnis zu erreichen. \n",
    "Ihre endgültigen Vorhersagen können Sie als CSV-Datei an <a href=\"mailto:simon.stone@tu-dresden.de?Subject=Vorhersagen%20zu%20Jupyter%20Notebook%20Titanic\" target=\"_top\">Simon Stone</a> schicken und so an einem internen Ranking teilnehmen, das wir am Ende der Vorlesungszeit im Kurs bekanntmachen werden.\n",
    "\n",
    "**Wichtig:** Wenn Sie dieses Notebook als Teilleistung des Praktikums AIS bearbeiten, dann schicken Sie es bitte gemeinsam mit dem Notebook zur Regression in einem ZIP-Archiv an Ihren Betreuer (siehe Folien zur Einführung ins Praktikum).\n",
    "\n",
    "<img style=\"float: right; margin:5px 0px 0px 10px\" src=\"Images/IMG-White-Star-Line.jpg\" alt=\"White-Star-Line-Poster\" width=\"256\">\n",
    "\n",
    "## Inhalt\n",
    "<table style=\"width:256; border: 1px solid black; display: inline-block\">\n",
    "  <tr>\n",
    "    <td  style=\"text-align:right\" width=64px><img src=\"Images/IMG-csv-in.png\" style=\"float:left\"></td>\n",
    "      <td style=\"text-align:left\" width=128px>\n",
    "          <a style=\"color:black; font-size:14px; font-weight:bold; text-decoration:none\" href='#import_data'>Daten importieren</a>\n",
    "      </td>\n",
    "  </tr>\n",
    "  <tr>\n",
    "    <td style=\"text-align:right\"><img src=\"Images/IMG-magnifying-glass.png\" style=\"float:left\"></td>\n",
    "    <td style=\"text-align:left\" width=128px><a style=\"color:black; font-size:14px; font-weight:bold; text-decoration:none\" href='#analyze_data'>Daten analysieren</a>\n",
    "      </td>\n",
    "  </tr>\n",
    "    <tr>\n",
    "    <td style=\"text-align:right\"><img src=\"Images/IMG-broom.png\" style=\"float:left\"></td>\n",
    "    <td style=\"text-align:left\" width=128px><a style=\"color:black; font-size:14px; font-weight:bold; text-decoration:none\" href='#clean_data'>Daten säubern</a>\n",
    "        </td>\n",
    "    </tr>\n",
    "    <tr>\n",
    "    <td style=\"text-align:right\"><img src=\"Images/IMG-gears.png\" style=\"float:left\"></td>\n",
    "    <td style=\"text-align:left\" width=128px><a style=\"color:black; font-size:14px; font-weight:bold; text-decoration:none\" href='#build_model'>Modellauswahl</a>\n",
    "        </td>\n",
    "  </tr>\n",
    "        <tr>\n",
    "    <td style=\"text-align:right\"><img src=\"Images/IMG-alert.png\" style=\"float:left\"></td>\n",
    "    <td style=\"text-align:left\" width=128px><a style=\"color:black; font-size:14px; font-weight:bold; text-decoration:none\" href='#make_predictions'>Vorhersagen treffen</a>\n",
    "        </td>\n",
    "  </tr>\n",
    "        <tr>\n",
    "    <td style=\"text-align:right\"><img src=\"Images/IMG-csv-out.png\" style=\"float:left\"></td>\n",
    "    <td style=\"text-align:left\" width=128px><a style=\"color:black; font-size:14px; font-weight:bold; text-decoration:none\" href='#save_predictions'>Vorhersagen speichern</a>\n",
    "        </td>\n",
    "  </tr>\n",
    "</table>\n",
    "\n"
   ]
  },
  {
   "cell_type": "markdown",
   "metadata": {
    "editable": false
   },
   "source": [
    "<a id='import_data'></a><div><img src=\"Images/IMG-csv-in.png\" style=\"float:left\"> <h2 style=\"position: relative; top: 6px; left:10px\">1. Daten importieren</h2>\n",
    "<p style=\"position: relative; top: 10px\">\n",
    "Lesen Sie die Passagierdaten für das Training des Klassifikators aus der Datei \"titanic.csv\" im Ordner \"Data\" ein. Die Spaltennamen haben die folgenden Bedeutungen:\n",
    "</p>\n",
    "<table style=\"width:256; border: 1px solid black; display: inline-block\">\n",
    "    <tr>\n",
    "        <td style=\"text-align:left\"><p style=\"color:black; font-size:14px; font-weight:bold\">Survived:</p>\n",
    "        </td>\n",
    "        <td style=\"text-align:left\"><p style=\"color:black; font-size:14px\">Zu vorhersagende Größe. 1: Passagier hat überlebt. 0: Passagier hat nicht überlebt.</p>\n",
    "        </td>\n",
    "    </tr>\n",
    "    <tr>\n",
    "        <td style=\"text-align:left\"><p style=\"color:black; font-size:14px; font-weight:bold\">Pclass:</p>\n",
    "        </td>\n",
    "        <td style=\"text-align:left\"><p style=\"color:black; font-size:14px\">Reiseklasse</p>\n",
    "        </td>\n",
    "    </tr>\n",
    "    <tr>\n",
    "        <td style=\"text-align:left\"><p style=\"color:black; font-size:14px; font-weight:bold\">Name:</p>\n",
    "        </td>\n",
    "        <td style=\"text-align:left\"><p style=\"color:black; font-size:14px\">Titel und Name. Bei Ehefrauen steht zuerste der Name des Ehemannes, dann der eigene Name in Klammern. 🙄</p>\n",
    "        </td>\n",
    "    </tr>\n",
    "    <tr>\n",
    "        <td style=\"text-align:left\"><p style=\"color:black; font-size:14px; font-weight:bold\">Sex:</p>\n",
    "        </td>\n",
    "        <td style=\"text-align:left\"><p style=\"color:black; font-size:14px\">Geschlecht</p>\n",
    "        </td>\n",
    "    </tr>\n",
    "    <tr>\n",
    "        <td style=\"text-align:left\"><p style=\"color:black; font-size:14px; font-weight:bold\">Age:</p>\n",
    "        </td>\n",
    "        <td style=\"text-align:left\"><p style=\"color:black; font-size:14px\">Alter</p>\n",
    "        </td>\n",
    "    </tr>\n",
    "    <tr>\n",
    "        <td style=\"text-align:left\"><p style=\"color:black; font-size:14px; font-weight:bold\">Siblings_SpousesAboard:</p>\n",
    "        </td>\n",
    "        <td style=\"text-align:left\"><p style=\"color:black; font-size:14px\">Anzahl der mitreisenden Geschwister und Ehepartner</p>\n",
    "        </td>\n",
    "    </tr>\n",
    "    <tr>\n",
    "        <td style=\"text-align:left\"><p style=\"color:black; font-size:14px; font-weight:bold\">Parents_ChildrenAboard:</p>\n",
    "        </td>\n",
    "        <td style=\"text-align:left\"><p style=\"color:black; font-size:14px\">Anzahl der mitreisenden Eltern und Kinder</p>\n",
    "        </td>\n",
    "    </tr>\n",
    "    <tr>\n",
    "        <td style=\"text-align:left\"><p style=\"color:black; font-size:14px; font-weight:bold\">Fare:</p>\n",
    "        </td>\n",
    "        <td style=\"text-align:left\"><p style=\"color:black; font-size:14px\">Bezahlter Fahrscheinpreis in Pound sterling</p>\n",
    "        </td>\n",
    "    </tr>\n",
    "    </table>\n",
    "    \n",
    "Lesen Sie anschließend die Testdaten aus \"titanic_test.csv\" im Ordner \"Data\" ein. Die Daten haben das gleiche Format, allerdings fehlt die Spalte \"Survived\", da diese ja vorhergesagt werden soll. "
   ]
  },
  {
   "cell_type": "code",
   "execution_count": 219,
   "metadata": {},
   "outputs": [
    {
     "data": {
      "text/html": [
       "<div>\n",
       "<style scoped>\n",
       "    .dataframe tbody tr th:only-of-type {\n",
       "        vertical-align: middle;\n",
       "    }\n",
       "\n",
       "    .dataframe tbody tr th {\n",
       "        vertical-align: top;\n",
       "    }\n",
       "\n",
       "    .dataframe thead th {\n",
       "        text-align: right;\n",
       "    }\n",
       "</style>\n",
       "<table border=\"1\" class=\"dataframe\">\n",
       "  <thead>\n",
       "    <tr style=\"text-align: right;\">\n",
       "      <th></th>\n",
       "      <th>Survived</th>\n",
       "      <th>Pclass</th>\n",
       "      <th>Name</th>\n",
       "      <th>Sex</th>\n",
       "      <th>Age</th>\n",
       "      <th>Siblings_SpousesAboard</th>\n",
       "      <th>Parents_ChildrenAboard</th>\n",
       "      <th>Fare</th>\n",
       "    </tr>\n",
       "  </thead>\n",
       "  <tbody>\n",
       "    <tr>\n",
       "      <th>0</th>\n",
       "      <td>0</td>\n",
       "      <td>3</td>\n",
       "      <td>Mr. Owen Harris Braund</td>\n",
       "      <td>male</td>\n",
       "      <td>22.0</td>\n",
       "      <td>1</td>\n",
       "      <td>0</td>\n",
       "      <td>7.2500</td>\n",
       "    </tr>\n",
       "    <tr>\n",
       "      <th>1</th>\n",
       "      <td>1</td>\n",
       "      <td>1</td>\n",
       "      <td>Mrs. John Bradley (Florence Briggs Thayer) Cum...</td>\n",
       "      <td>female</td>\n",
       "      <td>38.0</td>\n",
       "      <td>1</td>\n",
       "      <td>0</td>\n",
       "      <td>71.2833</td>\n",
       "    </tr>\n",
       "    <tr>\n",
       "      <th>2</th>\n",
       "      <td>1</td>\n",
       "      <td>3</td>\n",
       "      <td>Miss. Laina Heikkinen</td>\n",
       "      <td>female</td>\n",
       "      <td>26.0</td>\n",
       "      <td>0</td>\n",
       "      <td>0</td>\n",
       "      <td>7.9250</td>\n",
       "    </tr>\n",
       "    <tr>\n",
       "      <th>3</th>\n",
       "      <td>1</td>\n",
       "      <td>1</td>\n",
       "      <td>Mrs. Jacques Heath (Lily May Peel) Futrelle</td>\n",
       "      <td>female</td>\n",
       "      <td>35.0</td>\n",
       "      <td>1</td>\n",
       "      <td>0</td>\n",
       "      <td>53.1000</td>\n",
       "    </tr>\n",
       "    <tr>\n",
       "      <th>4</th>\n",
       "      <td>0</td>\n",
       "      <td>3</td>\n",
       "      <td>Mr. William Henry Allen</td>\n",
       "      <td>male</td>\n",
       "      <td>35.0</td>\n",
       "      <td>0</td>\n",
       "      <td>0</td>\n",
       "      <td>8.0500</td>\n",
       "    </tr>\n",
       "  </tbody>\n",
       "</table>\n",
       "</div>"
      ],
      "text/plain": [
       "   Survived  Pclass                                               Name  \\\n",
       "0         0       3                             Mr. Owen Harris Braund   \n",
       "1         1       1  Mrs. John Bradley (Florence Briggs Thayer) Cum...   \n",
       "2         1       3                              Miss. Laina Heikkinen   \n",
       "3         1       1        Mrs. Jacques Heath (Lily May Peel) Futrelle   \n",
       "4         0       3                            Mr. William Henry Allen   \n",
       "\n",
       "      Sex   Age  Siblings_SpousesAboard  Parents_ChildrenAboard     Fare  \n",
       "0    male  22.0                       1                       0   7.2500  \n",
       "1  female  38.0                       1                       0  71.2833  \n",
       "2  female  26.0                       0                       0   7.9250  \n",
       "3  female  35.0                       1                       0  53.1000  \n",
       "4    male  35.0                       0                       0   8.0500  "
      ]
     },
     "execution_count": 219,
     "metadata": {},
     "output_type": "execute_result"
    }
   ],
   "source": [
    "import pandas as pd\n",
    "import seaborn as sns\n",
    "import numpy as np\n",
    "\n",
    "# Daten importieren\n",
    "df = pd.read_csv('Data/titanic.csv',sep=',')\n",
    "df.head(5)"
   ]
  },
  {
   "cell_type": "markdown",
   "metadata": {
    "editable": false
   },
   "source": [
    "<a id='analyze_data'></a><div><img src=\"Images/IMG-magnifying-glass.png\" style=\"float:left\"> <h2 style=\"position: relative; top: 6px; left: 10px\">2. Daten analysieren</h2>\n",
    "<p style=\"position: relative; top: 10px\">\n",
    "Durchstöbern Sie die Daten. Welche Spalten sind numerisch? Wie ist die Werteverteilung in den einzelnen Spalten? Wo fehlen Werte?\n",
    "</p>"
   ]
  },
  {
   "cell_type": "code",
   "execution_count": 220,
   "metadata": {},
   "outputs": [
    {
     "name": "stdout",
     "output_type": "stream",
     "text": [
      "         Survived      Pclass         Age  Siblings_SpousesAboard  \\\n",
      "count  799.000000  799.000000  799.000000              799.000000   \n",
      "mean     0.385482    2.321652   29.502090                0.533166   \n",
      "std      0.487014    0.836462   14.309753                1.123273   \n",
      "min      0.000000    1.000000    0.420000                0.000000   \n",
      "25%      0.000000    2.000000   20.000000                0.000000   \n",
      "50%      0.000000    3.000000   28.000000                0.000000   \n",
      "75%      1.000000    3.000000   38.000000                1.000000   \n",
      "max      1.000000    3.000000   80.000000                8.000000   \n",
      "\n",
      "       Parents_ChildrenAboard        Fare  \n",
      "count              799.000000  799.000000  \n",
      "mean                 0.382979   32.984850  \n",
      "std                  0.790616   51.717685  \n",
      "min                  0.000000    0.000000  \n",
      "25%                  0.000000    7.910400  \n",
      "50%                  0.000000   14.458300  \n",
      "75%                  0.000000   31.137500  \n",
      "max                  6.000000  512.329200  \n",
      "Index(['Survived', 'Pclass', 'Name', 'Sex', 'Age', 'Siblings_SpousesAboard',\n",
      "       'Parents_ChildrenAboard', 'Fare'],\n",
      "      dtype='object')\n",
      "Survived                    int64\n",
      "Pclass                      int64\n",
      "Name                       object\n",
      "Sex                        object\n",
      "Age                       float64\n",
      "Siblings_SpousesAboard      int64\n",
      "Parents_ChildrenAboard      int64\n",
      "Fare                      float64\n",
      "dtype: object\n"
     ]
    }
   ],
   "source": [
    "# Daten explorieren\n",
    "print(df.describe())\n",
    "print(df.columns)\n",
    "print(df.dtypes)"
   ]
  },
  {
   "cell_type": "markdown",
   "metadata": {
    "editable": false
   },
   "source": [
    "<a id='clean_data'></a><div><img src=\"Images/IMG-broom.png\" style=\"float:left\"> <h2 style=\"position: relative; top: 6px; left:10px\">3. Daten säubern</h2>\n",
    "<p style=\"position: relative; top: 10px\">\n",
    "Konvertieren Sie alle nicht-numerischen Daten. Füllen Sie fehlende Werte auf. Sie wissen ja inzwischen, wie das geht. \n",
    "\n",
    "Sie müssen auch nicht alle Merkmale oder Beobachtungen behalten. Oder vielleicht kann man ja auch ganz neue Merkmale aus den vorhandenen ableiten? Welche hinter den Merkmalen liegenden Zusammenhänge könnten vielleicht einen Einfluss auf die Überlebenschance haben? Seien Sie ruhig kreativ!   \n",
    "</p>"
   ]
  },
  {
   "cell_type": "code",
   "execution_count": 221,
   "metadata": {},
   "outputs": [
    {
     "name": "stdout",
     "output_type": "stream",
     "text": [
      "   Survived  Pclass  Name  Sex   Age  Siblings_SpousesAboard  \\\n",
      "0         0       3    65    1  22.0                       1   \n",
      "1         1       1   128    0  38.0                       1   \n",
      "2         1       3   229    0  26.0                       0   \n",
      "3         1       1   184    0  35.0                       1   \n",
      "4         0       3    10    1  35.0                       0   \n",
      "\n",
      "   Parents_ChildrenAboard     Fare  \n",
      "0                       0   7.2500  \n",
      "1                       0  71.2833  \n",
      "2                       0   7.9250  \n",
      "3                       0  53.1000  \n",
      "4                       0   8.0500  \n",
      "Corrr(Survied, <...>)\n",
      "Survived                  1.000000\n",
      "Pclass                   -0.320133\n",
      "Name                     -0.044295\n",
      "Sex                      -0.527845\n",
      "Age                      -0.073000\n",
      "Siblings_SpousesAboard   -0.039435\n",
      "Parents_ChildrenAboard    0.071738\n",
      "Fare                      0.254818\n",
      "Name: Survived, dtype: float64\n"
     ]
    },
    {
     "data": {
      "image/png": "[encoded data removed]",
      "text/plain": [
       "<Figure size 432x288 with 2 Axes>"
      ]
     },
     "metadata": {
      "needs_background": "light"
     },
     "output_type": "display_data"
    }
   ],
   "source": [
    "#Converting to num type\n",
    "\n",
    "df['Sex'] = df['Sex'].astype('category')\n",
    "df['Sex'] = df['Sex'].cat.codes\n",
    "\n",
    "df[\"Name\"] = df[\"Name\"].astype(str)\n",
    "df[\"Name\"] = df[\"Name\"].str.split().str[-1]\n",
    "\n",
    "df['Name'].dtypes\n",
    "df['Name'] = df['Name'].astype('category')\n",
    "df['Name'] = df['Name'].cat.codes\n",
    "\n",
    "print(df.head(5))\n",
    "sns.heatmap(df.corr(), square=False, cmap='RdYlGn');\n",
    "\n",
    "print('Corrr(Survied, <...>)')\n",
    "print(df.corr().loc['Survived'])"
   ]
  },
  {
   "cell_type": "code",
   "execution_count": 222,
   "metadata": {},
   "outputs": [
    {
     "name": "stdout",
     "output_type": "stream",
     "text": [
      "Col to drop\n",
      "Index(['Name', 'Age', 'Siblings_SpousesAboard', 'Parents_ChildrenAboard'], dtype='object')\n",
      "   Survived  Pclass  Sex     Fare\n",
      "0         0       3    1   7.2500\n",
      "1         1       1    0  71.2833\n",
      "2         1       3    0   7.9250\n",
      "3         1       1    0  53.1000\n",
      "4         0       3    1   8.0500\n",
      "Corrr(Survied, <...>)\n",
      "Survived    1.000000\n",
      "Pclass     -0.320133\n",
      "Sex        -0.527845\n",
      "Fare        0.254818\n",
      "Name: Survived, dtype: float64\n"
     ]
    },
    {
     "data": {
      "image/png": "[encoded data removed]",
      "text/plain": [
       "<Figure size 432x288 with 2 Axes>"
      ]
     },
     "metadata": {
      "needs_background": "light"
     },
     "output_type": "display_data"
    }
   ],
   "source": [
    "#Select data to process based on feature corr\n",
    "data = df.loc[:,((df.corr().loc['Survived'].abs() >= 0.1).values)]\n",
    "col_to_drop = df.loc[:,((df.corr().loc['Survived'].abs() <= 0.1))]\n",
    "print('Col to drop')\n",
    "print(col_to_drop.columns)\n",
    "#View on cleanded data\n",
    "print(data.head(5))\n",
    "sns.heatmap(data.corr(), square=True, cmap='RdYlGn');\n",
    "print('Corrr(Survied, <...>)')\n",
    "print(data.corr().loc['Survived'])"
   ]
  },
  {
   "cell_type": "code",
   "execution_count": 230,
   "metadata": {},
   "outputs": [],
   "source": [
    "#Data split\n",
    "from sklearn.model_selection import train_test_split\n",
    "X = data.drop(columns=['Survived'])\n",
    "y = df['Survived']\n",
    "X_train, X_test, y_train, y_test = train_test_split(X,y,random_state=12345)\n"
   ]
  },
  {
   "cell_type": "code",
   "execution_count": 231,
   "metadata": {},
   "outputs": [],
   "source": [
    "from sklearn.preprocessing import StandardScaler\n",
    "\n",
    "# Instanziieren Sie ein Objekt StandardScaler()\n",
    "stdScaler = StandardScaler()\n",
    "\n",
    "# Berechnen Sie die Standardisierungsparameter auf dem Trainingsset (!) X_train mit Hilfe der Funktion \"fit()\"\n",
    "stdScaler.fit(X_train)\n",
    "# Wenden Sie die **selbe** Standardisierung mit Hilfe der Methode transform() auf die Trainings- und Testdaten an\n",
    "X_train = stdScaler.transform(X_train)\n",
    "X_test = stdScaler.transform(X_test)\n",
    "X_full = np.concatenate((X_train,X_test))"
   ]
  },
  {
   "cell_type": "markdown",
   "metadata": {
    "editable": false
   },
   "source": [
    "<a id='build_model'></a><div><img src=\"Images/IMG-gears.png\" style=\"float:left\"> <h2 style=\"position: relative; top: 6px; left:10px\">4. Modellauswahl</h2>\n",
    "<p style=\"position: relative; top: 10px\">\n",
    "Trainieren Sie einen Klassifikator zur Vorhersage des Überlebens eines Passagiers! Denken Sie unabhängig von der Art des gewählten Modells daran, alle Hyperparameter zu optimieren. \n",
    "</p>"
   ]
  },
  {
   "cell_type": "code",
   "execution_count": 232,
   "metadata": {},
   "outputs": [
    {
     "name": "stdout",
     "output_type": "stream",
     "text": [
      "Standard KNN - Training: 84.31 % Test: 81.50 %\n",
      "Fitting 20 folds for each of 396 candidates, totalling 7920 fits\n"
     ]
    },
    {
     "name": "stderr",
     "output_type": "stream",
     "text": [
      "[Parallel(n_jobs=-1)]: Using backend LokyBackend with 12 concurrent workers.\n",
      "[Parallel(n_jobs=-1)]: Done   1 tasks      | elapsed:    0.0s\n",
      "[Parallel(n_jobs=-1)]: Batch computation too fast (0.0241s.) Setting batch_size=2.\n",
      "[Parallel(n_jobs=-1)]: Done   8 tasks      | elapsed:    0.1s\n",
      "[Parallel(n_jobs=-1)]: Done  17 tasks      | elapsed:    0.1s\n",
      "[Parallel(n_jobs=-1)]: Batch computation too fast (0.0949s.) Setting batch_size=4.\n",
      "[Parallel(n_jobs=-1)]: Done  29 tasks      | elapsed:    0.1s\n",
      "[Parallel(n_jobs=-1)]: Done  50 tasks      | elapsed:    0.1s\n",
      "[Parallel(n_jobs=-1)]: Done  72 tasks      | elapsed:    0.2s\n",
      "[Parallel(n_jobs=-1)]: Batch computation too fast (0.0477s.) Setting batch_size=8.\n",
      "[Parallel(n_jobs=-1)]: Done 124 tasks      | elapsed:    0.3s\n",
      "[Parallel(n_jobs=-1)]: Batch computation too fast (0.1924s.) Setting batch_size=16.\n",
      "[Parallel(n_jobs=-1)]: Done 184 tasks      | elapsed:    0.4s\n",
      "[Parallel(n_jobs=-1)]: Done 304 tasks      | elapsed:    0.6s\n",
      "[Parallel(n_jobs=-1)]: Done 488 tasks      | elapsed:    0.9s\n",
      "[Parallel(n_jobs=-1)]: Done 760 tasks      | elapsed:    1.3s\n",
      "[Parallel(n_jobs=-1)]: Done 1032 tasks      | elapsed:    1.7s\n",
      "[Parallel(n_jobs=-1)]: Done 1336 tasks      | elapsed:    2.1s\n",
      "[Parallel(n_jobs=-1)]: Done 1640 tasks      | elapsed:    2.6s\n",
      "[Parallel(n_jobs=-1)]: Done 1976 tasks      | elapsed:    3.2s\n",
      "[Parallel(n_jobs=-1)]: Done 2312 tasks      | elapsed:    3.7s\n",
      "[Parallel(n_jobs=-1)]: Done 2680 tasks      | elapsed:    4.3s\n",
      "[Parallel(n_jobs=-1)]: Done 3048 tasks      | elapsed:    4.9s\n",
      "[Parallel(n_jobs=-1)]: Done 3448 tasks      | elapsed:    5.5s\n",
      "[Parallel(n_jobs=-1)]: Done 3848 tasks      | elapsed:    6.2s\n",
      "[Parallel(n_jobs=-1)]: Done 4280 tasks      | elapsed:    6.9s\n",
      "[Parallel(n_jobs=-1)]: Done 4712 tasks      | elapsed:    7.6s\n",
      "[Parallel(n_jobs=-1)]: Done 5176 tasks      | elapsed:    8.4s\n",
      "[Parallel(n_jobs=-1)]: Done 5640 tasks      | elapsed:    9.2s\n",
      "[Parallel(n_jobs=-1)]: Done 6136 tasks      | elapsed:   10.0s\n",
      "[Parallel(n_jobs=-1)]: Done 6632 tasks      | elapsed:   10.9s\n",
      "[Parallel(n_jobs=-1)]: Done 7160 tasks      | elapsed:   11.7s\n",
      "[Parallel(n_jobs=-1)]: Done 7688 tasks      | elapsed:   12.6s\n",
      "[Parallel(n_jobs=-1)]: Done 7828 tasks      | elapsed:   12.8s\n",
      "[Parallel(n_jobs=-1)]: Done 7920 out of 7920 | elapsed:   12.9s finished\n"
     ]
    },
    {
     "data": {
      "text/plain": [
       "GridSearchCV(cv=20, error_score=nan,\n",
       "             estimator=KNeighborsClassifier(algorithm='auto', leaf_size=30,\n",
       "                                            metric='minkowski',\n",
       "                                            metric_params=None, n_jobs=None,\n",
       "                                            n_neighbors=5, p=2,\n",
       "                                            weights='uniform'),\n",
       "             iid='deprecated', n_jobs=-1,\n",
       "             param_grid=[{'n_neighbors': array([ 1,  2,  3,  4,  5,  6,  7,  8,  9, 10, 11, 12, 13, 14, 15, 16, 17,\n",
       "       18, 19, 20, 21, 22, 23, 24, 25, 26, 27, 28, 29, 30, 31, 32, 33, 34,\n",
       "       35, 36, 37, 38, 39, 40, 41, 42, 43, 44, 45, 46, 47, 48, 49, 50, 51,\n",
       "       52, 53, 54, 55, 56, 57, 58, 59, 60, 61, 62, 63, 64, 65, 66, 67, 68,\n",
       "       69, 70, 71, 72, 73, 74, 75, 76, 77, 78, 79, 80, 81, 82, 83, 84, 85,\n",
       "       86, 87, 88, 89, 90, 91, 92, 93, 94, 95, 96, 97, 98, 99]),\n",
       "                          'p': [1, 2], 'weights': ['uniform', 'distance']}],\n",
       "             pre_dispatch='2*n_jobs', refit=True, return_train_score=False,\n",
       "             scoring=None, verbose=10)"
      ]
     },
     "execution_count": 232,
     "metadata": {},
     "output_type": "execute_result"
    }
   ],
   "source": [
    "# Importieren Sie das Objekt KNeighborsClassifier aus dem Modul neighbors im Paket sklearn\n",
    "from sklearn.neighbors import KNeighborsClassifier\n",
    "\n",
    "# Instanziieren Sie ein Objekt vom Type KNeighborsClassifier mit den Standardeinstellungen für alle Parameter\n",
    "knn_model = KNeighborsClassifier()\n",
    "# Trainieren (\"Fitten\") Sie das Modell\n",
    "knn_model.fit(X_train, y_train)\n",
    "\n",
    "# Trainingsgenauigkeit (in Prozent)\n",
    "train_score_knn = knn_model.score(X_train, y_train)*100\n",
    "# Testgenauigkeit (in Prozent)\n",
    "test_score_knn = knn_model.score(X_test, y_test)*100\n",
    "# Ausgabe der Performancemaße\n",
    "print(\"Standard KNN - Training: {:.2f} % Test: {:.2f} %\".format(train_score_knn, test_score_knn))\n",
    "\n",
    "\n",
    "# Importieren Sie das Objekt GridSearchCV aus dem Modul model_selection im Paket sklearn\n",
    "from sklearn.model_selection import GridSearchCV\n",
    "\n",
    "# Auswahl der zu testenden Hyperparameter (alle nicht spezifizierten bleiben auf dem Standardwert)\n",
    "param_grid_knn = [\n",
    "    {'n_neighbors': np.arange(1, 100, 1),  # Anzahl der Nachbarn; \"arange\" ist eine Numpy-Funktion zur Erzeugung einer Spanne\n",
    "     'weights': ['uniform', 'distance'], # Gewichtung der Nachbarn in Entscheidungsfindung\n",
    "     'p': [1, 2]},                       # Exponent der Abstandsfunktion (1: Manhattan; 2: Euklidisch)\n",
    "]\n",
    "\n",
    "# Instanziieren des Objekts \"GridSearchCV\"\n",
    "knn_model = GridSearchCV(KNeighborsClassifier(), # Klassifikator, der benutzt werden soll\n",
    "                         param_grid_knn,         # Hyperparametergitter\n",
    "                         cv=20,                   # Anzahl der Folds für Kreuzvalidierung\n",
    "                         verbose=10,             # Menge des Output während der Suche (größere Zahl -> mehr Info)\n",
    "                         n_jobs=-1               # Anzahl der parallel genutzen CPUs; -1: alle verfügbaren CPUs nutzen\n",
    "                        )\n",
    "\n",
    "# Trainieren Sie das Modell\n",
    "knn_model.fit(X_train, y_train)\n",
    "# Modell trainieren\n",
    "\n",
    "# Kreuzvalidierung zur Optimierung der Hyperparameter nicht vergessen!\n",
    "\n",
    "# Am Ende Modell mit optimalen Hyperparametern auf allen gelabelte Daten trainieren!"
   ]
  },
  {
   "cell_type": "code",
   "execution_count": 233,
   "metadata": {},
   "outputs": [
    {
     "name": "stdout",
     "output_type": "stream",
     "text": [
      "{'n_neighbors': 27, 'p': 1, 'weights': 'distance'}\n",
      "Tuned KNN - Training: 0.91 % Test: 0.83 %\n",
      "Tunned KNN parameters: {} {'n_neighbors': 27, 'p': 1, 'weights': 'distance'}\n"
     ]
    }
   ],
   "source": [
    "print(knn_model.best_params_)\n",
    "train_score_knn = knn_model.score(X_train,y_train)\n",
    "test_score_knn = knn_model.score(X_test,y_test)\n",
    "print(\"Tuned KNN - Training: {:.2f} % Test: {:.2f} %\".format(train_score_knn, test_score_knn))\n",
    "print(\"Tunned KNN parameters: {}\",format(knn_model.best_params_))"
   ]
  },
  {
   "cell_type": "code",
   "execution_count": 235,
   "metadata": {},
   "outputs": [
    {
     "name": "stdout",
     "output_type": "stream",
     "text": [
      "Support Vector Machine - Training: 0.77 % Test: 0.83 %\n",
      "Fitting 15 folds for each of 16 candidates, totalling 240 fits\n"
     ]
    },
    {
     "name": "stderr",
     "output_type": "stream",
     "text": [
      "[Parallel(n_jobs=-1)]: Using backend LokyBackend with 12 concurrent workers.\n",
      "[Parallel(n_jobs=-1)]: Done   1 tasks      | elapsed:    0.0s\n",
      "[Parallel(n_jobs=-1)]: Batch computation too fast (0.0130s.) Setting batch_size=2.\n",
      "[Parallel(n_jobs=-1)]: Done   8 tasks      | elapsed:    0.1s\n",
      "[Parallel(n_jobs=-1)]: Done  17 tasks      | elapsed:    0.1s\n",
      "[Parallel(n_jobs=-1)]: Batch computation too fast (0.1026s.) Setting batch_size=4.\n",
      "[Parallel(n_jobs=-1)]: Done  28 tasks      | elapsed:    0.1s\n",
      "[Parallel(n_jobs=-1)]: Done  50 tasks      | elapsed:    0.2s\n",
      "[Parallel(n_jobs=-1)]: Done  72 tasks      | elapsed:    0.3s\n",
      "[Parallel(n_jobs=-1)]: Batch computation too fast (0.1170s.) Setting batch_size=8.\n",
      "[Parallel(n_jobs=-1)]: Done 124 tasks      | elapsed:    0.4s\n",
      "[Parallel(n_jobs=-1)]: Done 164 tasks      | elapsed:    0.5s\n",
      "[Parallel(n_jobs=-1)]: Done 185 tasks      | elapsed:    0.6s\n",
      "[Parallel(n_jobs=-1)]: Done 200 tasks      | elapsed:    0.6s\n",
      "[Parallel(n_jobs=-1)]: Done 217 tasks      | elapsed:    0.7s\n",
      "[Parallel(n_jobs=-1)]: Done 240 out of 240 | elapsed:    0.7s finished\n"
     ]
    },
    {
     "data": {
      "text/plain": [
       "GridSearchCV(cv=15, error_score=nan,\n",
       "             estimator=SVC(C=1.0, break_ties=False, cache_size=200,\n",
       "                           class_weight=None, coef0=0.0,\n",
       "                           decision_function_shape='ovr', degree=3,\n",
       "                           gamma='scale', kernel='rbf', max_iter=-1,\n",
       "                           probability=False, random_state=None, shrinking=True,\n",
       "                           tol=0.001, verbose=False),\n",
       "             iid='deprecated', n_jobs=-1,\n",
       "             param_grid=[{'C': array([1.e-05, 1.e-04, 1.e-03, 1.e-02, 1.e-01, 1.e+00, 1.e+01, 1.e+02]),\n",
       "                          'kernel': ['linear', 'rbf']}],\n",
       "             pre_dispatch='2*n_jobs', refit=True, return_train_score=False,\n",
       "             scoring=None, verbose=10)"
      ]
     },
     "execution_count": 235,
     "metadata": {},
     "output_type": "execute_result"
    }
   ],
   "source": [
    "# Import des Objekts SVC aus dem Modul svm im Paket sklearn\n",
    "from sklearn.svm import SVC\n",
    "\n",
    "# Instanziieren eines Objekts\n",
    "svm_model = SVC()\n",
    "# Trainieren Sie das Modell\n",
    "svm_model.fit(X_train,y_train)\n",
    "# Berechnen Sie den Trainings- und Testscore in Prozent\n",
    "train_score_svm = svm_model.score(X_train,y_train)\n",
    "test_score_svm = svm_model.score(X_test,y_test)\n",
    "\n",
    "# Ausgabe der Performance\n",
    "print(\"Support Vector Machine - Training: {:.2f} % Test: {:.2f} %\".format(train_score_svm, test_score_svm))\n",
    "# Parametergitter aufstellen\n",
    "param_grid_svm = [\n",
    "    {'C': np.logspace(-5, 2, 8), # Die Numpy-Funktion \"logspace\" liefert eine logarithmische Zahlenreihe (z. B. [0.01, 0.1, 1, 10])\n",
    "     'kernel': ['linear', 'rbf']}\n",
    "]\n",
    "\n",
    "# Gittersuche aufsetzen\n",
    "svm_model = GridSearchCV(svm_model,param_grid_svm, \n",
    "                         cv=15,verbose=10,n_jobs=-1)\n",
    "# Gittersuche durchführen\n",
    "svm_model.fit(X_train,y_train)\n",
    "\n",
    "# # Gittersuche aufsetzen\n",
    "# svm_model = SVC()\n",
    "# # Gittersuche durchführen\n",
    "# svm_model = GridSearchCV(SVC(),param_grid_svm,scoring='r2',cv=4,verbose=10,n_jobs=-1).fit(X_train,y_train)\n",
    "\n",
    "# Modell trainieren\n",
    "\n",
    "# Kreuzvalidierung zur Optimierung der Hyperparameter nicht vergessen!\n",
    "\n",
    "# Am Ende Modell mit optimalen Hyperparametern auf allen gelabelte Daten trainieren!"
   ]
  },
  {
   "cell_type": "code",
   "execution_count": 236,
   "metadata": {},
   "outputs": [
    {
     "name": "stdout",
     "output_type": "stream",
     "text": [
      "Best param\n",
      "<bound method BaseEstimator.get_params of GridSearchCV(cv=15, error_score=nan,\n",
      "             estimator=SVC(C=1.0, break_ties=False, cache_size=200,\n",
      "                           class_weight=None, coef0=0.0,\n",
      "                           decision_function_shape='ovr', degree=3,\n",
      "                           gamma='scale', kernel='rbf', max_iter=-1,\n",
      "                           probability=False, random_state=None, shrinking=True,\n",
      "                           tol=0.001, verbose=False),\n",
      "             iid='deprecated', n_jobs=-1,\n",
      "             param_grid=[{'C': array([1.e-05, 1.e-04, 1.e-03, 1.e-02, 1.e-01, 1.e+00, 1.e+01, 1.e+02]),\n",
      "                          'kernel': ['linear', 'rbf']}],\n",
      "             pre_dispatch='2*n_jobs', refit=True, return_train_score=False,\n",
      "             scoring=None, verbose=10)>\n",
      "Tuned Support Vector Regression: Training R^2 = 0.77 Test R^2 = 0.83\n"
     ]
    }
   ],
   "source": [
    "# Ausgabe der besten gefundenen Hyperparameter\n",
    "print('Best param')\n",
    "print(svm_model.get_params)\n",
    "# Berechnen Sie den Trainings- und Testscore in Prozent\n",
    "train_score_svm = svm_model.score(X_train,y_train)\n",
    "test_score_svm = svm_model.score(X_test,y_test)\n",
    "\n",
    "# Ausgabe der Performance\n",
    "print(\"Tuned Support Vector Regression: Training R^2 = {:.2f} Test R^2 = {:.2f}\".format(train_score_svm, test_score_svm))\n"
   ]
  },
  {
   "cell_type": "code",
   "execution_count": 237,
   "metadata": {},
   "outputs": [
    {
     "name": "stdout",
     "output_type": "stream",
     "text": [
      "Fitting 15 folds for each of 84 candidates, totalling 1260 fits\n"
     ]
    },
    {
     "name": "stderr",
     "output_type": "stream",
     "text": [
      "[Parallel(n_jobs=-1)]: Using backend LokyBackend with 12 concurrent workers.\n",
      "[Parallel(n_jobs=-1)]: Done   1 tasks      | elapsed:    0.1s\n",
      "[Parallel(n_jobs=-1)]: Batch computation too fast (0.1040s.) Setting batch_size=2.\n",
      "[Parallel(n_jobs=-1)]: Done   8 tasks      | elapsed:    0.2s\n",
      "[Parallel(n_jobs=-1)]: Done  17 tasks      | elapsed:    0.3s\n",
      "[Parallel(n_jobs=-1)]: Done  28 tasks      | elapsed:    0.7s\n",
      "[Parallel(n_jobs=-1)]: Done  50 tasks      | elapsed:    3.3s\n",
      "[Parallel(n_jobs=-1)]: Batch computation too slow (2.2112s.) Setting batch_size=1.\n",
      "[Parallel(n_jobs=-1)]: Done  72 tasks      | elapsed:    6.5s\n",
      "[Parallel(n_jobs=-1)]: Done  98 tasks      | elapsed:    8.1s\n",
      "[Parallel(n_jobs=-1)]: Done 115 tasks      | elapsed:    8.9s\n",
      "[Parallel(n_jobs=-1)]: Done 133 tasks      | elapsed:   10.7s\n",
      "[Parallel(n_jobs=-1)]: Done 152 tasks      | elapsed:   13.1s\n",
      "[Parallel(n_jobs=-1)]: Done 169 tasks      | elapsed:   17.0s\n",
      "[Parallel(n_jobs=-1)]: Done 186 tasks      | elapsed:   18.0s\n",
      "[Parallel(n_jobs=-1)]: Done 205 tasks      | elapsed:   18.7s\n",
      "[Parallel(n_jobs=-1)]: Done 224 tasks      | elapsed:   19.5s\n",
      "[Parallel(n_jobs=-1)]: Done 245 tasks      | elapsed:   22.9s\n",
      "[Parallel(n_jobs=-1)]: Done 266 tasks      | elapsed:   26.7s\n",
      "[Parallel(n_jobs=-1)]: Done 289 tasks      | elapsed:   27.5s\n",
      "[Parallel(n_jobs=-1)]: Done 312 tasks      | elapsed:   28.4s\n",
      "[Parallel(n_jobs=-1)]: Done 337 tasks      | elapsed:   32.6s\n",
      "[Parallel(n_jobs=-1)]: Done 362 tasks      | elapsed:   36.8s\n",
      "[Parallel(n_jobs=-1)]: Done 389 tasks      | elapsed:   37.6s\n",
      "[Parallel(n_jobs=-1)]: Done 416 tasks      | elapsed:   39.3s\n",
      "[Parallel(n_jobs=-1)]: Done 445 tasks      | elapsed:   45.9s\n",
      "[Parallel(n_jobs=-1)]: Done 474 tasks      | elapsed:   47.4s\n",
      "[Parallel(n_jobs=-1)]: Done 505 tasks      | elapsed:   50.5s\n",
      "[Parallel(n_jobs=-1)]: Done 536 tasks      | elapsed:   57.2s\n",
      "[Parallel(n_jobs=-1)]: Done 569 tasks      | elapsed:   58.3s\n",
      "[Parallel(n_jobs=-1)]: Done 602 tasks      | elapsed:  1.0min\n",
      "[Parallel(n_jobs=-1)]: Done 637 tasks      | elapsed:  1.1min\n",
      "[Parallel(n_jobs=-1)]: Done 672 tasks      | elapsed:  1.1min\n",
      "[Parallel(n_jobs=-1)]: Done 709 tasks      | elapsed:  1.2min\n",
      "[Parallel(n_jobs=-1)]: Done 746 tasks      | elapsed:  1.3min\n",
      "[Parallel(n_jobs=-1)]: Done 785 tasks      | elapsed:  1.3min\n",
      "[Parallel(n_jobs=-1)]: Done 824 tasks      | elapsed:  1.4min\n",
      "[Parallel(n_jobs=-1)]: Done 865 tasks      | elapsed:  1.4min\n",
      "[Parallel(n_jobs=-1)]: Done 906 tasks      | elapsed:  1.5min\n",
      "[Parallel(n_jobs=-1)]: Done 949 tasks      | elapsed:  1.6min\n",
      "[Parallel(n_jobs=-1)]: Done 992 tasks      | elapsed:  1.7min\n",
      "[Parallel(n_jobs=-1)]: Done 1037 tasks      | elapsed:  1.7min\n",
      "[Parallel(n_jobs=-1)]: Done 1082 tasks      | elapsed:  1.9min\n",
      "[Parallel(n_jobs=-1)]: Done 1129 tasks      | elapsed:  1.9min\n",
      "[Parallel(n_jobs=-1)]: Done 1176 tasks      | elapsed:  2.1min\n",
      "[Parallel(n_jobs=-1)]: Done 1225 tasks      | elapsed:  2.1min\n",
      "[Parallel(n_jobs=-1)]: Done 1260 out of 1260 | elapsed:  2.3min finished\n",
      "/Users/maciejwlasniak/opt/anaconda3/lib/python3.7/site-packages/sklearn/neural_network/_multilayer_perceptron.py:571: ConvergenceWarning: Stochastic Optimizer: Maximum iterations (200) reached and the optimization hasn't converged yet.\n",
      "  % self.max_iter, ConvergenceWarning)\n"
     ]
    },
    {
     "data": {
      "text/plain": [
       "GridSearchCV(cv=15, error_score=nan,\n",
       "             estimator=MLPClassifier(activation='relu', alpha=0.0001,\n",
       "                                     batch_size='auto', beta_1=0.9,\n",
       "                                     beta_2=0.999, early_stopping=False,\n",
       "                                     epsilon=1e-08, hidden_layer_sizes=(100,),\n",
       "                                     learning_rate='constant',\n",
       "                                     learning_rate_init=0.001, max_fun=15000,\n",
       "                                     max_iter=200, momentum=0.9,\n",
       "                                     n_iter_no_change=10,\n",
       "                                     nesterovs_momentum=True, power_t=0.5,\n",
       "                                     random_stat...\n",
       "                                     warm_start=False),\n",
       "             iid='deprecated', n_jobs=-1,\n",
       "             param_grid=[{'activation': ['tanh', 'relu'],\n",
       "                          'alpha': array([1.e-05, 1.e-04, 1.e-03, 1.e-02, 1.e-01, 1.e+00, 1.e+01]),\n",
       "                          'early_stopping': [True, False],\n",
       "                          'hidden_layer_sizes': [(100, 50), (100, 100, 50),\n",
       "                                                 (100, 100, 100, 50)],\n",
       "                          'learning_rate': ['adaptive']}],\n",
       "             pre_dispatch='2*n_jobs', refit=True, return_train_score=False,\n",
       "             scoring=None, verbose=10)"
      ]
     },
     "execution_count": 237,
     "metadata": {},
     "output_type": "execute_result"
    }
   ],
   "source": [
    "# Import des Objekts MLPClassifier aus dem Modul neural_network im Paket sklearn\n",
    "from sklearn.neural_network import MLPClassifier\n",
    "\n",
    "mlp_model = MLPClassifier()\n",
    "# Neuronale Netze haben immer viele Hyperparameter. Hier soll nur eine kleine Auswahl untersucht werden\n",
    "param_grid_mlp = [\n",
    "    {\n",
    "        'hidden_layer_sizes': [(100, 50), (100, 100, 50), (100, 100, 100, 50)],\n",
    "        'alpha': np.logspace(-5, 1, 7),\n",
    "        'activation': ['tanh', 'relu'],\n",
    "        'early_stopping': [True, False],\n",
    "        'learning_rate': ['adaptive'],\n",
    "    }    \n",
    "]\n",
    "\n",
    "# Gittersuche aufsetzen\n",
    "mlp_model = GridSearchCV(mlp_model,param_grid_mlp,cv=15,verbose=10,n_jobs=-1)\n",
    "# Gittersuche durchführen\n",
    "mlp_model.fit(X_train,y_train)"
   ]
  },
  {
   "cell_type": "code",
   "execution_count": 238,
   "metadata": {},
   "outputs": [
    {
     "name": "stdout",
     "output_type": "stream",
     "text": [
      "{'activation': 'relu', 'alpha': 1.0, 'early_stopping': False, 'hidden_layer_sizes': (100, 50), 'learning_rate': 'adaptive'}\n",
      "MLPClassifier: Training R^2 = 0.78 Test R^2 = 0.86\n"
     ]
    }
   ],
   "source": [
    "# Ausgabe der besten gefundenen Hyperparameter\n",
    "print(mlp_model.best_params_)\n",
    "\n",
    "# Berechnen Sie den Trainings- und Testscore in Prozent\n",
    "train_score_mlp = mlp_model.score(X_train,y_train)\n",
    "test_score_mlp = mlp_model.score(X_test,y_test)\n",
    "\n",
    "# Ausgabe der Performance\n",
    "print(\"MLPClassifier: Training R^2 = {:.2f} Test R^2 = {:.2f}\".format(train_score_mlp, test_score_mlp))\n"
   ]
  },
  {
   "cell_type": "code",
   "execution_count": 239,
   "metadata": {},
   "outputs": [
    {
     "name": "stdout",
     "output_type": "stream",
     "text": [
      "KNN: 0.83 %\n",
      "SVM: 0.83 %\n",
      "MLP: 0.86 %\n"
     ]
    }
   ],
   "source": [
    "print(\"KNN: {:.2f} %\".format(test_score_knn))\n",
    "print(\"SVM: {:.2f} %\".format(test_score_svm))\n",
    "print(\"MLP: {:.2f} %\".format(test_score_mlp))"
   ]
  },
  {
   "cell_type": "code",
   "execution_count": 243,
   "metadata": {},
   "outputs": [
    {
     "name": "stdout",
     "output_type": "stream",
     "text": [
      "Fitting 15 folds for each of 84 candidates, totalling 1260 fits\n"
     ]
    },
    {
     "name": "stderr",
     "output_type": "stream",
     "text": [
      "[Parallel(n_jobs=-1)]: Using backend LokyBackend with 12 concurrent workers.\n",
      "[Parallel(n_jobs=-1)]: Done   1 tasks      | elapsed:    0.1s\n",
      "[Parallel(n_jobs=-1)]: Batch computation too fast (0.1409s.) Setting batch_size=2.\n",
      "[Parallel(n_jobs=-1)]: Done   2 tasks      | elapsed:    0.2s\n",
      "[Parallel(n_jobs=-1)]: Done   3 tasks      | elapsed:    0.2s\n",
      "[Parallel(n_jobs=-1)]: Done   4 tasks      | elapsed:    0.2s\n",
      "[Parallel(n_jobs=-1)]: Done   5 tasks      | elapsed:    0.2s\n",
      "[Parallel(n_jobs=-1)]: Done   6 tasks      | elapsed:    0.2s\n",
      "[Parallel(n_jobs=-1)]: Done   7 tasks      | elapsed:    0.2s\n",
      "[Parallel(n_jobs=-1)]: Done   8 tasks      | elapsed:    0.2s\n",
      "[Parallel(n_jobs=-1)]: Done   9 tasks      | elapsed:    0.2s\n",
      "[Parallel(n_jobs=-1)]: Done  10 tasks      | elapsed:    0.2s\n",
      "[Parallel(n_jobs=-1)]: Done  11 tasks      | elapsed:    0.2s\n",
      "[Parallel(n_jobs=-1)]: Done  12 tasks      | elapsed:    0.2s\n",
      "[Parallel(n_jobs=-1)]: Done  13 tasks      | elapsed:    0.2s\n",
      "[Parallel(n_jobs=-1)]: Done  14 tasks      | elapsed:    0.2s\n",
      "[Parallel(n_jobs=-1)]: Done  15 tasks      | elapsed:    0.2s\n",
      "[Parallel(n_jobs=-1)]: Done  16 tasks      | elapsed:    0.2s\n",
      "[Parallel(n_jobs=-1)]: Done  17 tasks      | elapsed:    0.2s\n",
      "[Parallel(n_jobs=-1)]: Done  18 tasks      | elapsed:    0.2s\n",
      "[Parallel(n_jobs=-1)]: Done  19 tasks      | elapsed:    0.2s\n",
      "[Parallel(n_jobs=-1)]: Done  20 tasks      | elapsed:    0.2s\n",
      "[Parallel(n_jobs=-1)]: Done  21 tasks      | elapsed:    0.2s\n",
      "[Parallel(n_jobs=-1)]: Done  22 tasks      | elapsed:    0.2s\n",
      "[Parallel(n_jobs=-1)]: Done  23 tasks      | elapsed:    0.2s\n",
      "[Parallel(n_jobs=-1)]: Done  24 tasks      | elapsed:    0.2s\n"
     ]
    },
    {
     "ename": "TerminatedWorkerError",
     "evalue": "A worker process managed by the executor was unexpectedly terminated. This could be caused by a segmentation fault while calling the function or by an excessive memory usage causing the Operating System to kill the worker. The exit codes of the workers are {SIGABRT(-6), SIGABRT(-6), SIGABRT(-6), SIGABRT(-6), SIGABRT(-6), SIGABRT(-6), SIGABRT(-6), SIGABRT(-6), SIGABRT(-6), SIGABRT(-6), SIGABRT(-6), SIGABRT(-6)}",
     "output_type": "error",
     "traceback": [
      "\u001b[0;31m---------------------------------------------------------------------------\u001b[0m",
      "\u001b[0;31mTerminatedWorkerError\u001b[0m                     Traceback (most recent call last)",
      "\u001b[0;32m<ipython-input-243-31ea6799086a>\u001b[0m in \u001b[0;36m<module>\u001b[0;34m\u001b[0m\n\u001b[1;32m      1\u001b[0m \u001b[0;31m#SVM choice\u001b[0m\u001b[0;34m\u001b[0m\u001b[0;34m\u001b[0m\u001b[0;34m\u001b[0m\u001b[0m\n\u001b[0;32m----> 2\u001b[0;31m \u001b[0mmlp_model\u001b[0m\u001b[0;34m.\u001b[0m\u001b[0mfit\u001b[0m\u001b[0;34m(\u001b[0m\u001b[0mX_full\u001b[0m\u001b[0;34m,\u001b[0m\u001b[0my\u001b[0m\u001b[0;34m)\u001b[0m\u001b[0;34m\u001b[0m\u001b[0;34m\u001b[0m\u001b[0m\n\u001b[0m\u001b[1;32m      3\u001b[0m \u001b[0;31m# Ausgabe der besten gefundenen Hyperparameter\u001b[0m\u001b[0;34m\u001b[0m\u001b[0;34m\u001b[0m\u001b[0;34m\u001b[0m\u001b[0m\n\u001b[1;32m      4\u001b[0m \u001b[0mprint\u001b[0m\u001b[0;34m(\u001b[0m\u001b[0;34m'Best param'\u001b[0m\u001b[0;34m)\u001b[0m\u001b[0;34m\u001b[0m\u001b[0;34m\u001b[0m\u001b[0m\n\u001b[1;32m      5\u001b[0m \u001b[0;34m\u001b[0m\u001b[0m\n",
      "\u001b[0;32m~/opt/anaconda3/lib/python3.7/site-packages/sklearn/model_selection/_search.py\u001b[0m in \u001b[0;36mfit\u001b[0;34m(self, X, y, groups, **fit_params)\u001b[0m\n\u001b[1;32m    708\u001b[0m                 \u001b[0;32mreturn\u001b[0m \u001b[0mresults\u001b[0m\u001b[0;34m\u001b[0m\u001b[0;34m\u001b[0m\u001b[0m\n\u001b[1;32m    709\u001b[0m \u001b[0;34m\u001b[0m\u001b[0m\n\u001b[0;32m--> 710\u001b[0;31m             \u001b[0mself\u001b[0m\u001b[0;34m.\u001b[0m\u001b[0m_run_search\u001b[0m\u001b[0;34m(\u001b[0m\u001b[0mevaluate_candidates\u001b[0m\u001b[0;34m)\u001b[0m\u001b[0;34m\u001b[0m\u001b[0;34m\u001b[0m\u001b[0m\n\u001b[0m\u001b[1;32m    711\u001b[0m \u001b[0;34m\u001b[0m\u001b[0m\n\u001b[1;32m    712\u001b[0m         \u001b[0;31m# For multi-metric evaluation, store the best_index_, best_params_ and\u001b[0m\u001b[0;34m\u001b[0m\u001b[0;34m\u001b[0m\u001b[0;34m\u001b[0m\u001b[0m\n",
      "\u001b[0;32m~/opt/anaconda3/lib/python3.7/site-packages/sklearn/model_selection/_search.py\u001b[0m in \u001b[0;36m_run_search\u001b[0;34m(self, evaluate_candidates)\u001b[0m\n\u001b[1;32m   1149\u001b[0m     \u001b[0;32mdef\u001b[0m \u001b[0m_run_search\u001b[0m\u001b[0;34m(\u001b[0m\u001b[0mself\u001b[0m\u001b[0;34m,\u001b[0m \u001b[0mevaluate_candidates\u001b[0m\u001b[0;34m)\u001b[0m\u001b[0;34m:\u001b[0m\u001b[0;34m\u001b[0m\u001b[0;34m\u001b[0m\u001b[0m\n\u001b[1;32m   1150\u001b[0m         \u001b[0;34m\"\"\"Search all candidates in param_grid\"\"\"\u001b[0m\u001b[0;34m\u001b[0m\u001b[0;34m\u001b[0m\u001b[0m\n\u001b[0;32m-> 1151\u001b[0;31m         \u001b[0mevaluate_candidates\u001b[0m\u001b[0;34m(\u001b[0m\u001b[0mParameterGrid\u001b[0m\u001b[0;34m(\u001b[0m\u001b[0mself\u001b[0m\u001b[0;34m.\u001b[0m\u001b[0mparam_grid\u001b[0m\u001b[0;34m)\u001b[0m\u001b[0;34m)\u001b[0m\u001b[0;34m\u001b[0m\u001b[0;34m\u001b[0m\u001b[0m\n\u001b[0m\u001b[1;32m   1152\u001b[0m \u001b[0;34m\u001b[0m\u001b[0m\n\u001b[1;32m   1153\u001b[0m \u001b[0;34m\u001b[0m\u001b[0m\n",
      "\u001b[0;32m~/opt/anaconda3/lib/python3.7/site-packages/sklearn/model_selection/_search.py\u001b[0m in \u001b[0;36mevaluate_candidates\u001b[0;34m(candidate_params)\u001b[0m\n\u001b[1;32m    687\u001b[0m                                \u001b[0;32mfor\u001b[0m \u001b[0mparameters\u001b[0m\u001b[0;34m,\u001b[0m \u001b[0;34m(\u001b[0m\u001b[0mtrain\u001b[0m\u001b[0;34m,\u001b[0m \u001b[0mtest\u001b[0m\u001b[0;34m)\u001b[0m\u001b[0;34m\u001b[0m\u001b[0;34m\u001b[0m\u001b[0m\n\u001b[1;32m    688\u001b[0m                                in product(candidate_params,\n\u001b[0;32m--> 689\u001b[0;31m                                           cv.split(X, y, groups)))\n\u001b[0m\u001b[1;32m    690\u001b[0m \u001b[0;34m\u001b[0m\u001b[0m\n\u001b[1;32m    691\u001b[0m                 \u001b[0;32mif\u001b[0m \u001b[0mlen\u001b[0m\u001b[0;34m(\u001b[0m\u001b[0mout\u001b[0m\u001b[0;34m)\u001b[0m \u001b[0;34m<\u001b[0m \u001b[0;36m1\u001b[0m\u001b[0;34m:\u001b[0m\u001b[0;34m\u001b[0m\u001b[0;34m\u001b[0m\u001b[0m\n",
      "\u001b[0;32m~/opt/anaconda3/lib/python3.7/site-packages/joblib/parallel.py\u001b[0m in \u001b[0;36m__call__\u001b[0;34m(self, iterable)\u001b[0m\n\u001b[1;32m   1015\u001b[0m \u001b[0;34m\u001b[0m\u001b[0m\n\u001b[1;32m   1016\u001b[0m             \u001b[0;32mwith\u001b[0m \u001b[0mself\u001b[0m\u001b[0;34m.\u001b[0m\u001b[0m_backend\u001b[0m\u001b[0;34m.\u001b[0m\u001b[0mretrieval_context\u001b[0m\u001b[0;34m(\u001b[0m\u001b[0;34m)\u001b[0m\u001b[0;34m:\u001b[0m\u001b[0;34m\u001b[0m\u001b[0;34m\u001b[0m\u001b[0m\n\u001b[0;32m-> 1017\u001b[0;31m                 \u001b[0mself\u001b[0m\u001b[0;34m.\u001b[0m\u001b[0mretrieve\u001b[0m\u001b[0;34m(\u001b[0m\u001b[0;34m)\u001b[0m\u001b[0;34m\u001b[0m\u001b[0;34m\u001b[0m\u001b[0m\n\u001b[0m\u001b[1;32m   1018\u001b[0m             \u001b[0;31m# Make sure that we get a last message telling us we are done\u001b[0m\u001b[0;34m\u001b[0m\u001b[0;34m\u001b[0m\u001b[0;34m\u001b[0m\u001b[0m\n\u001b[1;32m   1019\u001b[0m             \u001b[0melapsed_time\u001b[0m \u001b[0;34m=\u001b[0m \u001b[0mtime\u001b[0m\u001b[0;34m.\u001b[0m\u001b[0mtime\u001b[0m\u001b[0;34m(\u001b[0m\u001b[0;34m)\u001b[0m \u001b[0;34m-\u001b[0m \u001b[0mself\u001b[0m\u001b[0;34m.\u001b[0m\u001b[0m_start_time\u001b[0m\u001b[0;34m\u001b[0m\u001b[0;34m\u001b[0m\u001b[0m\n",
      "\u001b[0;32m~/opt/anaconda3/lib/python3.7/site-packages/joblib/parallel.py\u001b[0m in \u001b[0;36mretrieve\u001b[0;34m(self)\u001b[0m\n\u001b[1;32m    907\u001b[0m             \u001b[0;32mtry\u001b[0m\u001b[0;34m:\u001b[0m\u001b[0;34m\u001b[0m\u001b[0;34m\u001b[0m\u001b[0m\n\u001b[1;32m    908\u001b[0m                 \u001b[0;32mif\u001b[0m \u001b[0mgetattr\u001b[0m\u001b[0;34m(\u001b[0m\u001b[0mself\u001b[0m\u001b[0;34m.\u001b[0m\u001b[0m_backend\u001b[0m\u001b[0;34m,\u001b[0m \u001b[0;34m'supports_timeout'\u001b[0m\u001b[0;34m,\u001b[0m \u001b[0;32mFalse\u001b[0m\u001b[0;34m)\u001b[0m\u001b[0;34m:\u001b[0m\u001b[0;34m\u001b[0m\u001b[0;34m\u001b[0m\u001b[0m\n\u001b[0;32m--> 909\u001b[0;31m                     \u001b[0mself\u001b[0m\u001b[0;34m.\u001b[0m\u001b[0m_output\u001b[0m\u001b[0;34m.\u001b[0m\u001b[0mextend\u001b[0m\u001b[0;34m(\u001b[0m\u001b[0mjob\u001b[0m\u001b[0;34m.\u001b[0m\u001b[0mget\u001b[0m\u001b[0;34m(\u001b[0m\u001b[0mtimeout\u001b[0m\u001b[0;34m=\u001b[0m\u001b[0mself\u001b[0m\u001b[0;34m.\u001b[0m\u001b[0mtimeout\u001b[0m\u001b[0;34m)\u001b[0m\u001b[0;34m)\u001b[0m\u001b[0;34m\u001b[0m\u001b[0;34m\u001b[0m\u001b[0m\n\u001b[0m\u001b[1;32m    910\u001b[0m                 \u001b[0;32melse\u001b[0m\u001b[0;34m:\u001b[0m\u001b[0;34m\u001b[0m\u001b[0;34m\u001b[0m\u001b[0m\n\u001b[1;32m    911\u001b[0m                     \u001b[0mself\u001b[0m\u001b[0;34m.\u001b[0m\u001b[0m_output\u001b[0m\u001b[0;34m.\u001b[0m\u001b[0mextend\u001b[0m\u001b[0;34m(\u001b[0m\u001b[0mjob\u001b[0m\u001b[0;34m.\u001b[0m\u001b[0mget\u001b[0m\u001b[0;34m(\u001b[0m\u001b[0;34m)\u001b[0m\u001b[0;34m)\u001b[0m\u001b[0;34m\u001b[0m\u001b[0;34m\u001b[0m\u001b[0m\n",
      "\u001b[0;32m~/opt/anaconda3/lib/python3.7/site-packages/joblib/_parallel_backends.py\u001b[0m in \u001b[0;36mwrap_future_result\u001b[0;34m(future, timeout)\u001b[0m\n\u001b[1;32m    560\u001b[0m         AsyncResults.get from multiprocessing.\"\"\"\n\u001b[1;32m    561\u001b[0m         \u001b[0;32mtry\u001b[0m\u001b[0;34m:\u001b[0m\u001b[0;34m\u001b[0m\u001b[0;34m\u001b[0m\u001b[0m\n\u001b[0;32m--> 562\u001b[0;31m             \u001b[0;32mreturn\u001b[0m \u001b[0mfuture\u001b[0m\u001b[0;34m.\u001b[0m\u001b[0mresult\u001b[0m\u001b[0;34m(\u001b[0m\u001b[0mtimeout\u001b[0m\u001b[0;34m=\u001b[0m\u001b[0mtimeout\u001b[0m\u001b[0;34m)\u001b[0m\u001b[0;34m\u001b[0m\u001b[0;34m\u001b[0m\u001b[0m\n\u001b[0m\u001b[1;32m    563\u001b[0m         \u001b[0;32mexcept\u001b[0m \u001b[0mLokyTimeoutError\u001b[0m\u001b[0;34m:\u001b[0m\u001b[0;34m\u001b[0m\u001b[0;34m\u001b[0m\u001b[0m\n\u001b[1;32m    564\u001b[0m             \u001b[0;32mraise\u001b[0m \u001b[0mTimeoutError\u001b[0m\u001b[0;34m(\u001b[0m\u001b[0;34m)\u001b[0m\u001b[0;34m\u001b[0m\u001b[0;34m\u001b[0m\u001b[0m\n",
      "\u001b[0;32m~/opt/anaconda3/lib/python3.7/concurrent/futures/_base.py\u001b[0m in \u001b[0;36mresult\u001b[0;34m(self, timeout)\u001b[0m\n\u001b[1;32m    433\u001b[0m                 \u001b[0;32mraise\u001b[0m \u001b[0mCancelledError\u001b[0m\u001b[0;34m(\u001b[0m\u001b[0;34m)\u001b[0m\u001b[0;34m\u001b[0m\u001b[0;34m\u001b[0m\u001b[0m\n\u001b[1;32m    434\u001b[0m             \u001b[0;32melif\u001b[0m \u001b[0mself\u001b[0m\u001b[0;34m.\u001b[0m\u001b[0m_state\u001b[0m \u001b[0;34m==\u001b[0m \u001b[0mFINISHED\u001b[0m\u001b[0;34m:\u001b[0m\u001b[0;34m\u001b[0m\u001b[0;34m\u001b[0m\u001b[0m\n\u001b[0;32m--> 435\u001b[0;31m                 \u001b[0;32mreturn\u001b[0m \u001b[0mself\u001b[0m\u001b[0;34m.\u001b[0m\u001b[0m__get_result\u001b[0m\u001b[0;34m(\u001b[0m\u001b[0;34m)\u001b[0m\u001b[0;34m\u001b[0m\u001b[0;34m\u001b[0m\u001b[0m\n\u001b[0m\u001b[1;32m    436\u001b[0m             \u001b[0;32melse\u001b[0m\u001b[0;34m:\u001b[0m\u001b[0;34m\u001b[0m\u001b[0;34m\u001b[0m\u001b[0m\n\u001b[1;32m    437\u001b[0m                 \u001b[0;32mraise\u001b[0m \u001b[0mTimeoutError\u001b[0m\u001b[0;34m(\u001b[0m\u001b[0;34m)\u001b[0m\u001b[0;34m\u001b[0m\u001b[0;34m\u001b[0m\u001b[0m\n",
      "\u001b[0;32m~/opt/anaconda3/lib/python3.7/concurrent/futures/_base.py\u001b[0m in \u001b[0;36m__get_result\u001b[0;34m(self)\u001b[0m\n\u001b[1;32m    382\u001b[0m     \u001b[0;32mdef\u001b[0m \u001b[0m__get_result\u001b[0m\u001b[0;34m(\u001b[0m\u001b[0mself\u001b[0m\u001b[0;34m)\u001b[0m\u001b[0;34m:\u001b[0m\u001b[0;34m\u001b[0m\u001b[0;34m\u001b[0m\u001b[0m\n\u001b[1;32m    383\u001b[0m         \u001b[0;32mif\u001b[0m \u001b[0mself\u001b[0m\u001b[0;34m.\u001b[0m\u001b[0m_exception\u001b[0m\u001b[0;34m:\u001b[0m\u001b[0;34m\u001b[0m\u001b[0;34m\u001b[0m\u001b[0m\n\u001b[0;32m--> 384\u001b[0;31m             \u001b[0;32mraise\u001b[0m \u001b[0mself\u001b[0m\u001b[0;34m.\u001b[0m\u001b[0m_exception\u001b[0m\u001b[0;34m\u001b[0m\u001b[0;34m\u001b[0m\u001b[0m\n\u001b[0m\u001b[1;32m    385\u001b[0m         \u001b[0;32melse\u001b[0m\u001b[0;34m:\u001b[0m\u001b[0;34m\u001b[0m\u001b[0;34m\u001b[0m\u001b[0m\n\u001b[1;32m    386\u001b[0m             \u001b[0;32mreturn\u001b[0m \u001b[0mself\u001b[0m\u001b[0;34m.\u001b[0m\u001b[0m_result\u001b[0m\u001b[0;34m\u001b[0m\u001b[0;34m\u001b[0m\u001b[0m\n",
      "\u001b[0;31mTerminatedWorkerError\u001b[0m: A worker process managed by the executor was unexpectedly terminated. This could be caused by a segmentation fault while calling the function or by an excessive memory usage causing the Operating System to kill the worker. The exit codes of the workers are {SIGABRT(-6), SIGABRT(-6), SIGABRT(-6), SIGABRT(-6), SIGABRT(-6), SIGABRT(-6), SIGABRT(-6), SIGABRT(-6), SIGABRT(-6), SIGABRT(-6), SIGABRT(-6), SIGABRT(-6)}"
     ]
    }
   ],
   "source": [
    "#SVM choice \n",
    "mlp_model.fit(X_full,y)\n",
    "# Ausgabe der besten gefundenen Hyperparameter\n",
    "print('Best param')\n",
    "\n",
    "# Berechnen Sie den Trainings- und Testscore in Prozent\n",
    "train_score_mlp = mlp_model.score(X_train,y_train)\n",
    "test_score_mlp = mlp_model.score(X_test,y_test)\n",
    "\n",
    "# Ausgabe der Performance\n",
    "print(\"Tuned Support Vector Regression: Training R^2 = {:.2f} Test R^2 = {:.2f}\".format(train_score_mlp, test_score_mlp))\n"
   ]
  },
  {
   "cell_type": "markdown",
   "metadata": {
    "editable": false
   },
   "source": [
    "<a id='make_predictions'></a><div><img src=\"Images/IMG-alert.png\" style=\"float:left\"> <h2 style=\"position: relative; top: 6px; left:10px\">5. Vorhersagen treffen</h2>\n",
    "<p style=\"position: relative; top: 10px\">\n",
    "Verwenden Sie Ihr trainiertes Modell, um für alle ungelabelten Beobachtungen aus \"titanic_test.csv\" eine Vorhersage des Überlebens zu treffen!\n",
    "\n",
    "Denken Sie daran, die Daten vorher auf die <strong>exakt gleiche Weise</strong> aufzubereiten, wie Sie es mit den Trainingsdaten getan haben.\n",
    "</p>"
   ]
  },
  {
   "cell_type": "code",
   "execution_count": 227,
   "metadata": {},
   "outputs": [
    {
     "name": "stdout",
     "output_type": "stream",
     "text": [
      "Index(['Name', 'Age', 'Siblings_SpousesAboard', 'Parents_ChildrenAboard'], dtype='object')\n"
     ]
    },
    {
     "data": {
      "text/html": [
       "<div>\n",
       "<style scoped>\n",
       "    .dataframe tbody tr th:only-of-type {\n",
       "        vertical-align: middle;\n",
       "    }\n",
       "\n",
       "    .dataframe tbody tr th {\n",
       "        vertical-align: top;\n",
       "    }\n",
       "\n",
       "    .dataframe thead th {\n",
       "        text-align: right;\n",
       "    }\n",
       "</style>\n",
       "<table border=\"1\" class=\"dataframe\">\n",
       "  <thead>\n",
       "    <tr style=\"text-align: right;\">\n",
       "      <th></th>\n",
       "      <th>Pclass</th>\n",
       "      <th>Sex</th>\n",
       "      <th>Fare</th>\n",
       "    </tr>\n",
       "  </thead>\n",
       "  <tbody>\n",
       "    <tr>\n",
       "      <th>count</th>\n",
       "      <td>88.000000</td>\n",
       "      <td>88.000000</td>\n",
       "      <td>88.000000</td>\n",
       "    </tr>\n",
       "    <tr>\n",
       "      <th>mean</th>\n",
       "      <td>2.159091</td>\n",
       "      <td>0.568182</td>\n",
       "      <td>26.136507</td>\n",
       "    </tr>\n",
       "    <tr>\n",
       "      <th>std</th>\n",
       "      <td>0.828880</td>\n",
       "      <td>0.498168</td>\n",
       "      <td>25.727894</td>\n",
       "    </tr>\n",
       "    <tr>\n",
       "      <th>min</th>\n",
       "      <td>1.000000</td>\n",
       "      <td>0.000000</td>\n",
       "      <td>0.000000</td>\n",
       "    </tr>\n",
       "    <tr>\n",
       "      <th>25%</th>\n",
       "      <td>1.000000</td>\n",
       "      <td>0.000000</td>\n",
       "      <td>8.050000</td>\n",
       "    </tr>\n",
       "    <tr>\n",
       "      <th>50%</th>\n",
       "      <td>2.000000</td>\n",
       "      <td>1.000000</td>\n",
       "      <td>13.250000</td>\n",
       "    </tr>\n",
       "    <tr>\n",
       "      <th>75%</th>\n",
       "      <td>3.000000</td>\n",
       "      <td>1.000000</td>\n",
       "      <td>31.068750</td>\n",
       "    </tr>\n",
       "    <tr>\n",
       "      <th>max</th>\n",
       "      <td>3.000000</td>\n",
       "      <td>1.000000</td>\n",
       "      <td>120.000000</td>\n",
       "    </tr>\n",
       "  </tbody>\n",
       "</table>\n",
       "</div>"
      ],
      "text/plain": [
       "          Pclass        Sex        Fare\n",
       "count  88.000000  88.000000   88.000000\n",
       "mean    2.159091   0.568182   26.136507\n",
       "std     0.828880   0.498168   25.727894\n",
       "min     1.000000   0.000000    0.000000\n",
       "25%     1.000000   0.000000    8.050000\n",
       "50%     2.000000   1.000000   13.250000\n",
       "75%     3.000000   1.000000   31.068750\n",
       "max     3.000000   1.000000  120.000000"
      ]
     },
     "execution_count": 227,
     "metadata": {},
     "output_type": "execute_result"
    }
   ],
   "source": [
    "# Vorverabeitung der Testdaten (exakt wie Vorverarbeitung von Trainingsdaten!)\n",
    "pred_data = pd.read_csv('Data/titanic_test.csv',sep=',')\n",
    "pred_data.drop(columns = col_to_drop , inplace=True)\n",
    "print(col_to_drop.columns)\n",
    "#Converting to num type\n",
    "\n",
    "pred_data['Sex'] = pred_data['Sex'].astype('category')\n",
    "pred_data['Sex'] = pred_data['Sex'].cat.codes\n",
    "\n",
    "pred_data.describe()\n",
    "\n"
   ]
  },
  {
   "cell_type": "code",
   "execution_count": 241,
   "metadata": {},
   "outputs": [
    {
     "name": "stdout",
     "output_type": "stream",
     "text": [
      "[0 0 1 0 0 0 0 0 0 0 1 0 1 0 0 1 0 0 0 1 1 0 1 0 0 0 0 1 1 0 0 1 0 0 0 0 1\n",
      " 0 0 1 0 0 1 0 0 0 0 0 1 0 1 0 0 0 1 0 0 0 0 1 0 0 0 0 0 1 0 1 0 0 0 0 1 0\n",
      " 0 0 1 0 1 1 0 0 1 0 1 0 1 0]\n"
     ]
    }
   ],
   "source": [
    "\n",
    "pred_stdScaler = StandardScaler()\n",
    "\n",
    "# Berechnen Sie die Standardisierungsparameter auf dem Trainingsset (!) X_train mit Hilfe der Funktion \"fit()\"\n",
    "pred_stdScaler.fit(pred_data)\n",
    "# Wenden Sie die **selbe** Standardisierung mit Hilfe der Methode transform() auf die Trainings- und Testdaten an\n",
    "pred_data = pred_stdScaler.transform(pred_data)\n",
    "\n",
    "prediction = mlp_model.predict(pred_data)\n",
    "\n",
    "print(prediction)\n",
    "# Vorhersagen treffen"
   ]
  },
  {
   "cell_type": "markdown",
   "metadata": {
    "editable": false
   },
   "source": [
    "<a id='save_predictions'></a><div><img src=\"Images/IMG-csv-out.png\" style=\"float:left\"> <h2 style=\"position: relative; top: 6px; left:10px\">6. Vorhersagen speichern</h2>\n",
    "<p style=\"position: relative; top: 10px\">\n",
    "Speichern Sie die Vorhersagen in einer CSV-Datei ab. Die Datei soll nur eine Spalte haben. In jeder Zeile soll genau eine Zahl stehen: Eine 0 steht für \"Passagier hat nicht überlebt\" und eine 1 steht für \"Passagier hat überlebt\". Die Reihenfolge der Vorhersagen muss der Reihenfolge der Beobachtungen in \"titanic_test.csv\" entsprechen.\n",
    "</p>"
   ]
  },
  {
   "cell_type": "code",
   "execution_count": null,
   "metadata": {},
   "outputs": [],
   "source": [
    "# Vorhersagen speichern"
   ]
  },
  {
   "cell_type": "markdown",
   "metadata": {
    "editable": false
   },
   "source": [
    "Wenn Sie möchten, können Sie die CSV-Datei mit Ihren Vorhersagen an <a href=\"mailto:simon.stone@tu-dresden.de?Subject=Vorhersagen%20zu%20Jupyter%20Notebook%20Titanic\" target=\"_top\">Simon Stone</a> schicken und so an einem kleinen Wettbewerb teilnehmen: Wir berechnen die Klassifikationsgenauigkeit Ihres Modells auf den ungesehenen Daten und stellen so ein Kurs-internes Ranking auf, das wir am Ende der Vorlesungszeit im Kurs bekannt geben werden. Optional können Sie uns auch ein Pseudonym mitteilen, unter dem Sie auf der Liste geführt werden, wenn Sie nicht namentlich dort erscheinen wollen. Viel Erfolg!"
   ]
  },
  {
   "cell_type": "markdown",
   "metadata": {
    "editable": false
   },
   "source": [
    "<img src=\"Images/IMG-Titanic-Footer.jpg\">"
   ]
  },
  {
   "cell_type": "markdown",
   "metadata": {
    "editable": false
   },
   "source": [
    "---\n",
    "<div>Passenger data from <a href=\"https://www.encyclopedia-titanica.org/\">Encyclopedia Titanica</a></div>\n",
    "<div>Header background swiped from <a href=\"https://titanicsound.wordpress.com/\">Titanic Movie blog</a></div>\n",
    "<div>Icons made by <a href=\"https://www.flaticon.com/authors/swifticons\" title=\"Swifticons\">Swifticons</a> from <a href=\"https://www.flaticon.com/\" title=\"Flaticon\">www.flaticon.com</a></div>\n",
    "<div>Footer image by Karl Beutel, licensed under <a href=\"https://creativecommons.org/licenses/by-sa/3.0/deed.en\">Creative Commons Attribution-Share Alike 3.0 Unported</a></div>\n",
    "<div>Notebook erstellt von <a href=\"mailto:simon.stone@tu-dresden.de?Subject=Frage%20zu%20Jupyter%20Notebook%20Titanic\" target=\"_top\">Simon Stone</a></div>"
   ]
  }
 ],
 "metadata": {
  "celltoolbar": "Edit Metadata",
  "kernelspec": {
   "display_name": "Python 3",
   "language": "python",
   "name": "python3"
  },
  "language_info": {
   "codemirror_mode": {
    "name": "ipython",
    "version": 3
   },
   "file_extension": ".py",
   "mimetype": "text/x-python",
   "name": "python",
   "nbconvert_exporter": "python",
   "pygments_lexer": "ipython3",
   "version": "3.7.6"
  }
 },
 "nbformat": 4,
 "nbformat_minor": 2
}
