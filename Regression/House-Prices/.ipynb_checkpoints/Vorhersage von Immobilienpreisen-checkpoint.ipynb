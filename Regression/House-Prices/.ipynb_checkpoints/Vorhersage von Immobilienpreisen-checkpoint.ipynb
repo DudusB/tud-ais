{
 "cells": [
  {
   "cell_type": "markdown",
   "metadata": {
    "editable": false
   },
   "source": [
    "<img src=\"Images/IMG-Regression.png\">"
   ]
  },
  {
   "cell_type": "markdown",
   "metadata": {
    "editable": false
   },
   "source": [
    "In diesem Notebook sollen Sie anhand diverser Merkmale den Wert von Immobilien vorhersagen. \n",
    "<img style=\"float: right; margin:5px 0px 0px 10px\" src=\"Images/IMG-houses.png\" alt=\"Some buildings\" width=\"400\">\n",
    "Sie erhalten einen vollständig gelabelten Datensatz und einen Datensatz, in dem der vorherzusagende Wert fehlt. Auf diesem Testdatensatz können Sie mit dem besten von Ihnen gefundenen Modell eine Vorhersage wagen und die Ergebnisse an uns schicken. Wir berechnen dann die mittlere Abweichung von den uns bekannten tatsächlichen Preisen und so entsteht eine Kurs-interne Rangliste, die wir am Ende der Vorlesungszeit im Kurs bekanntgeben werden. \n",
    "\n",
    "**Wichtig:** Wenn Sie dieses Notebook als Teilleistung des Praktikums AIS bearbeiten, dann schicken Sie es bitte gemeinsam mit dem Notebook zur Klassifikation in einem ZIP-Archiv an Ihren Betreuer (siehe Folien zur Einführung ins Praktikum).\n",
    "\n",
    "\n",
    "## Inhalt\n",
    "Am besten folgen Sie bei Ihrer Arbeit der vorgegebenen Struktur dieses Notebooks. Viel Erfolg!\n",
    "<img style=\"float: right; margin:5px 0px 0px 10px\" src=\"Images/IMG-Go.png\" alt=\"Go\" width=\"300\">\n",
    "<table style=\"float:left; width:256; border: 1px solid black; display: inline-block\">\n",
    "  <tr>\n",
    "    <td  style=\"text-align:right\" width=64px><img src=\"Images/IMG-csv-in.png\" style=\"float:left\"></td>\n",
    "      <td style=\"text-align:left\" width=128px>\n",
    "          <a style=\"color:black; font-size:14px; font-weight:bold; text-decoration:none\" href='#import_data'>Daten importieren</a>\n",
    "      </td>\n",
    "  </tr>\n",
    "  <tr>\n",
    "    <td style=\"text-align:right\"><img src=\"Images/IMG-magnifying-glass.png\" style=\"float:left\"></td>\n",
    "    <td style=\"text-align:left\" width=128px><a style=\"color:black; font-size:14px; font-weight:bold; text-decoration:none\" href='#analyze_data'>Daten analysieren</a>\n",
    "      </td>\n",
    "  </tr>\n",
    "    <tr>\n",
    "    <td style=\"text-align:right\"><img src=\"Images/IMG-broom.png\" style=\"float:left\"></td>\n",
    "    <td style=\"text-align:left\" width=128px><a style=\"color:black; font-size:14px; font-weight:bold; text-decoration:none\" href='#clean_data'>Daten säubern</a>\n",
    "        </td>\n",
    "    </tr>\n",
    "    <tr>\n",
    "    <td style=\"text-align:right\"><img src=\"Images/IMG-diagram.png\" style=\"float:left\"></td>\n",
    "    <td style=\"text-align:left\" width=128px><a style=\"color:black; font-size:14px; font-weight:bold; text-decoration:none\" href='#build_model'>Modellauswahl</a>\n",
    "        </td>\n",
    "  </tr>\n",
    "        <tr>\n",
    "    <td style=\"text-align:right\"><img src=\"Images/IMG-euro.png\" style=\"float:left\"></td>\n",
    "    <td style=\"text-align:left\" width=128px><a style=\"color:black; font-size:14px; font-weight:bold; text-decoration:none\" href='#make_predictions'>Vorhersagen treffen</a>\n",
    "        </td>\n",
    "  </tr>\n",
    "        <tr>\n",
    "    <td style=\"text-align:right\"><img src=\"Images/IMG-csv-out.png\" style=\"float:left\"></td>\n",
    "    <td style=\"text-align:left\" width=128px><a style=\"color:black; font-size:14px; font-weight:bold; text-decoration:none\" href='#save_predictions'>Vorhersagen speichern</a>\n",
    "        </td>\n",
    "  </tr>\n",
    "</table>"
   ]
  },
  {
   "cell_type": "markdown",
   "metadata": {
    "editable": false
   },
   "source": [
    "<a id='import_data'></a><div><img src=\"Images/IMG-csv-in.png\" style=\"float:left\"> <h2 style=\"position: relative; top: 6px; left:10px\">1. Daten importieren</h2>\n",
    "<p style=\"position: relative; top: 10px\">\n",
    "Lesen Sie die Daten der Immobilien für das Training des Regressionsmodells aus der Datei \"houses.csv\" im Ordner \"Data\" ein. Die enthaltenen Merkmale sind in der folgenden Tabelle kurz erklärt:\n",
    "</p>\n",
    "<table style=\"width:256; border: 1px solid black; display: inline-block\">\n",
    "    <tr>\n",
    "        <td style=\"text-align:left\"><p style=\"color:black; font-size:14px; font-weight:bold\">index</p>\n",
    "        </td>\n",
    "        <td style=\"text-align:left\"><p style=\"color:black; font-size:14px\">Index der Immobilie</p>\n",
    "        </td>\n",
    "    </tr>\n",
    "    <tr>\n",
    "        <td style=\"text-align:left\"><p style=\"color:black; font-size:14px; font-weight:bold\">crime</p>\n",
    "        </td>\n",
    "        <td style=\"text-align:left\"><p style=\"color:black; font-size:14px\">Kriminalitätsrate pro Kopf in der Umgebung</p>\n",
    "        </td>\n",
    "    </tr>\n",
    "    <tr>\n",
    "        <td style=\"text-align:left\"><p style=\"color:black; font-size:14px; font-weight:bold\">zoned</p>\n",
    "        </td>\n",
    "        <td style=\"text-align:left\"><p style=\"color:black; font-size:14px\">Anteil von großflächigen Wohnparzellen in Umgebung</p>\n",
    "        </td>\n",
    "    </tr>\n",
    "    <tr>\n",
    "        <td style=\"text-align:left\"><p style=\"color:black; font-size:14px; font-weight:bold\">industrial</p>\n",
    "        </td>\n",
    "        <td style=\"text-align:left\"><p style=\"color:black; font-size:14px\">Anteil von Industrie in Umgebung</p>\n",
    "        </td>\n",
    "    </tr>\n",
    "    <tr>\n",
    "        <td style=\"text-align:left\"><p style=\"color:black; font-size:14px; font-weight:bold\">river</p>\n",
    "        </td>\n",
    "        <td style=\"text-align:left\"><p style=\"color:black; font-size:14px\">Angrenzend an Fluss</p>\n",
    "        </td>\n",
    "    </tr>\n",
    "    <tr>\n",
    "        <td style=\"text-align:left\"><p style=\"color:black; font-size:14px; font-weight:bold\">nox</p>\n",
    "        </td>\n",
    "        <td style=\"text-align:left\"><p style=\"color:black; font-size:14px\">Stickoxidbelastung (parts per 10 million)</p>\n",
    "        </td>\n",
    "    </tr>\n",
    "    <tr>\n",
    "        <td style=\"text-align:left\"><p style=\"color:black; font-size:14px; font-weight:bold\">rooms</p>\n",
    "        </td>\n",
    "        <td style=\"text-align:left\"><p style=\"color:black; font-size:14px\">Anzahl der Zimmer</p>\n",
    "        </td>\n",
    "    </tr>\n",
    "    <tr>\n",
    "        <td style=\"text-align:left\"><p style=\"color:black; font-size:14px; font-weight:bold\">age</p>\n",
    "        </td>\n",
    "        <td style=\"text-align:left\"><p style=\"color:black; font-size:14px\">Anteil von Vorkriegsbauten in Umgebung</p>\n",
    "        </td>\n",
    "    </tr>\n",
    "    <tr>\n",
    "        <td style=\"text-align:left\"><p style=\"color:black; font-size:14px; font-weight:bold\">distances</p>\n",
    "        </td>\n",
    "        <td style=\"text-align:left\"><p style=\"color:black; font-size:14px\">Gewichtete Distanz zu fünf großen Arbeitgebern in Umgebung</p>\n",
    "        </td>\n",
    "    </tr>\n",
    "    <tr>\n",
    "        <td style=\"text-align:left\"><p style=\"color:black; font-size:14px; font-weight:bold\">highway</p>\n",
    "        </td>\n",
    "        <td style=\"text-align:left\"><p style=\"color:black; font-size:14px\">Bewertung des Autobahnzugangs</p>\n",
    "        </td>\n",
    "    </tr>\n",
    "    <tr>\n",
    "        <td style=\"text-align:left\"><p style=\"color:black; font-size:14px; font-weight:bold\">tax</p>\n",
    "        </td>\n",
    "        <td style=\"text-align:left\"><p style=\"color:black; font-size:14px\">Eigentumssteuer in 10000 Dollar</p>\n",
    "        </td>\n",
    "    </tr>\n",
    "    <tr>\n",
    "        <td style=\"text-align:left\"><p style=\"color:black; font-size:14px; font-weight:bold\">p_t_ratio</p>\n",
    "        </td>\n",
    "        <td style=\"text-align:left\"><p style=\"color:black; font-size:14px\">Verhältnis von Schülern zu Lehrern in Umgebung</p>\n",
    "        </td>\n",
    "    </tr>\n",
    "    <tr>\n",
    "        <td style=\"text-align:left\"><p style=\"color:black; font-size:14px; font-weight:bold\">lower_status</p>\n",
    "        </td>\n",
    "        <td style=\"text-align:left\"><p style=\"color:black; font-size:14px\">Anteil von Menschen niedrigen sozioökonomischen Status in Umgebung</p>\n",
    "        </td>\n",
    "    </tr>\n",
    "    <tr>\n",
    "        <td style=\"text-align:left\"><p style=\"color:black; font-size:14px; font-weight:bold\">value</p>\n",
    "        </td>\n",
    "        <td style=\"text-align:left\"><p style=\"color:black; font-size:14px\">Wert der Immobilie in 1000 Dollar (vorherzusagende Größe)</p>\n",
    "        </td>\n",
    "    </tr>\n",
    "    </table>"
   ]
  },
  {
   "cell_type": "code",
   "execution_count": 135,
   "metadata": {
    "scrolled": true
   },
   "outputs": [],
   "source": [
    "import pandas as pd\n",
    "import numpy as np\n",
    "# Daten  importieren\n",
    "data = pd.read_csv('Data/houses.csv',sep=',')"
   ]
  },
  {
   "cell_type": "markdown",
   "metadata": {
    "editable": false
   },
   "source": [
    "<a id='analyze_data'></a><div><img src=\"Images/IMG-magnifying-glass.png\" style=\"float:left\"> <h2 style=\"position: relative; top: 6px; left: 10px\">2. Daten analysieren</h2>\n",
    "<p style=\"position: relative; top: 10px\">\n",
    "Durchstöbern Sie die Daten. Welche Spalten sind numerisch? Wie ist die Werteverteilung in den einzelnen Spalten? Fehlen Werte?\n",
    "</p>"
   ]
  },
  {
   "cell_type": "code",
   "execution_count": 136,
   "metadata": {},
   "outputs": [
    {
     "name": "stdout",
     "output_type": "stream",
     "text": [
      "            index       crime       zoned  industrial       river         nox  \\\n",
      "count  403.000000  403.000000  403.000000  403.000000  403.000000  403.000000   \n",
      "mean   258.054591    3.534202   11.708437   11.272531    0.071960    0.556483   \n",
      "std    144.018939    7.977345   23.783852    6.961370    0.258743    0.118393   \n",
      "min      1.000000    0.006320    0.000000    0.460000    0.000000    0.385000   \n",
      "25%    133.500000    0.079640    0.000000    5.130000    0.000000    0.448000   \n",
      "50%    262.000000    0.245220    0.000000    9.900000    0.000000    0.538000   \n",
      "75%    380.500000    3.805910   12.500000   18.100000    0.000000    0.639000   \n",
      "max    503.000000   88.976200  100.000000   27.740000    1.000000    0.871000   \n",
      "\n",
      "            rooms         age   distances     highway         tax   p_t_ratio  \\\n",
      "count  403.000000  403.000000  403.000000  403.000000  403.000000  403.000000   \n",
      "mean     6.287536   67.999504    3.812462    9.784119  412.240695   18.434491   \n",
      "std      0.695945   28.044033    2.163947    8.771876  170.979892    2.129578   \n",
      "min      3.561000    2.900000    1.129600    1.000000  187.000000   12.600000   \n",
      "25%      5.887500   44.350000    2.064300    4.000000  279.000000   17.400000   \n",
      "50%      6.226000   76.000000    3.199200    5.000000  334.000000   19.000000   \n",
      "75%      6.611000   93.900000    5.222850   24.000000  666.000000   20.200000   \n",
      "max      8.780000  100.000000   12.126500   24.000000  711.000000   22.000000   \n",
      "\n",
      "       lower_status       value  \n",
      "count    403.000000  403.000000  \n",
      "mean      12.436253   22.637469  \n",
      "std        7.075086    9.125715  \n",
      "min        1.920000    5.000000  \n",
      "25%        6.865000   17.200000  \n",
      "50%       11.100000   21.400000  \n",
      "75%       16.325000   25.050000  \n",
      "max       37.970000   50.000000  \n",
      "Index(['index', 'crime', 'zoned', 'industrial', 'river', 'nox', 'rooms', 'age',\n",
      "       'distances', 'highway', 'tax', 'p_t_ratio', 'lower_status', 'value'],\n",
      "      dtype='object')\n"
     ]
    },
    {
     "data": {
      "text/html": [
       "<div>\n",
       "<style scoped>\n",
       "    .dataframe tbody tr th:only-of-type {\n",
       "        vertical-align: middle;\n",
       "    }\n",
       "\n",
       "    .dataframe tbody tr th {\n",
       "        vertical-align: top;\n",
       "    }\n",
       "\n",
       "    .dataframe thead th {\n",
       "        text-align: right;\n",
       "    }\n",
       "</style>\n",
       "<table border=\"1\" class=\"dataframe\">\n",
       "  <thead>\n",
       "    <tr style=\"text-align: right;\">\n",
       "      <th></th>\n",
       "      <th>index</th>\n",
       "      <th>crime</th>\n",
       "      <th>zoned</th>\n",
       "      <th>industrial</th>\n",
       "      <th>river</th>\n",
       "      <th>nox</th>\n",
       "      <th>rooms</th>\n",
       "      <th>age</th>\n",
       "      <th>distances</th>\n",
       "      <th>highway</th>\n",
       "      <th>tax</th>\n",
       "      <th>p_t_ratio</th>\n",
       "      <th>lower_status</th>\n",
       "      <th>value</th>\n",
       "    </tr>\n",
       "  </thead>\n",
       "  <tbody>\n",
       "    <tr>\n",
       "      <th>246</th>\n",
       "      <td>318</td>\n",
       "      <td>0.24522</td>\n",
       "      <td>0.0</td>\n",
       "      <td>9.90</td>\n",
       "      <td>0</td>\n",
       "      <td>0.544</td>\n",
       "      <td>5.782</td>\n",
       "      <td>71.7</td>\n",
       "      <td>4.0317</td>\n",
       "      <td>4</td>\n",
       "      <td>304</td>\n",
       "      <td>18.4</td>\n",
       "      <td>15.94</td>\n",
       "      <td>19.8</td>\n",
       "    </tr>\n",
       "    <tr>\n",
       "      <th>220</th>\n",
       "      <td>288</td>\n",
       "      <td>0.03871</td>\n",
       "      <td>52.5</td>\n",
       "      <td>5.32</td>\n",
       "      <td>0</td>\n",
       "      <td>0.405</td>\n",
       "      <td>6.209</td>\n",
       "      <td>31.3</td>\n",
       "      <td>7.3172</td>\n",
       "      <td>6</td>\n",
       "      <td>293</td>\n",
       "      <td>16.6</td>\n",
       "      <td>7.14</td>\n",
       "      <td>23.2</td>\n",
       "    </tr>\n",
       "    <tr>\n",
       "      <th>273</th>\n",
       "      <td>349</td>\n",
       "      <td>0.01501</td>\n",
       "      <td>80.0</td>\n",
       "      <td>2.01</td>\n",
       "      <td>0</td>\n",
       "      <td>0.435</td>\n",
       "      <td>6.635</td>\n",
       "      <td>29.7</td>\n",
       "      <td>8.3440</td>\n",
       "      <td>4</td>\n",
       "      <td>280</td>\n",
       "      <td>17.0</td>\n",
       "      <td>5.99</td>\n",
       "      <td>24.5</td>\n",
       "    </tr>\n",
       "  </tbody>\n",
       "</table>\n",
       "</div>"
      ],
      "text/plain": [
       "     index    crime  zoned  industrial  river    nox  rooms   age  distances  \\\n",
       "246    318  0.24522    0.0        9.90      0  0.544  5.782  71.7     4.0317   \n",
       "220    288  0.03871   52.5        5.32      0  0.405  6.209  31.3     7.3172   \n",
       "273    349  0.01501   80.0        2.01      0  0.435  6.635  29.7     8.3440   \n",
       "\n",
       "     highway  tax  p_t_ratio  lower_status  value  \n",
       "246        4  304       18.4         15.94   19.8  \n",
       "220        6  293       16.6          7.14   23.2  \n",
       "273        4  280       17.0          5.99   24.5  "
      ]
     },
     "execution_count": 136,
     "metadata": {},
     "output_type": "execute_result"
    }
   ],
   "source": [
    "# Daten explorieren\n",
    "#print(data.head(5))\n",
    "print(data.describe())\n",
    "print(data.columns)\n",
    "#data.dtypes # nur int64 & float 64\n",
    "#data.count() #403\n",
    "#data.isna().any() #vollständiger datensatz\n",
    "data.sample(3)\n"
   ]
  },
  {
   "cell_type": "markdown",
   "metadata": {
    "editable": false
   },
   "source": [
    "<a id='clean_data'></a><div><img src=\"Images/IMG-broom.png\" style=\"float:left\"> <h2 style=\"position: relative; top: 6px; left:10px\">3. Daten säubern</h2>"
   ]
  },
  {
   "cell_type": "code",
   "execution_count": 137,
   "metadata": {},
   "outputs": [
    {
     "name": "stdout",
     "output_type": "stream",
     "text": [
      "<class 'numpy.ndarray'>\n"
     ]
    }
   ],
   "source": [
    "# Daten säubern\n",
    "X = data.drop(columns='value')\n",
    "y = data['value']\n",
    "\n",
    "from sklearn.model_selection import train_test_split\n",
    "#Split in training & test sets\n",
    "X_train, X_test, y_train, y_test = train_test_split(X,y)\n",
    "\n",
    "\n",
    "# Standarisierung\n",
    "from sklearn.preprocessing import StandardScaler\n",
    "\n",
    "# Instanziieren StandardScaler()\n",
    "stdScaler = StandardScaler()\n",
    "\n",
    "# Berechnung Standardisierungsparametr auf dem Trainingsset\n",
    "stdScaler.fit(X_train)\n",
    "X_train = stdScaler.transform(X_train)\n",
    "X_test = stdScaler.transform(X_test)\n",
    "print(type(X_test))\n",
    "X_full = np.concatenate((X_train,X_test),axis=0)\n"
   ]
  },
  {
   "cell_type": "markdown",
   "metadata": {
    "editable": false
   },
   "source": [
    "<a id='build_model'></a><div><img src=\"Images/IMG-diagram.png\" style=\"float:left\"> <h2 style=\"position: relative; top: 6px; left:10px\">4. Modellauswahl</h2>\n",
    "<p style=\"position: relative; top: 10px\">\n",
    "Trainieren Sie ein Regressionsmodell zur Vorhersage des Werts einer Immobilie. Denken Sie unabhängig von der Art des gewählten Modells daran, alle Hyperparameter zu optimieren. \n",
    "</p>"
   ]
  },
  {
   "cell_type": "code",
   "execution_count": 138,
   "metadata": {},
   "outputs": [
    {
     "name": "stdout",
     "output_type": "stream",
     "text": [
      "Lineare Regression 1. Ordnung - Training: R² = 0.67 Test: R² = 0.78\n",
      "Lineare Regression 2. Ordnung - Training: R² = 0.80 Test: R² = 0.81\n",
      "Das korrigerte R² für die Trainingsdaten beträgt 0.78.\n",
      "Lineare Regression 3. Ordnung - Training: R² = 0.82 Test: R² = 0.80\n"
     ]
    },
    {
     "data": {
      "text/plain": [
       "LinearRegression(copy_X=True, fit_intercept=True, n_jobs=None, normalize=False)"
      ]
     },
     "execution_count": 138,
     "metadata": {},
     "output_type": "execute_result"
    }
   ],
   "source": [
    "## 1 Linear Regression\n",
    "\n",
    "from sklearn.linear_model import LinearRegression\n",
    "\n",
    "# 1. Ordnung\n",
    "# Modellinitialiierung\n",
    "lr1_model = LinearRegression()\n",
    "# Trainieren (\"Fitten\")\n",
    "lr1_model.fit(X_train, y_train)\n",
    "\n",
    "# R^2 im Training\n",
    "train_score_lr1 = lr1_model.score(X_train, y_train)\n",
    "# R^2 im Test\n",
    "test_score_lr1 = lr1_model.score(X_test, y_test)\n",
    "# Ausgabe der Performancemaße\n",
    "print(\"Lineare Regression 1. Ordnung - Training: R² = {:.2f} Test: R² = {:.2f}\".format(train_score_lr1, test_score_lr1))\n",
    "# Am Ende Modell mit optimalen Hyperparametern auf allen gelabelte Daten trainieren!\n",
    "lr1_model.fit(X_full, y)\n",
    "\n",
    "# 2. Ordnung\n",
    "# Merkmalmatriz 2. Ordnung\n",
    "X_2_train = np.concatenate([X_train, X_train ** 2], axis=1)\n",
    "X_2_test = np.concatenate([X_test, X_test ** 2], axis=1)\n",
    "\n",
    "# # Standardisierung\n",
    "stdScaler_2 = StandardScaler().fit(X_2_train)\n",
    "X_2_train = stdScaler_2.transform(X_2_train)\n",
    "X_2_test = stdScaler_2.transform(X_2_test)\n",
    "# Modellinitialiierung\n",
    "lr2_model = LinearRegression()\n",
    "# Modell trainieren\n",
    "lr2_model.fit(X_2_train,y_train)\n",
    "\n",
    "# R^2 im Training\n",
    "train_score_lr2 = lr2_model.score(X_2_train, y_train)\n",
    "# R^2 im Test\n",
    "test_score_lr2 = lr2_model.score(X_2_test, y_test)\n",
    "# Ausgabe der Performancemaße\n",
    "print(\"Lineare Regression 2. Ordnung - Training: R² = {:.2f} Test: R² = {:.2f}\".format( train_score_lr2, test_score_lr2 ))\n",
    "\n",
    "# Anzahl der Stichprobenelemente\n",
    "N = X_2_train.shape[0]\n",
    "# Anzahl der Prädiktoren\n",
    "M = X_2_train.shape[1]\n",
    "# Korrgiertes R^2 berechnen\n",
    "R2_korr = 1 - (1-train_score_lr2) * (N-1) / (N-M-1)\n",
    "print(\"Das korrigerte R² für die Trainingsdaten beträgt {:.2f}.\".format(R2_korr))\n",
    "\n",
    "# Am Ende Modell mit optimalen Hyperparametern auf allen gelabelte Daten trainieren!\n",
    "lr2_model.fit(X_full,y)\n",
    "\n",
    "# 3. Ordnung \n",
    "# Merkmalmatriz 3. Ordnung\n",
    "X_3_train = np.concatenate([X_train,X_train ** 2, X_train ** 3], axis=1)\n",
    "X_3_test = np.concatenate([X_test, X_test ** 2, X_test ** 3], axis=1)\n",
    "\n",
    "# Standardisierung\n",
    "stdScaler_3 = StandardScaler().fit(X_3_train,y_train)\n",
    "X_3_train = stdScaler_3.transform(X_3_train)\n",
    "X_3_test = stdScaler_3.transform(X_3_test)\n",
    "\n",
    "# Modellinitialiierung\n",
    "lr3_model = LinearRegression()\n",
    "# Modell trainieren\n",
    "lr3_model.fit(X_3_train,y_train)\n",
    "\n",
    "# R^2 im Training\n",
    "train_score_lr3 = lr3_model.score(X_3_train, y_train)\n",
    "# R^2 im Test\n",
    "test_score_lr3 = lr3_model.score(X_3_test, y_test)\n",
    "# Ausgabe der Performancemaße\n",
    "print(\"Lineare Regression 3. Ordnung - Training: R² = {:.2f} Test: R² = {:.2f}\".format( train_score_lr3, test_score_lr3 ))\n",
    "\n",
    "# Am Ende Modell mit optimalen Hyperparametern auf allen gelabelte Daten trainieren!\n",
    "lr3_model.fit(X_full,y)\n"
   ]
  },
  {
   "cell_type": "code",
   "execution_count": 156,
   "metadata": {
    "scrolled": true
   },
   "outputs": [
    {
     "name": "stdout",
     "output_type": "stream",
     "text": [
      "Ridge Regression 1. Ordnung (alpha=10.00): Training R^2 = 0.67 Test R^2 = 0.78\n",
      "Ridge Regression 2. Ordnung (alpha=10.00): Training R^2 = 0.79 Test R^2 = 0.81\n",
      "Ridge Regression 3. Ordnung (alpha=10.00): Training R^2 = 0.81 Test R^2 = 0.81\n"
     ]
    },
    {
     "data": {
      "text/plain": [
       "RidgeCV(alphas=array([1.e-06, 1.e-05, 1.e-04, 1.e-03, 1.e-02, 1.e-01, 1.e+00, 1.e+01,\n",
       "       1.e+02, 1.e+03, 1.e+04, 1.e+05, 1.e+06, 1.e+07, 1.e+08, 1.e+09,\n",
       "       1.e+10]),\n",
       "        cv=None, fit_intercept=True, gcv_mode=None, normalize=False,\n",
       "        scoring=None, store_cv_values=False)"
      ]
     },
     "execution_count": 156,
     "metadata": {},
     "output_type": "execute_result"
    }
   ],
   "source": [
    "## Ridge\n",
    "from sklearn.linear_model import RidgeCV\n",
    "\n",
    "# alpha param candidates\n",
    "alpha_candidates = np.logspace(-6, 10, 17)\n",
    "\n",
    "# 1. Ordnung\n",
    "# Modellinitialiierung mit aplha param\n",
    "ridge1_model = RidgeCV(alphas=alpha_candidates)\n",
    "\n",
    "# Modell trainieren\n",
    "ridge1_model.fit(X_train, y_train)\n",
    "\n",
    "\n",
    "# Optimales alpha\n",
    "alpha_opt = ridge1_model.alpha_\n",
    "# R^2 im Training\n",
    "train_score_ridge1 = ridge1_model.score(X_train, y_train)\n",
    "# R^2 im Test\n",
    "test_score_ridge1 = ridge1_model.score(X_test, y_test)\n",
    "# Ausgabe der Performancemaße\n",
    "print(\"Ridge Regression 1. Ordnung (alpha={:.2f}): Training R^2 = {:.2f} Test R^2 = {:.2f}\".format(alpha_opt, train_score_ridge1, test_score_ridge1))\n",
    "\n",
    "# 2. Ordnung\n",
    "# Modellinitialiierung mit aplha param\n",
    "ridge2_model = RidgeCV(alphas=alpha_candidates)\n",
    "\n",
    "# Modell trainieren\n",
    "ridge2_model.fit(X_2_train,y_train)\n",
    "\n",
    "# Optimales alpha\n",
    "alpha_opt = ridge2_model.alpha_\n",
    "# R^2 im Training\n",
    "train_score_ridge2 = ridge2_model.score(X_2_train,y_train)\n",
    "# R^2 im Test\n",
    "test_score_ridge2 = ridge2_model.score(X_2_test,y_test)\n",
    "# Ausgabe der Performancemaße\n",
    "print(\"Ridge Regression 2. Ordnung (alpha={:.2f}): Training R^2 = {:.2f} Test R^2 = {:.2f}\".format(alpha_opt, train_score_ridge2, test_score_ridge2))\n",
    "\n",
    "#3. Ordnung\n",
    "# Modellinitialiierung mit aplha param\n",
    "ridge3_model = RidgeCV(alphas=alpha_candidates)\n",
    "\n",
    "# Modell trainieren\n",
    "ridge3_model.fit(X_3_train,y_train)\n",
    "\n",
    "# Optimales alpha\n",
    "alpha_opt = ridge3_model.alpha_\n",
    "# R^2 im Training\n",
    "train_score_ridge3 = ridge3_model.score(X_3_train,y_train)\n",
    "# R^2 im Test\n",
    "test_score_ridge3 = ridge3_model.score(X_3_test,y_test)\n",
    "# Ausgabe der Performancemaße\n",
    "print(\"Ridge Regression 3. Ordnung (alpha={:.2f}): Training R^2 = {:.2f} Test R^2 = {:.2f}\".format(alpha_opt, train_score_ridge3, test_score_ridge3))\n",
    "\n",
    "\n",
    "# Am Ende Modell mit optimalen Hyperparametern auf allen gelabelte Daten trainieren!\n",
    "ridge3_model.fit(X_2_train,y_train)\n"
   ]
  },
  {
   "cell_type": "code",
   "execution_count": 157,
   "metadata": {},
   "outputs": [
    {
     "name": "stdout",
     "output_type": "stream",
     "text": [
      "Support Vector Regression: Training R^2 = 0.59 Test R^2 = 0.62\n",
      "Fitting 5 folds for each of 140 candidates, totalling 700 fits\n"
     ]
    },
    {
     "name": "stderr",
     "output_type": "stream",
     "text": [
      "[Parallel(n_jobs=-1)]: Using backend LokyBackend with 12 concurrent workers.\n",
      "[Parallel(n_jobs=-1)]: Done   1 tasks      | elapsed:    0.0s\n",
      "[Parallel(n_jobs=-1)]: Batch computation too fast (0.0106s.) Setting batch_size=2.\n",
      "[Parallel(n_jobs=-1)]: Done   8 tasks      | elapsed:    0.0s\n",
      "[Parallel(n_jobs=-1)]: Done  17 tasks      | elapsed:    0.1s\n",
      "[Parallel(n_jobs=-1)]: Batch computation too fast (0.0761s.) Setting batch_size=4.\n",
      "[Parallel(n_jobs=-1)]: Done  28 tasks      | elapsed:    0.1s\n",
      "[Parallel(n_jobs=-1)]: Done  50 tasks      | elapsed:    0.1s\n",
      "[Parallel(n_jobs=-1)]: Done  72 tasks      | elapsed:    0.1s\n",
      "[Parallel(n_jobs=-1)]: Batch computation too fast (0.0462s.) Setting batch_size=8.\n",
      "[Parallel(n_jobs=-1)]: Done 124 tasks      | elapsed:    0.2s\n",
      "[Parallel(n_jobs=-1)]: Batch computation too fast (0.0825s.) Setting batch_size=16.\n",
      "[Parallel(n_jobs=-1)]: Done 184 tasks      | elapsed:    0.3s\n",
      "[Parallel(n_jobs=-1)]: Done 304 tasks      | elapsed:    0.4s\n",
      "[Parallel(n_jobs=-1)]: Batch computation too fast (0.0904s.) Setting batch_size=32.\n",
      "[Parallel(n_jobs=-1)]: Done 458 tasks      | elapsed:    0.4s\n",
      "[Parallel(n_jobs=-1)]: Done 550 tasks      | elapsed:    0.5s\n",
      "[Parallel(n_jobs=-1)]: Done 582 tasks      | elapsed:    0.5s\n",
      "[Parallel(n_jobs=-1)]: Done 601 tasks      | elapsed:    0.6s\n",
      "[Parallel(n_jobs=-1)]: Done 620 tasks      | elapsed:    0.7s\n",
      "[Parallel(n_jobs=-1)]: Done 641 tasks      | elapsed:    0.8s\n"
     ]
    },
    {
     "name": "stdout",
     "output_type": "stream",
     "text": [
      "Best param\n",
      "{'C': 100.0, 'epsilon': 1.0, 'kernel': 'rbf'}\n",
      "Tuned Support Vector Regression: Training R^2 = 0.94 Test R^2 = 0.91\n"
     ]
    },
    {
     "name": "stderr",
     "output_type": "stream",
     "text": [
      "[Parallel(n_jobs=-1)]: Done 662 tasks      | elapsed:    1.3s\n",
      "[Parallel(n_jobs=-1)]: Done 700 out of 700 | elapsed:    1.3s finished\n"
     ]
    },
    {
     "data": {
      "text/plain": [
       "SVR(C=100, cache_size=200, coef0=0.0, degree=3, epsilon=1, gamma='scale',\n",
       "    kernel='rbf', max_iter=-1, shrinking=True, tol=0.001, verbose=False)"
      ]
     },
     "execution_count": 157,
     "metadata": {},
     "output_type": "execute_result"
    }
   ],
   "source": [
    "## SVR\n",
    "\n",
    "from sklearn.svm import SVR\n",
    "\n",
    "# Modellinitialiierung\n",
    "svr_model = SVR()\n",
    "# Modell trainieren\n",
    "svr_model.fit(X_train,y_train)\n",
    "\n",
    "# R^2 im Training\n",
    "train_score_svr = svr_model.score(X_train,y_train)\n",
    "# R^2 im Test\n",
    "test_score_svr = svr_model.score(X_test,y_test)\n",
    "\n",
    "# Ausgabe der Performance\n",
    "print(\"Support Vector Regression: Training R^2 = {:.2f} Test R^2 = {:.2f}\".format(train_score_svr, test_score_svr))\n",
    "\n",
    "\n",
    "from sklearn.model_selection import GridSearchCV\n",
    "\n",
    "# Auswahl der zu testenden Hyperparameter \n",
    "param_grid = [\n",
    "    {'C': np.logspace(-2, 2, 5),        # Parameter C nach Vorlesung\n",
    "     'epsilon': np.logspace(-3, 3, 7),  # Parameter epsilon zur Steuerung \n",
    "     'kernel': ['linear', 'rbf','poly','sigmoid']},      # Verwendeter Kernel\n",
    "]\n",
    "\n",
    "# Instanziieren des Objekts \"GridSearchCV\"\n",
    "svr_model = GridSearchCV(SVR(),            # Regressionsmodell, das benutzt werden soll\n",
    "                         param_grid,       # Auszuprobierenden Hyperparameterwerte\n",
    "                         scoring='r2',     # Zu verwendende Metrik\n",
    "                         cv=5,             # Anzahl der Folds für die Kreuvalidierung\n",
    "                         verbose=10,       # Menge des Output während der Suche (größere Zahl -> mehr Info)\n",
    "                         n_jobs=-1)        # Anzahl der parallel genutzen CPUs; -1: alle verfügbaren CPUs nutzen\n",
    "\n",
    "# Modell trainieren\n",
    "svr_model.fit(X_train, y_train)\n",
    "print('Best param')\n",
    "print(svr_model.best_params_)\n",
    "\n",
    "svr_model = SVR(C=100, epsilon=1, kernel='rbf').fit(X_train, y_train) # Kommentieren Sie diese Zeile ein, wenn Sie die Kreuzvalidierung übersprungen haben\n",
    "\n",
    "# R^2 im Training\n",
    "train_score_svr = svr_model.score(X_train,y_train) \n",
    "# R^2 im Test\n",
    "test_score_svr = svr_model.score(X_test,y_test)\n",
    "\n",
    "# Ausgabe der Performance\n",
    "print(\"Tuned Support Vector Regression: Training R^2 = {:.2f} Test R^2 = {:.2f}\".format(train_score_svr, test_score_svr))\n",
    "\n",
    "svr_model.fit(X_full, y)"
   ]
  },
  {
   "cell_type": "markdown",
   "metadata": {
    "editable": false
   },
   "source": [
    "<a id='make_predictions'></a><div><img src=\"Images/IMG-euro.png\" style=\"float:left\"> <h2 style=\"position: relative; top: 6px; left:10px\">5. Vorhersagen treffen</h2>\n",
    "<p style=\"position: relative; top: 10px\">\n",
    "Verwenden Sie Ihr trainiertes Modell, um für alle ungelabelten Beobachtungen aus \"houses_test.csv\" eine Vorhersage des Wertes zu treffen!\n",
    "\n",
    "Denken Sie daran, die Daten vorher auf die <strong>exakt gleiche Weise</strong> aufzubereiten, wie Sie es mit den Trainingsdaten getan haben.\n",
    "</p>"
   ]
  },
  {
   "cell_type": "code",
   "execution_count": 155,
   "metadata": {},
   "outputs": [
    {
     "name": "stdout",
     "output_type": "stream",
     "text": [
      "   index    crime  zoned  industrial  river    nox  rooms   age  distances  \\\n",
      "0      4  0.03237    0.0        2.18      0  0.458  6.998  45.8     6.0622   \n",
      "1     10  0.17004   12.5        7.87      0  0.524  6.004  85.9     6.5921   \n",
      "2     15  0.63796    0.0        8.14      0  0.538  6.096  84.5     4.4619   \n",
      "3     18  0.78420    0.0        8.14      0  0.538  5.990  81.7     4.2579   \n",
      "4     21  1.25179    0.0        8.14      0  0.538  5.570  98.1     3.7979   \n",
      "\n",
      "   highway  tax  p_t_ratio  lower_status      value  \n",
      "0        3  222       18.7          2.94  20.175486  \n",
      "1        5  311       15.2         17.10  20.219985  \n",
      "2        4  307       21.0         10.26  17.937686  \n",
      "3        4  307       21.0         14.67  18.477948  \n",
      "4        4  307       21.0         21.02  19.373761  \n"
     ]
    }
   ],
   "source": [
    "# Vorverabeitung der Testdaten (exakt wie Vorverarbeitung von Trainingsdaten!)\n",
    "test_data = pd.read_csv('Data/houses_test.csv',sep=',')\n",
    "results = test_data.copy()\n",
    "\n",
    "\n",
    "stdScaler2 = StandardScaler()\n",
    "\n",
    "# Berechnung Standardisierungsparametr auf dem Trainingsset\n",
    "stdScaler2.fit(test_data)\n",
    "test_data = stdScaler2.transform(test_data)\n",
    "\n",
    "# Vorhersagen treffen\n",
    "prediction = svr_model.predict(test_data)\n",
    "results['value'] = prediction\n",
    "\n",
    "print(results.head(5))\n"
   ]
  },
  {
   "cell_type": "markdown",
   "metadata": {
    "editable": false
   },
   "source": [
    "<a id='save_predictions'></a><div><img src=\"Images/IMG-csv-out.png\" style=\"float:left\"> <h2 style=\"position: relative; top: 6px; left:10px\">6. Vorhersagen speichern</h2>\n",
    "<p style=\"position: relative; top: 10px\">\n",
    "Speichern Sie die Vorhersagen in einer CSV-Datei ab. Die Datei soll nur eine Spalte haben. In jeder Zeile soll genau eine Zahl stehen, die dem vorhergesagten Wert entspricht. Die Reihenfolge der Vorhersagen muss der Reihenfolge der Beobachtungen in \"houses_test.csv\" entsprechen.\n",
    "</p>"
   ]
  },
  {
   "cell_type": "code",
   "execution_count": 148,
   "metadata": {},
   "outputs": [],
   "source": [
    "# Vorhersagen speichern\n",
    "results['value'].to_csv('houses_test.csv')"
   ]
  },
  {
   "cell_type": "markdown",
   "metadata": {
    "editable": false
   },
   "source": [
    "Wenn Sie möchten, können Sie die CSV-Datei mit Ihren Vorhersagen an <a href=\"mailto:simon.stone@tu-dresden.de?Subject=Vorhersagen%20zu%20Jupyter%20Notebook%20Immobilienpreise\" target=\"_top\">Simon Stone</a> schicken und so an einem kleinen Wettbewerb teilnehmen: Wir berechnen die mittlere Abweichung der Vorhersagen Ihres Modells auf den ungesehenen Daten und stellen so ein Kurs-internes Ranking auf, das wir am Ende der Vorlesungszeit im Kurs bekannt geben werden. Optional können Sie uns auch ein Pseudonym mitteilen, unter dem Sie auf der Liste geführt werden, wenn Sie nicht namentlich dort erscheinen wollen. Viel Erfolg!"
   ]
  },
  {
   "cell_type": "markdown",
   "metadata": {
    "editable": false
   },
   "source": [
    "<img src=\"Images/IMG-Monopoly-Tokens.jpg\">"
   ]
  },
  {
   "cell_type": "markdown",
   "metadata": {
    "editable": false
   },
   "source": [
    "---\n",
    "<div>Housing data in the public domain. Source: Harrison, D. and Rubinfeld, D.L. \"Hedonic prices and the demand for clean air\", J. Environ. Economics & Management, vol.5, 81-102, 1978.</div>\n",
    "<div>Icons made by <a href=\"https://www.flaticon.com/authors/swifticons\" title=\"Swifticons\">Swifticons</a> from <a href=\"https://www.flaticon.com/\" title=\"Flaticon\">www.flaticon.com</a></div>\n",
    "<div>Monopoly tokens image based on <a href=\"https://monopoly.fandom.com/wiki/Tokens?file=Monopoly_1946-tokens.jpg\">Monopoly Wiki</a></div>\n",
    "<div>Notebook erstellt von <a href=\"mailto:simon.stone@tu-dresden.de?Subject=Frage%20zu%20Jupyter%20Notebook%20Immobilienpreise\" target=\"_top\">Simon Stone</a></div>"
   ]
  },
  {
   "cell_type": "code",
   "execution_count": null,
   "metadata": {},
   "outputs": [],
   "source": []
  },
  {
   "cell_type": "code",
   "execution_count": null,
   "metadata": {},
   "outputs": [],
   "source": []
  },
  {
   "cell_type": "code",
   "execution_count": null,
   "metadata": {},
   "outputs": [],
   "source": []
  },
  {
   "cell_type": "code",
   "execution_count": null,
   "metadata": {},
   "outputs": [],
   "source": []
  },
  {
   "cell_type": "code",
   "execution_count": null,
   "metadata": {},
   "outputs": [],
   "source": []
  }
 ],
 "metadata": {
  "celltoolbar": "Edit Metadata",
  "kernelspec": {
   "display_name": "Python 3",
   "language": "python",
   "name": "python3"
  },
  "language_info": {
   "codemirror_mode": {
    "name": "ipython",
    "version": 3
   },
   "file_extension": ".py",
   "mimetype": "text/x-python",
   "name": "python",
   "nbconvert_exporter": "python",
   "pygments_lexer": "ipython3",
   "version": "3.7.6"
  }
 },
 "nbformat": 4,
 "nbformat_minor": 2
}
