{
 "cells": [
  {
   "cell_type": "markdown",
   "metadata": {
    "editable": false
   },
   "source": [
    "<img src=\"Images/IMG-Regression.png\">"
   ]
  },
  {
   "cell_type": "markdown",
   "metadata": {
    "editable": false
   },
   "source": [
    "In diesem Notebook sollen Sie anhand diverser Merkmale den Wert von Immobilien vorhersagen. \n",
    "<img style=\"float: right; margin:5px 0px 0px 10px\" src=\"Images/IMG-houses.png\" alt=\"Some buildings\" width=\"400\">\n",
    "Sie erhalten einen vollständig gelabelten Datensatz und einen Datensatz, in dem der vorherzusagende Wert fehlt. Auf diesem Testdatensatz können Sie mit dem besten von Ihnen gefundenen Modell eine Vorhersage wagen und die Ergebnisse an uns schicken. Wir berechnen dann die mittlere Abweichung von den uns bekannten tatsächlichen Preisen und so entsteht eine Kurs-interne Rangliste, die wir am Ende der Vorlesungszeit im Kurs bekanntgeben werden. \n",
    "\n",
    "**Wichtig:** Wenn Sie dieses Notebook als Teilleistung des Praktikums AIS bearbeiten, dann schicken Sie es bitte gemeinsam mit dem Notebook zur Klassifikation in einem ZIP-Archiv an Ihren Betreuer (siehe Folien zur Einführung ins Praktikum).\n",
    "\n",
    "\n",
    "## Inhalt\n",
    "Am besten folgen Sie bei Ihrer Arbeit der vorgegebenen Struktur dieses Notebooks. Viel Erfolg!\n",
    "<img style=\"float: right; margin:5px 0px 0px 10px\" src=\"Images/IMG-Go.png\" alt=\"Go\" width=\"300\">\n",
    "<table style=\"float:left; width:256; border: 1px solid black; display: inline-block\">\n",
    "  <tr>\n",
    "    <td  style=\"text-align:right\" width=64px><img src=\"Images/IMG-csv-in.png\" style=\"float:left\"></td>\n",
    "      <td style=\"text-align:left\" width=128px>\n",
    "          <a style=\"color:black; font-size:14px; font-weight:bold; text-decoration:none\" href='#import_data'>Daten importieren</a>\n",
    "      </td>\n",
    "  </tr>\n",
    "  <tr>\n",
    "    <td style=\"text-align:right\"><img src=\"Images/IMG-magnifying-glass.png\" style=\"float:left\"></td>\n",
    "    <td style=\"text-align:left\" width=128px><a style=\"color:black; font-size:14px; font-weight:bold; text-decoration:none\" href='#analyze_data'>Daten analysieren</a>\n",
    "      </td>\n",
    "  </tr>\n",
    "    <tr>\n",
    "    <td style=\"text-align:right\"><img src=\"Images/IMG-broom.png\" style=\"float:left\"></td>\n",
    "    <td style=\"text-align:left\" width=128px><a style=\"color:black; font-size:14px; font-weight:bold; text-decoration:none\" href='#clean_data'>Daten säubern</a>\n",
    "        </td>\n",
    "    </tr>\n",
    "    <tr>\n",
    "    <td style=\"text-align:right\"><img src=\"Images/IMG-diagram.png\" style=\"float:left\"></td>\n",
    "    <td style=\"text-align:left\" width=128px><a style=\"color:black; font-size:14px; font-weight:bold; text-decoration:none\" href='#build_model'>Modellauswahl</a>\n",
    "        </td>\n",
    "  </tr>\n",
    "        <tr>\n",
    "    <td style=\"text-align:right\"><img src=\"Images/IMG-euro.png\" style=\"float:left\"></td>\n",
    "    <td style=\"text-align:left\" width=128px><a style=\"color:black; font-size:14px; font-weight:bold; text-decoration:none\" href='#make_predictions'>Vorhersagen treffen</a>\n",
    "        </td>\n",
    "  </tr>\n",
    "        <tr>\n",
    "    <td style=\"text-align:right\"><img src=\"Images/IMG-csv-out.png\" style=\"float:left\"></td>\n",
    "    <td style=\"text-align:left\" width=128px><a style=\"color:black; font-size:14px; font-weight:bold; text-decoration:none\" href='#save_predictions'>Vorhersagen speichern</a>\n",
    "        </td>\n",
    "  </tr>\n",
    "</table>"
   ]
  },
  {
   "cell_type": "markdown",
   "metadata": {
    "editable": false
   },
   "source": [
    "<a id='import_data'></a><div><img src=\"Images/IMG-csv-in.png\" style=\"float:left\"> <h2 style=\"position: relative; top: 6px; left:10px\">1. Daten importieren</h2>\n",
    "<p style=\"position: relative; top: 10px\">\n",
    "Lesen Sie die Daten der Immobilien für das Training des Regressionsmodells aus der Datei \"houses.csv\" im Ordner \"Data\" ein. Die enthaltenen Merkmale sind in der folgenden Tabelle kurz erklärt:\n",
    "</p>\n",
    "<table style=\"width:256; border: 1px solid black; display: inline-block\">\n",
    "    <tr>\n",
    "        <td style=\"text-align:left\"><p style=\"color:black; font-size:14px; font-weight:bold\">index</p>\n",
    "        </td>\n",
    "        <td style=\"text-align:left\"><p style=\"color:black; font-size:14px\">Index der Immobilie</p>\n",
    "        </td>\n",
    "    </tr>\n",
    "    <tr>\n",
    "        <td style=\"text-align:left\"><p style=\"color:black; font-size:14px; font-weight:bold\">crime</p>\n",
    "        </td>\n",
    "        <td style=\"text-align:left\"><p style=\"color:black; font-size:14px\">Kriminalitätsrate pro Kopf in der Umgebung</p>\n",
    "        </td>\n",
    "    </tr>\n",
    "    <tr>\n",
    "        <td style=\"text-align:left\"><p style=\"color:black; font-size:14px; font-weight:bold\">zoned</p>\n",
    "        </td>\n",
    "        <td style=\"text-align:left\"><p style=\"color:black; font-size:14px\">Anteil von großflächigen Wohnparzellen in Umgebung</p>\n",
    "        </td>\n",
    "    </tr>\n",
    "    <tr>\n",
    "        <td style=\"text-align:left\"><p style=\"color:black; font-size:14px; font-weight:bold\">industrial</p>\n",
    "        </td>\n",
    "        <td style=\"text-align:left\"><p style=\"color:black; font-size:14px\">Anteil von Industrie in Umgebung</p>\n",
    "        </td>\n",
    "    </tr>\n",
    "    <tr>\n",
    "        <td style=\"text-align:left\"><p style=\"color:black; font-size:14px; font-weight:bold\">river</p>\n",
    "        </td>\n",
    "        <td style=\"text-align:left\"><p style=\"color:black; font-size:14px\">Angrenzend an Fluss</p>\n",
    "        </td>\n",
    "    </tr>\n",
    "    <tr>\n",
    "        <td style=\"text-align:left\"><p style=\"color:black; font-size:14px; font-weight:bold\">nox</p>\n",
    "        </td>\n",
    "        <td style=\"text-align:left\"><p style=\"color:black; font-size:14px\">Stickoxidbelastung (parts per 10 million)</p>\n",
    "        </td>\n",
    "    </tr>\n",
    "    <tr>\n",
    "        <td style=\"text-align:left\"><p style=\"color:black; font-size:14px; font-weight:bold\">rooms</p>\n",
    "        </td>\n",
    "        <td style=\"text-align:left\"><p style=\"color:black; font-size:14px\">Anzahl der Zimmer</p>\n",
    "        </td>\n",
    "    </tr>\n",
    "    <tr>\n",
    "        <td style=\"text-align:left\"><p style=\"color:black; font-size:14px; font-weight:bold\">age</p>\n",
    "        </td>\n",
    "        <td style=\"text-align:left\"><p style=\"color:black; font-size:14px\">Anteil von Vorkriegsbauten in Umgebung</p>\n",
    "        </td>\n",
    "    </tr>\n",
    "    <tr>\n",
    "        <td style=\"text-align:left\"><p style=\"color:black; font-size:14px; font-weight:bold\">distances</p>\n",
    "        </td>\n",
    "        <td style=\"text-align:left\"><p style=\"color:black; font-size:14px\">Gewichtete Distanz zu fünf großen Arbeitgebern in Umgebung</p>\n",
    "        </td>\n",
    "    </tr>\n",
    "    <tr>\n",
    "        <td style=\"text-align:left\"><p style=\"color:black; font-size:14px; font-weight:bold\">highway</p>\n",
    "        </td>\n",
    "        <td style=\"text-align:left\"><p style=\"color:black; font-size:14px\">Bewertung des Autobahnzugangs</p>\n",
    "        </td>\n",
    "    </tr>\n",
    "    <tr>\n",
    "        <td style=\"text-align:left\"><p style=\"color:black; font-size:14px; font-weight:bold\">tax</p>\n",
    "        </td>\n",
    "        <td style=\"text-align:left\"><p style=\"color:black; font-size:14px\">Eigentumssteuer in 10000 Dollar</p>\n",
    "        </td>\n",
    "    </tr>\n",
    "    <tr>\n",
    "        <td style=\"text-align:left\"><p style=\"color:black; font-size:14px; font-weight:bold\">p_t_ratio</p>\n",
    "        </td>\n",
    "        <td style=\"text-align:left\"><p style=\"color:black; font-size:14px\">Verhältnis von Schülern zu Lehrern in Umgebung</p>\n",
    "        </td>\n",
    "    </tr>\n",
    "    <tr>\n",
    "        <td style=\"text-align:left\"><p style=\"color:black; font-size:14px; font-weight:bold\">lower_status</p>\n",
    "        </td>\n",
    "        <td style=\"text-align:left\"><p style=\"color:black; font-size:14px\">Anteil von Menschen niedrigen sozioökonomischen Status in Umgebung</p>\n",
    "        </td>\n",
    "    </tr>\n",
    "    <tr>\n",
    "        <td style=\"text-align:left\"><p style=\"color:black; font-size:14px; font-weight:bold\">value</p>\n",
    "        </td>\n",
    "        <td style=\"text-align:left\"><p style=\"color:black; font-size:14px\">Wert der Immobilie in 1000 Dollar (vorherzusagende Größe)</p>\n",
    "        </td>\n",
    "    </tr>\n",
    "    </table>"
   ]
  },
  {
   "cell_type": "code",
   "execution_count": 173,
   "metadata": {
    "scrolled": true
   },
   "outputs": [],
   "source": [
    "import pandas as pd\n",
    "import numpy as np\n",
    "# Daten  importieren\n",
    "data = pd.read_csv('Data/houses.csv',sep=',')"
   ]
  },
  {
   "cell_type": "markdown",
   "metadata": {
    "editable": false
   },
   "source": [
    "<a id='analyze_data'></a><div><img src=\"Images/IMG-magnifying-glass.png\" style=\"float:left\"> <h2 style=\"position: relative; top: 6px; left: 10px\">2. Daten analysieren</h2>\n",
    "<p style=\"position: relative; top: 10px\">\n",
    "Durchstöbern Sie die Daten. Welche Spalten sind numerisch? Wie ist die Werteverteilung in den einzelnen Spalten? Fehlen Werte?\n",
    "</p>"
   ]
  },
  {
   "cell_type": "code",
   "execution_count": 174,
   "metadata": {},
   "outputs": [
    {
     "name": "stdout",
     "output_type": "stream",
     "text": [
      "    index    crime  zoned  industrial  river    nox  rooms    age  distances  \\\n",
      "0       1  0.00632   18.0        2.31      0  0.538  6.575   65.2     4.0900   \n",
      "1       2  0.02731    0.0        7.07      0  0.469  6.421   78.9     4.9671   \n",
      "2       3  0.02729    0.0        7.07      0  0.469  7.185   61.1     4.9671   \n",
      "3       5  0.06905    0.0        2.18      0  0.458  7.147   54.2     6.0622   \n",
      "4       6  0.02985    0.0        2.18      0  0.458  6.430   58.7     6.0622   \n",
      "5       7  0.08829   12.5        7.87      0  0.524  6.012   66.6     5.5605   \n",
      "6       8  0.14455   12.5        7.87      0  0.524  6.172   96.1     5.9505   \n",
      "7       9  0.21124   12.5        7.87      0  0.524  5.631  100.0     6.0821   \n",
      "8      11  0.22489   12.5        7.87      0  0.524  6.377   94.3     6.3467   \n",
      "9      12  0.11747   12.5        7.87      0  0.524  6.009   82.9     6.2267   \n",
      "10     13  0.09378   12.5        7.87      0  0.524  5.889   39.0     5.4509   \n",
      "11     14  0.62976    0.0        8.14      0  0.538  5.949   61.8     4.7075   \n",
      "12     16  0.62739    0.0        8.14      0  0.538  5.834   56.5     4.4986   \n",
      "13     17  1.05393    0.0        8.14      0  0.538  5.935   29.3     4.4986   \n",
      "14     19  0.80271    0.0        8.14      0  0.538  5.456   36.6     3.7965   \n",
      "15     20  0.72580    0.0        8.14      0  0.538  5.727   69.5     3.7965   \n",
      "\n",
      "    highway  tax  p_t_ratio  lower_status  value  \n",
      "0         1  296       15.3          4.98   24.0  \n",
      "1         2  242       17.8          9.14   21.6  \n",
      "2         2  242       17.8          4.03   34.7  \n",
      "3         3  222       18.7          5.33   36.2  \n",
      "4         3  222       18.7          5.21   28.7  \n",
      "5         5  311       15.2         12.43   22.9  \n",
      "6         5  311       15.2         19.15   27.1  \n",
      "7         5  311       15.2         29.93   16.5  \n",
      "8         5  311       15.2         20.45   15.0  \n",
      "9         5  311       15.2         13.27   18.9  \n",
      "10        5  311       15.2         15.71   21.7  \n",
      "11        4  307       21.0          8.26   20.4  \n",
      "12        4  307       21.0          8.47   19.9  \n",
      "13        4  307       21.0          6.58   23.1  \n",
      "14        4  307       21.0         11.69   20.2  \n",
      "15        4  307       21.0         11.28   18.2  \n"
     ]
    },
    {
     "data": {
      "text/html": [
       "<div>\n",
       "<style scoped>\n",
       "    .dataframe tbody tr th:only-of-type {\n",
       "        vertical-align: middle;\n",
       "    }\n",
       "\n",
       "    .dataframe tbody tr th {\n",
       "        vertical-align: top;\n",
       "    }\n",
       "\n",
       "    .dataframe thead th {\n",
       "        text-align: right;\n",
       "    }\n",
       "</style>\n",
       "<table border=\"1\" class=\"dataframe\">\n",
       "  <thead>\n",
       "    <tr style=\"text-align: right;\">\n",
       "      <th></th>\n",
       "      <th>index</th>\n",
       "      <th>crime</th>\n",
       "      <th>zoned</th>\n",
       "      <th>industrial</th>\n",
       "      <th>river</th>\n",
       "      <th>nox</th>\n",
       "      <th>rooms</th>\n",
       "      <th>age</th>\n",
       "      <th>distances</th>\n",
       "      <th>highway</th>\n",
       "      <th>tax</th>\n",
       "      <th>p_t_ratio</th>\n",
       "      <th>lower_status</th>\n",
       "      <th>value</th>\n",
       "    </tr>\n",
       "  </thead>\n",
       "  <tbody>\n",
       "    <tr>\n",
       "      <th>11</th>\n",
       "      <td>14</td>\n",
       "      <td>0.62976</td>\n",
       "      <td>0.0</td>\n",
       "      <td>8.14</td>\n",
       "      <td>0</td>\n",
       "      <td>0.538</td>\n",
       "      <td>5.949</td>\n",
       "      <td>61.8</td>\n",
       "      <td>4.7075</td>\n",
       "      <td>4</td>\n",
       "      <td>307</td>\n",
       "      <td>21.0</td>\n",
       "      <td>8.26</td>\n",
       "      <td>20.4</td>\n",
       "    </tr>\n",
       "    <tr>\n",
       "      <th>237</th>\n",
       "      <td>307</td>\n",
       "      <td>0.07503</td>\n",
       "      <td>33.0</td>\n",
       "      <td>2.18</td>\n",
       "      <td>0</td>\n",
       "      <td>0.472</td>\n",
       "      <td>7.420</td>\n",
       "      <td>71.9</td>\n",
       "      <td>3.0992</td>\n",
       "      <td>7</td>\n",
       "      <td>222</td>\n",
       "      <td>18.4</td>\n",
       "      <td>6.47</td>\n",
       "      <td>33.4</td>\n",
       "    </tr>\n",
       "    <tr>\n",
       "      <th>322</th>\n",
       "      <td>405</td>\n",
       "      <td>41.52920</td>\n",
       "      <td>0.0</td>\n",
       "      <td>18.10</td>\n",
       "      <td>0</td>\n",
       "      <td>0.693</td>\n",
       "      <td>5.531</td>\n",
       "      <td>85.4</td>\n",
       "      <td>1.6074</td>\n",
       "      <td>24</td>\n",
       "      <td>666</td>\n",
       "      <td>20.2</td>\n",
       "      <td>27.38</td>\n",
       "      <td>8.5</td>\n",
       "    </tr>\n",
       "  </tbody>\n",
       "</table>\n",
       "</div>"
      ],
      "text/plain": [
       "     index     crime  zoned  industrial  river    nox  rooms   age  distances  \\\n",
       "11      14   0.62976    0.0        8.14      0  0.538  5.949  61.8     4.7075   \n",
       "237    307   0.07503   33.0        2.18      0  0.472  7.420  71.9     3.0992   \n",
       "322    405  41.52920    0.0       18.10      0  0.693  5.531  85.4     1.6074   \n",
       "\n",
       "     highway  tax  p_t_ratio  lower_status  value  \n",
       "11         4  307       21.0          8.26   20.4  \n",
       "237        7  222       18.4          6.47   33.4  \n",
       "322       24  666       20.2         27.38    8.5  "
      ]
     },
     "execution_count": 174,
     "metadata": {},
     "output_type": "execute_result"
    }
   ],
   "source": [
    "# Daten explorieren\n",
    "print(data.head(16))\n",
    "#print(data.describe())\n",
    "#print(data.columns)\n",
    "#data.dtypes # nur int64 & float 64\n",
    "#data.count() #403\n",
    "#data.isna().any() #vollständiger datensatz\n",
    "data.sample(3)\n"
   ]
  },
  {
   "cell_type": "markdown",
   "metadata": {
    "editable": false
   },
   "source": [
    "<a id='clean_data'></a><div><img src=\"Images/IMG-broom.png\" style=\"float:left\"> <h2 style=\"position: relative; top: 6px; left:10px\">3. Daten säubern</h2>"
   ]
  },
  {
   "cell_type": "code",
   "execution_count": 175,
   "metadata": {},
   "outputs": [
    {
     "name": "stdout",
     "output_type": "stream",
     "text": [
      "<class 'numpy.ndarray'>\n"
     ]
    }
   ],
   "source": [
    "# Daten säubern\n",
    "X = data.drop(columns=['value','index'])\n",
    "y = data['value']\n",
    "\n",
    "from sklearn.model_selection import train_test_split\n",
    "#Split in training & test sets\n",
    "X_train, X_test, y_train, y_test = train_test_split(X,y)\n",
    "\n",
    "\n",
    "# Standarisierung\n",
    "from sklearn.preprocessing import StandardScaler\n",
    "\n",
    "# Instanziieren StandardScaler()\n",
    "stdScaler = StandardScaler()\n",
    "\n",
    "# Berechnung Standardisierungsparametr auf dem Trainingsset\n",
    "stdScaler.fit(X_train)\n",
    "X_train = stdScaler.transform(X_train)\n",
    "X_test = stdScaler.transform(X_test)\n",
    "print(type(X_test))\n",
    "X_full = np.concatenate((X_train,X_test),axis=0)\n"
   ]
  },
  {
   "cell_type": "markdown",
   "metadata": {
    "editable": false
   },
   "source": [
    "<a id='build_model'></a><div><img src=\"Images/IMG-diagram.png\" style=\"float:left\"> <h2 style=\"position: relative; top: 6px; left:10px\">4. Modellauswahl</h2>\n",
    "<p style=\"position: relative; top: 10px\">\n",
    "Trainieren Sie ein Regressionsmodell zur Vorhersage des Werts einer Immobilie. Denken Sie unabhängig von der Art des gewählten Modells daran, alle Hyperparameter zu optimieren. \n",
    "</p>"
   ]
  },
  {
   "cell_type": "code",
   "execution_count": 176,
   "metadata": {},
   "outputs": [
    {
     "name": "stdout",
     "output_type": "stream",
     "text": [
      "Lineare Regression 1. Ordnung - Training: R² = 0.72 Test: R² = 0.71\n",
      "Lineare Regression 2. Ordnung - Training: R² = 0.80 Test: R² = 0.82\n",
      "Das korrigerte R² für die Trainingsdaten beträgt 0.78.\n",
      "Lineare Regression 3. Ordnung - Training: R² = 0.82 Test: R² = 0.79\n"
     ]
    },
    {
     "data": {
      "text/plain": [
       "LinearRegression(copy_X=True, fit_intercept=True, n_jobs=None, normalize=False)"
      ]
     },
     "execution_count": 176,
     "metadata": {},
     "output_type": "execute_result"
    }
   ],
   "source": [
    "## 1 Linear Regression\n",
    "\n",
    "from sklearn.linear_model import LinearRegression\n",
    "\n",
    "# 1. Ordnung\n",
    "# Modellinitialiierung\n",
    "lr1_model = LinearRegression()\n",
    "# Trainieren (\"Fitten\")\n",
    "lr1_model.fit(X_train, y_train)\n",
    "\n",
    "# R^2 im Training\n",
    "train_score_lr1 = lr1_model.score(X_train, y_train)\n",
    "# R^2 im Test\n",
    "test_score_lr1 = lr1_model.score(X_test, y_test)\n",
    "# Ausgabe der Performancemaße\n",
    "print(\"Lineare Regression 1. Ordnung - Training: R² = {:.2f} Test: R² = {:.2f}\".format(train_score_lr1, test_score_lr1))\n",
    "# Am Ende Modell mit optimalen Hyperparametern auf allen gelabelte Daten trainieren!\n",
    "lr1_model.fit(X_full, y)\n",
    "\n",
    "# 2. Ordnung\n",
    "# Merkmalmatriz 2. Ordnung\n",
    "X_2_train = np.concatenate([X_train, X_train ** 2], axis=1)\n",
    "X_2_test = np.concatenate([X_test, X_test ** 2], axis=1)\n",
    "\n",
    "# # Standardisierung\n",
    "stdScaler_2 = StandardScaler().fit(X_2_train)\n",
    "X_2_train = stdScaler_2.transform(X_2_train)\n",
    "X_2_test = stdScaler_2.transform(X_2_test)\n",
    "# Modellinitialiierung\n",
    "lr2_model = LinearRegression()\n",
    "# Modell trainieren\n",
    "lr2_model.fit(X_2_train,y_train)\n",
    "\n",
    "# R^2 im Training\n",
    "train_score_lr2 = lr2_model.score(X_2_train, y_train)\n",
    "# R^2 im Test\n",
    "test_score_lr2 = lr2_model.score(X_2_test, y_test)\n",
    "# Ausgabe der Performancemaße\n",
    "print(\"Lineare Regression 2. Ordnung - Training: R² = {:.2f} Test: R² = {:.2f}\".format( train_score_lr2, test_score_lr2 ))\n",
    "\n",
    "# Anzahl der Stichprobenelemente\n",
    "N = X_2_train.shape[0]\n",
    "# Anzahl der Prädiktoren\n",
    "M = X_2_train.shape[1]\n",
    "# Korrgiertes R^2 berechnen\n",
    "R2_korr = 1 - (1-train_score_lr2) * (N-1) / (N-M-1)\n",
    "print(\"Das korrigerte R² für die Trainingsdaten beträgt {:.2f}.\".format(R2_korr))\n",
    "\n",
    "# Am Ende Modell mit optimalen Hyperparametern auf allen gelabelte Daten trainieren!\n",
    "lr2_model.fit(X_full,y)\n",
    "\n",
    "# 3. Ordnung \n",
    "# Merkmalmatriz 3. Ordnung\n",
    "X_3_train = np.concatenate([X_train,X_train ** 2, X_train ** 3], axis=1)\n",
    "X_3_test = np.concatenate([X_test, X_test ** 2, X_test ** 3], axis=1)\n",
    "\n",
    "# Standardisierung\n",
    "stdScaler_3 = StandardScaler().fit(X_3_train,y_train)\n",
    "X_3_train = stdScaler_3.transform(X_3_train)\n",
    "X_3_test = stdScaler_3.transform(X_3_test)\n",
    "\n",
    "# Modellinitialiierung\n",
    "lr3_model = LinearRegression()\n",
    "# Modell trainieren\n",
    "lr3_model.fit(X_3_train,y_train)\n",
    "\n",
    "# R^2 im Training\n",
    "train_score_lr3 = lr3_model.score(X_3_train, y_train)\n",
    "# R^2 im Test\n",
    "test_score_lr3 = lr3_model.score(X_3_test, y_test)\n",
    "# Ausgabe der Performancemaße\n",
    "print(\"Lineare Regression 3. Ordnung - Training: R² = {:.2f} Test: R² = {:.2f}\".format( train_score_lr3, test_score_lr3 ))\n",
    "\n",
    "# Am Ende Modell mit optimalen Hyperparametern auf allen gelabelte Daten trainieren!\n",
    "lr3_model.fit(X_full,y)\n"
   ]
  },
  {
   "cell_type": "code",
   "execution_count": 177,
   "metadata": {
    "scrolled": true
   },
   "outputs": [
    {
     "name": "stdout",
     "output_type": "stream",
     "text": [
      "Ridge Regression 1. Ordnung (alpha=10.00): Training R^2 = 0.72 Test R^2 = 0.71\n",
      "Ridge Regression 2. Ordnung (alpha=1.00): Training R^2 = 0.80 Test R^2 = 0.83\n",
      "Ridge Regression 3. Ordnung (alpha=0.10): Training R^2 = 0.82 Test R^2 = 0.79\n"
     ]
    },
    {
     "data": {
      "text/plain": [
       "RidgeCV(alphas=array([1.e-06, 1.e-05, 1.e-04, 1.e-03, 1.e-02, 1.e-01, 1.e+00, 1.e+01,\n",
       "       1.e+02, 1.e+03, 1.e+04, 1.e+05, 1.e+06, 1.e+07, 1.e+08, 1.e+09,\n",
       "       1.e+10]),\n",
       "        cv=None, fit_intercept=True, gcv_mode=None, normalize=False,\n",
       "        scoring=None, store_cv_values=False)"
      ]
     },
     "execution_count": 177,
     "metadata": {},
     "output_type": "execute_result"
    }
   ],
   "source": [
    "## Ridge\n",
    "from sklearn.linear_model import RidgeCV\n",
    "\n",
    "# alpha param candidates\n",
    "alpha_candidates = np.logspace(-6, 10, 17)\n",
    "\n",
    "# 1. Ordnung\n",
    "# Modellinitialiierung mit aplha param\n",
    "ridge1_model = RidgeCV(alphas=alpha_candidates)\n",
    "\n",
    "# Modell trainieren\n",
    "ridge1_model.fit(X_train, y_train)\n",
    "\n",
    "\n",
    "# Optimales alpha\n",
    "alpha_opt = ridge1_model.alpha_\n",
    "# R^2 im Training\n",
    "train_score_ridge1 = ridge1_model.score(X_train, y_train)\n",
    "# R^2 im Test\n",
    "test_score_ridge1 = ridge1_model.score(X_test, y_test)\n",
    "# Ausgabe der Performancemaße\n",
    "print(\"Ridge Regression 1. Ordnung (alpha={:.2f}): Training R^2 = {:.2f} Test R^2 = {:.2f}\".format(alpha_opt, train_score_ridge1, test_score_ridge1))\n",
    "\n",
    "# 2. Ordnung\n",
    "# Modellinitialiierung mit aplha param\n",
    "ridge2_model = RidgeCV(alphas=alpha_candidates)\n",
    "\n",
    "# Modell trainieren\n",
    "ridge2_model.fit(X_2_train,y_train)\n",
    "\n",
    "# Optimales alpha\n",
    "alpha_opt = ridge2_model.alpha_\n",
    "# R^2 im Training\n",
    "train_score_ridge2 = ridge2_model.score(X_2_train,y_train)\n",
    "# R^2 im Test\n",
    "test_score_ridge2 = ridge2_model.score(X_2_test,y_test)\n",
    "# Ausgabe der Performancemaße\n",
    "print(\"Ridge Regression 2. Ordnung (alpha={:.2f}): Training R^2 = {:.2f} Test R^2 = {:.2f}\".format(alpha_opt, train_score_ridge2, test_score_ridge2))\n",
    "\n",
    "#3. Ordnung\n",
    "# Modellinitialiierung mit aplha param\n",
    "ridge3_model = RidgeCV(alphas=alpha_candidates)\n",
    "\n",
    "# Modell trainieren\n",
    "ridge3_model.fit(X_3_train,y_train)\n",
    "\n",
    "# Optimales alpha\n",
    "alpha_opt = ridge3_model.alpha_\n",
    "# R^2 im Training\n",
    "train_score_ridge3 = ridge3_model.score(X_3_train,y_train)\n",
    "# R^2 im Test\n",
    "test_score_ridge3 = ridge3_model.score(X_3_test,y_test)\n",
    "# Ausgabe der Performancemaße\n",
    "print(\"Ridge Regression 3. Ordnung (alpha={:.2f}): Training R^2 = {:.2f} Test R^2 = {:.2f}\".format(alpha_opt, train_score_ridge3, test_score_ridge3))\n",
    "\n",
    "\n",
    "# Am Ende Modell mit optimalen Hyperparametern auf allen gelabelte Daten trainieren!\n",
    "ridge3_model.fit(X_2_train,y_train)\n"
   ]
  },
  {
   "cell_type": "code",
   "execution_count": 178,
   "metadata": {},
   "outputs": [
    {
     "name": "stdout",
     "output_type": "stream",
     "text": [
      "Support Vector Regression: Training R^2 = 0.61 Test R^2 = 0.68\n",
      "Fitting 5 folds for each of 140 candidates, totalling 700 fits\n"
     ]
    },
    {
     "name": "stderr",
     "output_type": "stream",
     "text": [
      "[Parallel(n_jobs=-1)]: Using backend LokyBackend with 12 concurrent workers.\n",
      "[Parallel(n_jobs=-1)]: Done   1 tasks      | elapsed:    0.0s\n",
      "[Parallel(n_jobs=-1)]: Batch computation too fast (0.0114s.) Setting batch_size=2.\n",
      "[Parallel(n_jobs=-1)]: Done   8 tasks      | elapsed:    0.1s\n",
      "[Parallel(n_jobs=-1)]: Done  17 tasks      | elapsed:    0.1s\n",
      "[Parallel(n_jobs=-1)]: Batch computation too fast (0.0759s.) Setting batch_size=4.\n",
      "[Parallel(n_jobs=-1)]: Done  28 tasks      | elapsed:    0.1s\n",
      "[Parallel(n_jobs=-1)]: Done  50 tasks      | elapsed:    0.1s\n",
      "[Parallel(n_jobs=-1)]: Done  72 tasks      | elapsed:    0.2s\n",
      "[Parallel(n_jobs=-1)]: Batch computation too fast (0.0472s.) Setting batch_size=8.\n",
      "[Parallel(n_jobs=-1)]: Done 124 tasks      | elapsed:    0.2s\n",
      "[Parallel(n_jobs=-1)]: Batch computation too fast (0.0833s.) Setting batch_size=16.\n",
      "[Parallel(n_jobs=-1)]: Done 184 tasks      | elapsed:    0.3s\n",
      "[Parallel(n_jobs=-1)]: Done 304 tasks      | elapsed:    0.4s\n",
      "[Parallel(n_jobs=-1)]: Batch computation too fast (0.0853s.) Setting batch_size=32.\n",
      "[Parallel(n_jobs=-1)]: Done 458 tasks      | elapsed:    0.4s\n",
      "[Parallel(n_jobs=-1)]: Done 550 tasks      | elapsed:    0.5s\n",
      "[Parallel(n_jobs=-1)]: Done 582 tasks      | elapsed:    0.6s\n",
      "[Parallel(n_jobs=-1)]: Done 601 tasks      | elapsed:    0.7s\n"
     ]
    },
    {
     "name": "stdout",
     "output_type": "stream",
     "text": [
      "Best param\n",
      "{'C': 100.0, 'epsilon': 1.0, 'kernel': 'rbf'}\n",
      "Tuned Support Vector Regression: Training R^2 = 0.95 Test R^2 = 0.92\n"
     ]
    },
    {
     "name": "stderr",
     "output_type": "stream",
     "text": [
      "[Parallel(n_jobs=-1)]: Done 620 tasks      | elapsed:    0.7s\n",
      "[Parallel(n_jobs=-1)]: Done 641 tasks      | elapsed:    0.8s\n",
      "[Parallel(n_jobs=-1)]: Done 662 tasks      | elapsed:    0.9s\n",
      "[Parallel(n_jobs=-1)]: Done 700 out of 700 | elapsed:    0.9s finished\n"
     ]
    },
    {
     "data": {
      "text/plain": [
       "SVR(C=100, cache_size=200, coef0=0.0, degree=3, epsilon=1, gamma='scale',\n",
       "    kernel='rbf', max_iter=-1, shrinking=True, tol=0.001, verbose=False)"
      ]
     },
     "execution_count": 178,
     "metadata": {},
     "output_type": "execute_result"
    }
   ],
   "source": [
    "## SVR\n",
    "\n",
    "from sklearn.svm import SVR\n",
    "\n",
    "# Modellinitialiierung\n",
    "svr_model = SVR()\n",
    "# Modell trainieren\n",
    "svr_model.fit(X_train,y_train)\n",
    "\n",
    "# R^2 im Training\n",
    "train_score_svr = svr_model.score(X_train,y_train)\n",
    "# R^2 im Test\n",
    "test_score_svr = svr_model.score(X_test,y_test)\n",
    "\n",
    "# Ausgabe der Performance\n",
    "print(\"Support Vector Regression: Training R^2 = {:.2f} Test R^2 = {:.2f}\".format(train_score_svr, test_score_svr))\n",
    "\n",
    "\n",
    "from sklearn.model_selection import GridSearchCV\n",
    "\n",
    "# Auswahl der zu testenden Hyperparameter \n",
    "param_grid = [\n",
    "    {'C': np.logspace(-2, 2, 5),        # Parameter C nach Vorlesung\n",
    "     'epsilon': np.logspace(-3, 3, 7),  # Parameter epsilon zur Steuerung \n",
    "     'kernel': ['linear', 'rbf','poly','sigmoid']},      # Verwendeter Kernel\n",
    "]\n",
    "\n",
    "# Instanziieren des Objekts \"GridSearchCV\"\n",
    "svr_model = GridSearchCV(SVR(),            # Regressionsmodell, das benutzt werden soll\n",
    "                         param_grid,       # Auszuprobierenden Hyperparameterwerte\n",
    "                         scoring='r2',     # Zu verwendende Metrik\n",
    "                         cv=5,             # Anzahl der Folds für die Kreuvalidierung\n",
    "                         verbose=10,       # Menge des Output während der Suche (größere Zahl -> mehr Info)\n",
    "                         n_jobs=-1)        # Anzahl der parallel genutzen CPUs; -1: alle verfügbaren CPUs nutzen\n",
    "\n",
    "# Modell trainieren\n",
    "svr_model.fit(X_train, y_train)\n",
    "print('Best param')\n",
    "print(svr_model.best_params_)\n",
    "\n",
    "svr_model = SVR(C=100, epsilon=1, kernel='rbf').fit(X_train, y_train) # Kommentieren Sie diese Zeile ein, wenn Sie die Kreuzvalidierung übersprungen haben\n",
    "\n",
    "# R^2 im Training\n",
    "train_score_svr = svr_model.score(X_train,y_train) \n",
    "# R^2 im Test\n",
    "test_score_svr = svr_model.score(X_test,y_test)\n",
    "\n",
    "# Ausgabe der Performance\n",
    "print(\"Tuned Support Vector Regression: Training R^2 = {:.2f} Test R^2 = {:.2f}\".format(train_score_svr, test_score_svr))\n",
    "\n",
    "svr_model.fit(X_full, y)"
   ]
  },
  {
   "cell_type": "markdown",
   "metadata": {
    "editable": false
   },
   "source": [
    "<a id='make_predictions'></a><div><img src=\"Images/IMG-euro.png\" style=\"float:left\"> <h2 style=\"position: relative; top: 6px; left:10px\">5. Vorhersagen treffen</h2>\n",
    "<p style=\"position: relative; top: 10px\">\n",
    "Verwenden Sie Ihr trainiertes Modell, um für alle ungelabelten Beobachtungen aus \"houses_test.csv\" eine Vorhersage des Wertes zu treffen!\n",
    "\n",
    "Denken Sie daran, die Daten vorher auf die <strong>exakt gleiche Weise</strong> aufzubereiten, wie Sie es mit den Trainingsdaten getan haben.\n",
    "</p>"
   ]
  },
  {
   "cell_type": "code",
   "execution_count": 179,
   "metadata": {},
   "outputs": [
    {
     "name": "stdout",
     "output_type": "stream",
     "text": [
      "     crime  zoned  industrial  river    nox  rooms   age  distances  highway  \\\n",
      "0  0.03237    0.0        2.18      0  0.458  6.998  45.8     6.0622        3   \n",
      "1  0.17004   12.5        7.87      0  0.524  6.004  85.9     6.5921        5   \n",
      "2  0.63796    0.0        8.14      0  0.538  6.096  84.5     4.4619        4   \n",
      "3  0.78420    0.0        8.14      0  0.538  5.990  81.7     4.2579        4   \n",
      "4  1.25179    0.0        8.14      0  0.538  5.570  98.1     3.7979        4   \n",
      "\n",
      "   tax  p_t_ratio  lower_status      value  \n",
      "0  222       18.7          2.94  23.453146  \n",
      "1  311       15.2         17.10  18.740920  \n",
      "2  307       21.0         10.26  20.066175  \n",
      "3  307       21.0         14.67  21.166408  \n",
      "4  307       21.0         21.02  23.030168  \n"
     ]
    }
   ],
   "source": [
    "# Vorverabeitung der Testdaten (exakt wie Vorverarbeitung von Trainingsdaten!)\n",
    "test_data = pd.read_csv('Data/houses_test.csv',sep=',')\n",
    "test_data.drop(columns='index',inplace=True)\n",
    "results = test_data.copy()\n",
    "\n",
    "# Standardisierung\n",
    "stdScaler2 = StandardScaler()\n",
    "stdScaler2.fit(test_data)\n",
    "test_data = stdScaler2.transform(test_data)\n",
    "\n",
    "# Vorhersagen treffen\n",
    "prediction = svr_model.predict(test_data)\n",
    "results['value'] = prediction\n",
    "\n",
    "print(results.head(5))\n"
   ]
  },
  {
   "cell_type": "markdown",
   "metadata": {
    "editable": false
   },
   "source": [
    "<a id='save_predictions'></a><div><img src=\"Images/IMG-csv-out.png\" style=\"float:left\"> <h2 style=\"position: relative; top: 6px; left:10px\">6. Vorhersagen speichern</h2>\n",
    "<p style=\"position: relative; top: 10px\">\n",
    "Speichern Sie die Vorhersagen in einer CSV-Datei ab. Die Datei soll nur eine Spalte haben. In jeder Zeile soll genau eine Zahl stehen, die dem vorhergesagten Wert entspricht. Die Reihenfolge der Vorhersagen muss der Reihenfolge der Beobachtungen in \"houses_test.csv\" entsprechen.\n",
    "</p>"
   ]
  },
  {
   "cell_type": "code",
   "execution_count": 180,
   "metadata": {},
   "outputs": [],
   "source": [
    "# Vorhersagen speichern\n",
    "results['value'].to_csv('houses_test.csv')"
   ]
  },
  {
   "cell_type": "markdown",
   "metadata": {
    "editable": false
   },
   "source": [
    "Wenn Sie möchten, können Sie die CSV-Datei mit Ihren Vorhersagen an <a href=\"mailto:simon.stone@tu-dresden.de?Subject=Vorhersagen%20zu%20Jupyter%20Notebook%20Immobilienpreise\" target=\"_top\">Simon Stone</a> schicken und so an einem kleinen Wettbewerb teilnehmen: Wir berechnen die mittlere Abweichung der Vorhersagen Ihres Modells auf den ungesehenen Daten und stellen so ein Kurs-internes Ranking auf, das wir am Ende der Vorlesungszeit im Kurs bekannt geben werden. Optional können Sie uns auch ein Pseudonym mitteilen, unter dem Sie auf der Liste geführt werden, wenn Sie nicht namentlich dort erscheinen wollen. Viel Erfolg!"
   ]
  },
  {
   "cell_type": "markdown",
   "metadata": {
    "editable": false
   },
   "source": [
    "<img src=\"Images/IMG-Monopoly-Tokens.jpg\">"
   ]
  },
  {
   "cell_type": "markdown",
   "metadata": {
    "editable": false
   },
   "source": [
    "---\n",
    "<div>Housing data in the public domain. Source: Harrison, D. and Rubinfeld, D.L. \"Hedonic prices and the demand for clean air\", J. Environ. Economics & Management, vol.5, 81-102, 1978.</div>\n",
    "<div>Icons made by <a href=\"https://www.flaticon.com/authors/swifticons\" title=\"Swifticons\">Swifticons</a> from <a href=\"https://www.flaticon.com/\" title=\"Flaticon\">www.flaticon.com</a></div>\n",
    "<div>Monopoly tokens image based on <a href=\"https://monopoly.fandom.com/wiki/Tokens?file=Monopoly_1946-tokens.jpg\">Monopoly Wiki</a></div>\n",
    "<div>Notebook erstellt von <a href=\"mailto:simon.stone@tu-dresden.de?Subject=Frage%20zu%20Jupyter%20Notebook%20Immobilienpreise\" target=\"_top\">Simon Stone</a></div>"
   ]
  },
  {
   "cell_type": "code",
   "execution_count": null,
   "metadata": {},
   "outputs": [],
   "source": []
  },
  {
   "cell_type": "code",
   "execution_count": null,
   "metadata": {},
   "outputs": [],
   "source": []
  },
  {
   "cell_type": "code",
   "execution_count": null,
   "metadata": {},
   "outputs": [],
   "source": []
  },
  {
   "cell_type": "code",
   "execution_count": null,
   "metadata": {},
   "outputs": [],
   "source": []
  },
  {
   "cell_type": "code",
   "execution_count": null,
   "metadata": {},
   "outputs": [],
   "source": []
  }
 ],
 "metadata": {
  "celltoolbar": "Edit Metadata",
  "kernelspec": {
   "display_name": "Python 3",
   "language": "python",
   "name": "python3"
  },
  "language_info": {
   "codemirror_mode": {
    "name": "ipython",
    "version": 3
   },
   "file_extension": ".py",
   "mimetype": "text/x-python",
   "name": "python",
   "nbconvert_exporter": "python",
   "pygments_lexer": "ipython3",
   "version": "3.7.6"
  }
 },
 "nbformat": 4,
 "nbformat_minor": 2
}
