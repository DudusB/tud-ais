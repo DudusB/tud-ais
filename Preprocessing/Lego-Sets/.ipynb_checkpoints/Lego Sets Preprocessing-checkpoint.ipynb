{
 "cells": [
  {
   "cell_type": "markdown",
   "metadata": {
    "editable": false
   },
   "source": [
    "<img src=\"Images/IMG-dirty-data.jpg\">\n",
    "Bei der Verarbeitung von Daten mit maschinellen Lernverfahren sieht man sich oft mit Datensätzen konfrontiert, die aus vielen verschiedenen Merkmalen bestehen. Diese Merkmale sind dabei oft heterogen: manche werden durch einen kontinuierlichen Zahlenwert kodiert, manche können nur bestimmte diskrete Stufen annehmen, manche sind vielleicht durch ein Wort oder sogar ganze Sätze kodiert. Oftmals fehlen auch einzelne Werte von Merkmalen, bspw. weil ein Sensor in einem multimodalen Messsystem kurzzeitig ausgefallen war oder weil bei einem Fragebogen nicht alle Fragen beantwortet wurden. Die meisten maschinellen Lernverfahren erwarten aber vollständig besetzte, ausschließlich numerische Merkmalvektoren am Eingang. \n",
    "\n",
    "<img style=\"float: right; margin:5px 0px 0px 10px\" src=\"Images/IMG-lego-logo.svg\" alt=\"Lego-Logo\" height=\"128\" width=\"128\">\n",
    "\n",
    "In diesem Notebook sollen Sie Verfahren kennenlernen und anwenden, die bei der Vorverarbeitung eines gemischten Datensatzes (\"Dirty Data\") zum Einsatz kommen können. Als Beispieldatensatz verwenden wir eine Datei, die durch Extraktion der Daten aller auf www.lego.com verfügbaren Produkte entstanden ist (siehe auch [Web Scraping](https://en.wikipedia.org/wiki/Web_scraping)). Der Inhalt der einzelnen Spalten sollte anhand der Spaltentitel weitgehend selbsterklärend sein.\n",
    "\n",
    "## Inhalt\n",
    "<table style=\"width:256; border: 1px solid black; display: inline-block\">\n",
    "  <tr>\n",
    "    <td  style=\"text-align:right\" width=64px><img src=\"Images/IMG-csv-in.png\" style=\"float:left\"></td>\n",
    "      <td style=\"text-align:left\" width=128px>\n",
    "          <a style=\"color:black; font-size:14px; font-weight:bold; text-decoration:none\" href='#import_data'>Daten importieren</a>\n",
    "      </td>\n",
    "  </tr>\n",
    "  <tr>\n",
    "    <td style=\"text-align:right\"><img src=\"Images/IMG-magnifying-glass.png\" style=\"float:left\"></td>\n",
    "    <td style=\"text-align:left\" width=128px><a style=\"color:black; font-size:14px; font-weight:bold; text-decoration:none\" href='#analyze_data'>Daten analysieren</a>\n",
    "      </td>\n",
    "  </tr>\n",
    "    <tr>\n",
    "    <td style=\"text-align:right\"><img src=\"Images/IMG-broom.png\" style=\"float:left\"></td>\n",
    "    <td style=\"text-align:left\" width=128px><a style=\"color:black; font-size:14px; font-weight:bold; text-decoration:none\" href='#clean_data'>Daten säubern</a>\n",
    "        </td>\n",
    "    </tr>\n",
    "    <tr>\n",
    "    <td style=\"text-align:right\"><img src=\"Images/IMG-csv-out.png\" style=\"float:left\"></td>\n",
    "    <td style=\"text-align:left\" width=128px><a style=\"color:black; font-size:14px; font-weight:bold; text-decoration:none\" href='#save_data'>Daten speichern</a>\n",
    "        </td>\n",
    "  </tr>\n",
    "</table>\n"
   ]
  },
  {
   "cell_type": "markdown",
   "metadata": {
    "editable": false
   },
   "source": [
    "<a id='import_data'></a><div><img src=\"Images/IMG-csv-in.png\" style=\"float:left\"> <h2 style=\"position: relative; top: 6px\">1. Daten Importieren</h2>\n",
    "<p style=\"position: relative; top: 10px\">\n",
    "Die unbearbeiteten Rohdaten liegen im Format einer <a href=\"https://de.wikipedia.org/wiki/CSV_(Dateiformat)\">CSV-Datei</a> vor. In den meisten <a href=\"https://de.wikipedia.org/wiki/H%C3%B6here_Programmiersprache\">höheren Programmiersprachen</a> (wie z.B. Python oder Matlab) existieren bereits Methoden zum Import dieser einfach strukturierten Dateien. Im Falle von Python geht das z.B. mit der Funktion <a href=\"https://pandas.pydata.org/docs/reference/api/pandas.read_csv.html#pandas.read_csv\">read_csv()</a> aus dem Modul <a href=\"https://pandas.pydata.org/docs/getting_started/10min.html#min\">pandas (Klick hier für eine 10minütige Tour)</a>. \n",
    "</p>\n",
    "\n",
    "Das funktioniert zum Beispiel so:\n",
    "\n",
    "```python\n",
    "import pandas as pd\n",
    "data = pd.read_csv(\"Path/to/data.csv\")\n",
    "```\n",
    "\n",
    "Probieren Sie es in der nächsten Zelle gleich mal aus! Die CSV-Datei ``lego_sets.csv`` befindet sich im Unterverzeichnis ``Data``."
   ]
  },
  {
   "cell_type": "code",
   "execution_count": 1,
   "metadata": {},
   "outputs": [],
   "source": [
    "# Hier können Sie Python-Code hineinschreiben und mit Shift+Enter ausführen!\n",
    "\n",
    "# Modul importieren\n",
    "import pandas as pd\n",
    "# CSV-Datei lesen (Daten als DataFrame speichern)\n",
    "data = pd.read_csv(\"Data/lego_sets.csv\")"
   ]
  },
  {
   "cell_type": "markdown",
   "metadata": {
    "editable": false
   },
   "source": [
    "Sehen wir uns mal an, wie pandas die eingelesenen Daten abspeichert. Sie finden diese Information natürlich in der Dokumentation, aber Sie können auch die [Built-In Funktion type()](https://docs.python.org/3/library/functions.html#type) verwenden:"
   ]
  },
  {
   "cell_type": "code",
   "execution_count": 2,
   "metadata": {},
   "outputs": [
    {
     "name": "stdout",
     "output_type": "stream",
     "text": [
      "<class 'pandas.core.frame.DataFrame'>\n"
     ]
    }
   ],
   "source": [
    "# Welchen Typ hat die angelegte Datenstruktur?\n",
    "print(type(data))"
   ]
  },
  {
   "cell_type": "markdown",
   "metadata": {
    "editable": false
   },
   "source": [
    "Wie Sie nun wissen sollten, werden die Daten der Lego-Sets als [``DataFrame``](https://pandas.pydata.org/docs/reference/api/pandas.DataFrame.html#pandas.DataFrame) gespeichert.  \n",
    "Ein ``DataFrame`` ist eine tabellarische Datenstruktur in pandas, die einen geordneten Satz von Spalten enthält. Jede Spalte kann einen anderen Datentyp haben (numerisch, string, boolesch usw.). Ein ``DataFrame`` hat sowohl einen Zeilenindex als auch einen Spaltenindex.\n",
    "\n",
    "Um einen schnellen Blick auf die Datenstruktur werfen zu können, bietet pandas die Funktionen [``head()``](https://pandas.pydata.org/pandas-docs/stable/reference/api/pandas.DataFrame.head.html) und [``tail()``](https://pandas.pydata.org/pandas-docs/stable/reference/api/pandas.DataFrame.tail.html#pandas.DataFrame.tail), um sich die ersten oder letzten Zeilen der Struktur anzeigen zu lassen."
   ]
  },
  {
   "cell_type": "code",
   "execution_count": 10,
   "metadata": {},
   "outputs": [
    {
     "name": "stdout",
     "output_type": "stream",
     "text": [
      "   ages  list_price  num_reviews  piece_count  play_star_rating  \\\n",
      "0  6-12       29.99          2.0        277.0               4.0   \n",
      "1  6-12       19.99          2.0        168.0               4.0   \n",
      "2  6-12       12.99         11.0         74.0               4.3   \n",
      "3   12+       99.99         23.0       1032.0               3.6   \n",
      "4   12+       79.99         14.0        744.0               3.2   \n",
      "\n",
      "                                           prod_desc  prod_id  \\\n",
      "0  Catapult into action and take back the eggs fr...  75823.0   \n",
      "1  Launch a flying attack and rescue the eggs fro...  75822.0   \n",
      "2  Chase the piggy with lightning-fast Chuck and ...  75821.0   \n",
      "3  Explore the architecture of the United States ...  21030.0   \n",
      "4  Recreate the Solomon R. Guggenheim Museum® wit...  21035.0   \n",
      "\n",
      "                                      prod_long_desc review_difficulty  \\\n",
      "0  Use the staircase catapult to launch Red into ...           Average   \n",
      "1  Pilot Pig has taken off from Bird Island with ...              Easy   \n",
      "2  Pitch speedy bird Chuck against the Piggy Car....              Easy   \n",
      "3  Discover the architectural secrets of the icon...           Average   \n",
      "4  Discover the architectural secrets of Frank Ll...       Challenging   \n",
      "\n",
      "                         set_name  star_rating    theme_name  val_star_rating  \\\n",
      "0           Bird Island Egg Heist          4.5  Angry Birds™              4.0   \n",
      "1              Piggy Plane Attack          5.0  Angry Birds™              4.0   \n",
      "2                Piggy Car Escape          4.3  Angry Birds™              4.1   \n",
      "3  United States Capitol Building          4.6  Architecture              4.3   \n",
      "4   Solomon R. Guggenheim Museum®          4.6  Architecture              4.1   \n",
      "\n",
      "  country  \n",
      "0      US  \n",
      "1      US  \n",
      "2      US  \n",
      "3      US  \n",
      "4      US  \n"
     ]
    }
   ],
   "source": [
    "## Werfen Sie einen Blick in die Datenstruktur\n",
    "print(data.head())"
   ]
  },
  {
   "cell_type": "markdown",
   "metadata": {
    "editable": false
   },
   "source": [
    "Sie können natürlich auch gezielt einzelne Elemente aus dem ``DataFrame`` indizieren. Das geht für ganze Spalten grundsätzlich ähnlich wie bei dem Python Standardtyp [*dictionary*](https://docs.python.org/3/tutorial/datastructures.html#dictionaries):\n",
    "\n",
    "```python\n",
    "some_dataFrame['some_column_name']\n",
    "```\n",
    "\n",
    "Wenn Sie mehrere Spalten zurückgeben wollen, können Sie dem ``[]`` Operator eine Liste der Spaltennamen übergeben:\n",
    "\n",
    "```python\n",
    "some_dataFrame[['some_column_name', 'another_column_name']]\n",
    "```"
   ]
  },
  {
   "cell_type": "code",
   "execution_count": 13,
   "metadata": {},
   "outputs": [
    {
     "data": {
      "text/html": [
       "<div>\n",
       "<style scoped>\n",
       "    .dataframe tbody tr th:only-of-type {\n",
       "        vertical-align: middle;\n",
       "    }\n",
       "\n",
       "    .dataframe tbody tr th {\n",
       "        vertical-align: top;\n",
       "    }\n",
       "\n",
       "    .dataframe thead th {\n",
       "        text-align: right;\n",
       "    }\n",
       "</style>\n",
       "<table border=\"1\" class=\"dataframe\">\n",
       "  <thead>\n",
       "    <tr style=\"text-align: right;\">\n",
       "      <th></th>\n",
       "      <th>val_star_rating</th>\n",
       "      <th>num_reviews</th>\n",
       "    </tr>\n",
       "  </thead>\n",
       "  <tbody>\n",
       "    <tr>\n",
       "      <th>0</th>\n",
       "      <td>4.0</td>\n",
       "      <td>2.0</td>\n",
       "    </tr>\n",
       "    <tr>\n",
       "      <th>1</th>\n",
       "      <td>4.0</td>\n",
       "      <td>2.0</td>\n",
       "    </tr>\n",
       "    <tr>\n",
       "      <th>2</th>\n",
       "      <td>4.1</td>\n",
       "      <td>11.0</td>\n",
       "    </tr>\n",
       "    <tr>\n",
       "      <th>3</th>\n",
       "      <td>4.3</td>\n",
       "      <td>23.0</td>\n",
       "    </tr>\n",
       "    <tr>\n",
       "      <th>4</th>\n",
       "      <td>4.1</td>\n",
       "      <td>14.0</td>\n",
       "    </tr>\n",
       "    <tr>\n",
       "      <th>...</th>\n",
       "      <td>...</td>\n",
       "      <td>...</td>\n",
       "    </tr>\n",
       "    <tr>\n",
       "      <th>12256</th>\n",
       "      <td>4.2</td>\n",
       "      <td>6.0</td>\n",
       "    </tr>\n",
       "    <tr>\n",
       "      <th>12257</th>\n",
       "      <td>4.1</td>\n",
       "      <td>8.0</td>\n",
       "    </tr>\n",
       "    <tr>\n",
       "      <th>12258</th>\n",
       "      <td>4.5</td>\n",
       "      <td>18.0</td>\n",
       "    </tr>\n",
       "    <tr>\n",
       "      <th>12259</th>\n",
       "      <td>5.0</td>\n",
       "      <td>1.0</td>\n",
       "    </tr>\n",
       "    <tr>\n",
       "      <th>12260</th>\n",
       "      <td>4.8</td>\n",
       "      <td>11.0</td>\n",
       "    </tr>\n",
       "  </tbody>\n",
       "</table>\n",
       "<p>12261 rows × 2 columns</p>\n",
       "</div>"
      ],
      "text/plain": [
       "       val_star_rating  num_reviews\n",
       "0                  4.0          2.0\n",
       "1                  4.0          2.0\n",
       "2                  4.1         11.0\n",
       "3                  4.3         23.0\n",
       "4                  4.1         14.0\n",
       "...                ...          ...\n",
       "12256              4.2          6.0\n",
       "12257              4.1          8.0\n",
       "12258              4.5         18.0\n",
       "12259              5.0          1.0\n",
       "12260              4.8         11.0\n",
       "\n",
       "[12261 rows x 2 columns]"
      ]
     },
     "execution_count": 13,
     "metadata": {},
     "output_type": "execute_result"
    }
   ],
   "source": [
    "# Geben Sie alle Product IDs aus\n",
    "data['prod_id']\n",
    "# Geben Sie nur die Bewertungssterne und die Anzahl der Reviews aus\n",
    "data[['val_star_rating','num_reviews']]"
   ]
  },
  {
   "cell_type": "markdown",
   "metadata": {
    "editable": false
   },
   "source": [
    "Möchten Sie (zusätzlich) die Auswahl auf einzelne Zeilen beschränken, bietet pandas die zwei Möglichkeiten ``.loc`` und ``.iloc``. Dabei ist ``.loc`` für die Verwendung mit Labels gedacht und ``.iloc`` für rein numerische Indices:\n",
    "\n",
    "```python\n",
    "some_dataFrame.loc[20:40, ['some_column_name', 'another_column_name]]\n",
    "```\n",
    "\n",
    "```python\n",
    "some_dataFrame.iloc[20:40, 2:3]\n",
    "```\n",
    "\n",
    "Die Variante mit ``.loc`` ist sehr nützlich für die Auswahl _einzelner_ Zeilen oder Spalten, während ``.iloc`` besser geeignet für die Auswahl von _Spannen_ von Zeilen oder Spalten ist.\n",
    "\n",
    "__Achtung__: Die beiden Varianten haben unterschiedliche Inklusivität der Index-Spannen!"
   ]
  },
  {
   "cell_type": "code",
   "execution_count": 16,
   "metadata": {},
   "outputs": [
    {
     "data": {
      "text/html": [
       "<div>\n",
       "<style scoped>\n",
       "    .dataframe tbody tr th:only-of-type {\n",
       "        vertical-align: middle;\n",
       "    }\n",
       "\n",
       "    .dataframe tbody tr th {\n",
       "        vertical-align: top;\n",
       "    }\n",
       "\n",
       "    .dataframe thead th {\n",
       "        text-align: right;\n",
       "    }\n",
       "</style>\n",
       "<table border=\"1\" class=\"dataframe\">\n",
       "  <thead>\n",
       "    <tr style=\"text-align: right;\">\n",
       "      <th></th>\n",
       "      <th>star_rating</th>\n",
       "      <th>set_name</th>\n",
       "    </tr>\n",
       "  </thead>\n",
       "  <tbody>\n",
       "    <tr>\n",
       "      <th>2</th>\n",
       "      <td>4.3</td>\n",
       "      <td>Piggy Car Escape</td>\n",
       "    </tr>\n",
       "    <tr>\n",
       "      <th>3</th>\n",
       "      <td>4.6</td>\n",
       "      <td>United States Capitol Building</td>\n",
       "    </tr>\n",
       "    <tr>\n",
       "      <th>4</th>\n",
       "      <td>4.6</td>\n",
       "      <td>Solomon R. Guggenheim Museum®</td>\n",
       "    </tr>\n",
       "    <tr>\n",
       "      <th>5</th>\n",
       "      <td>4.9</td>\n",
       "      <td>Shanghai</td>\n",
       "    </tr>\n",
       "    <tr>\n",
       "      <th>6</th>\n",
       "      <td>4.2</td>\n",
       "      <td>New York City</td>\n",
       "    </tr>\n",
       "    <tr>\n",
       "      <th>...</th>\n",
       "      <td>...</td>\n",
       "      <td>...</td>\n",
       "    </tr>\n",
       "    <tr>\n",
       "      <th>98</th>\n",
       "      <td>3.6</td>\n",
       "      <td>Jungle Buggy</td>\n",
       "    </tr>\n",
       "    <tr>\n",
       "      <th>99</th>\n",
       "      <td>4.6</td>\n",
       "      <td>Fun in the park - City People Pack</td>\n",
       "    </tr>\n",
       "    <tr>\n",
       "      <th>100</th>\n",
       "      <td>4.6</td>\n",
       "      <td>Volcano Heavy-lift Helicopter</td>\n",
       "    </tr>\n",
       "    <tr>\n",
       "      <th>101</th>\n",
       "      <td>4.6</td>\n",
       "      <td>Volcano Exploration Base</td>\n",
       "    </tr>\n",
       "    <tr>\n",
       "      <th>102</th>\n",
       "      <td>4.5</td>\n",
       "      <td>Fire Boat</td>\n",
       "    </tr>\n",
       "  </tbody>\n",
       "</table>\n",
       "<p>101 rows × 2 columns</p>\n",
       "</div>"
      ],
      "text/plain": [
       "     star_rating                            set_name\n",
       "2            4.3                    Piggy Car Escape\n",
       "3            4.6      United States Capitol Building\n",
       "4            4.6       Solomon R. Guggenheim Museum®\n",
       "5            4.9                            Shanghai\n",
       "6            4.2                       New York City\n",
       "..           ...                                 ...\n",
       "98           3.6                        Jungle Buggy\n",
       "99           4.6  Fun in the park - City People Pack\n",
       "100          4.6       Volcano Heavy-lift Helicopter\n",
       "101          4.6            Volcano Exploration Base\n",
       "102          4.5                           Fire Boat\n",
       "\n",
       "[101 rows x 2 columns]"
      ]
     },
     "execution_count": 16,
     "metadata": {},
     "output_type": "execute_result"
    }
   ],
   "source": [
    "# Geben Sie 100 Zeilen von zwei beliebigen Spalten irgendwo aus dem Datensatz zurück. Vergleichen Sie .loc und .iloc!\n",
    "data.loc[2:102,['star_rating','set_name']]"
   ]
  },
  {
   "cell_type": "markdown",
   "metadata": {
    "editable": false
   },
   "source": [
    "Mehr zum Objekt ``DataFrame`` finden Sie unter [DataFrame](https://pandas.pydata.org/pandas-docs/stable/reference/frame.html)."
   ]
  },
  {
   "cell_type": "markdown",
   "metadata": {},
   "source": [
    "---"
   ]
  },
  {
   "cell_type": "markdown",
   "metadata": {
    "editable": false
   },
   "source": [
    "<a id=\"analyze_data\"></a><div><img src=\"Images/IMG-magnifying-glass.png\" style=\"float:left\"> <h2 style=\"position: relative; top: 6px\">2. Daten analysieren</h2>\n",
    "\n",
    "<p style=\"position: relative; top: 10px\">\n",
    "Nachdem die Daten erfolgreich eingelesen wurden und wir uns über die Struktur der Daten informiert haben, können wir uns mit dem eigentlichen Inhalt befassen. Zunächst interessiert uns, in welcher Form die Daten jeder Spalte gespeichert sind. Dazu bietet ein pandas <code>DataFrame</code> das Property <code>.dtypes</code> an:\n",
    "</p>"
   ]
  },
  {
   "cell_type": "code",
   "execution_count": 17,
   "metadata": {},
   "outputs": [
    {
     "data": {
      "text/plain": [
       "ages                  object\n",
       "list_price           float64\n",
       "num_reviews          float64\n",
       "piece_count          float64\n",
       "play_star_rating     float64\n",
       "prod_desc             object\n",
       "prod_id              float64\n",
       "prod_long_desc        object\n",
       "review_difficulty     object\n",
       "set_name              object\n",
       "star_rating          float64\n",
       "theme_name            object\n",
       "val_star_rating      float64\n",
       "country               object\n",
       "dtype: object"
      ]
     },
     "execution_count": 17,
     "metadata": {},
     "output_type": "execute_result"
    }
   ],
   "source": [
    "# Geben Sie den Wert des Attributs \".dtypes\" Ihres Datensatzes aus\n",
    "data.dtypes"
   ]
  },
  {
   "cell_type": "markdown",
   "metadata": {
    "editable": false
   },
   "source": [
    "Ihnen sollte auffallen, dass einige der Spalten numerisch sind (``float64``), andere dagegen den Type ``object`` aufweisen. Da es unser Ziel ist, einen rein numerischen Datensatz zu erzeugen, müssen wir die nicht-numerischen Merkmale auf geeignete Art und Weise ersetzen bzw. konvertieren. Um den Überblick zu behalten, legen wir uns daher eine Liste mit allen Namen der zu konvertierenden Spalten an. \n",
    "\n",
    "Hierbei kann uns eine weitere Indizierungsart von ``DataFrame`` helfen: Indizierung mit einem booleschen Array. Dabei erzeugen wir ein Array von booleschen Werten, dessen Länge der Anzahl der zu indizierenden Dimension hat. Dabei steht ``True`` dafür, den Index im Aufruf zu berücksichtigen und ``False`` für die Unterdrückung des Index.\n",
    "\n",
    "```python\n",
    "some_dataFrame_with_three_columns.loc[:,[True, True, False]] # Gibt die ersten zwei Spalten des dreispaltigen DataFrame zurück\n",
    "```\n",
    "\n",
    "Dieses Array können Sie für gut lesbaren Code auch direkt im Aufruf berechnen, z.B. durch relationale Operatoren (``<>==``).\n",
    "\n",
    "Probieren Sie es gleich mal aus. Lesen Sie dazu zunächst das Attribut des ``DataFrame`` mit den Spaltentiteln aus (``.columns``). Legen Sie dann nur die Titel, für die das Attribut ``.dtypes`` den Wert ``'object'`` hat als Liste (Umwandlung mit ``list()``) ab.\n"
   ]
  },
  {
   "cell_type": "code",
   "execution_count": 21,
   "metadata": {},
   "outputs": [
    {
     "data": {
      "text/plain": [
       "['ages',\n",
       " 'prod_desc',\n",
       " 'prod_long_desc',\n",
       " 'review_difficulty',\n",
       " 'set_name',\n",
       " 'theme_name',\n",
       " 'country']"
      ]
     },
     "execution_count": 21,
     "metadata": {},
     "output_type": "execute_result"
    }
   ],
   "source": [
    "# Auslesen der Spaltentitel\n",
    "list(data.loc[:,data.dtypes == 'object'].columns)"
   ]
  },
  {
   "cell_type": "markdown",
   "metadata": {
    "editable": false
   },
   "source": [
    "Neben ungeeigneten Typen können auch fehlende Einträge im Datensatz die nachfolgende Vearbeitung verhindern. Daher interessiert uns als nächstes, ob und wo Einträge fehlen. Pandas stellt dazu die Methode ``isna()`` bereit, die für fehlende Einträge ``True`` und für existierende Einträge ``False`` zurückgibt. Mit der Methode ``any()`` kann dann geprüft werden, ob in einer Spalte irgendwo ein Wert fehlt:\n",
    "\n",
    "```python\n",
    "some_dataFrame.isna().any()\n",
    "```"
   ]
  },
  {
   "cell_type": "code",
   "execution_count": 23,
   "metadata": {},
   "outputs": [
    {
     "data": {
      "text/plain": [
       "ages                 False\n",
       "list_price           False\n",
       "num_reviews           True\n",
       "piece_count          False\n",
       "play_star_rating      True\n",
       "prod_desc             True\n",
       "prod_id              False\n",
       "prod_long_desc       False\n",
       "review_difficulty     True\n",
       "set_name             False\n",
       "star_rating           True\n",
       "theme_name            True\n",
       "val_star_rating       True\n",
       "country              False\n",
       "dtype: bool"
      ]
     },
     "execution_count": 23,
     "metadata": {},
     "output_type": "execute_result"
    }
   ],
   "source": [
    "# Finden Sie die Spalten, in denen Werte fehlen.\n",
    "data.isna().any()"
   ]
  },
  {
   "cell_type": "markdown",
   "metadata": {
    "editable": false
   },
   "source": [
    "Wenn in einer Spalte nur wenige Werte fehlen, können Sie möglicherweise sinnvoll aufgefüllt werden (siehe <a href=\"#clean_data\">Daten säubern</a>). Wenn allerdings sehr viele Daten fehlen, muss eventuell die ganze Spalte entfernt werden. Mit der Methode ``count()`` können alle vorhandenen Einträge jeder Spalte gezählt werden.\n",
    "\n",
    "```python\n",
    "some_dataFrame.count()\n",
    "```"
   ]
  },
  {
   "cell_type": "code",
   "execution_count": 24,
   "metadata": {},
   "outputs": [
    {
     "data": {
      "text/plain": [
       "ages                 12261\n",
       "list_price           12261\n",
       "num_reviews          10641\n",
       "piece_count          12261\n",
       "play_star_rating     10486\n",
       "prod_desc            11884\n",
       "prod_id              12261\n",
       "prod_long_desc       12261\n",
       "review_difficulty    10206\n",
       "set_name             12261\n",
       "star_rating          10641\n",
       "theme_name           12258\n",
       "val_star_rating      10466\n",
       "country              12261\n",
       "dtype: int64"
      ]
     },
     "execution_count": 24,
     "metadata": {},
     "output_type": "execute_result"
    }
   ],
   "source": [
    "# Geben Sie die Zahl der in jeder Spalte vorhandenen Einträge zurück\n",
    "data.count()"
   ]
  },
  {
   "cell_type": "markdown",
   "metadata": {
    "editable": false
   },
   "source": [
    "Setzen Sie die Zahlen nun ins Verhältnis zur Gesamtzahl der Einträge. Dazu können Sie mit dem Attribut ``shape`` zunächst ein [Tupel](https://docs.python.org/3/tutorial/datastructures.html#tuples-and-sequences) mit der Anzahl der Reihen und Spalten erzeugen."
   ]
  },
  {
   "cell_type": "code",
   "execution_count": 29,
   "metadata": {},
   "outputs": [
    {
     "data": {
      "text/plain": [
       "ages                 1.000000\n",
       "list_price           1.000000\n",
       "num_reviews          0.867874\n",
       "piece_count          1.000000\n",
       "play_star_rating     0.855232\n",
       "prod_desc            0.969252\n",
       "prod_id              1.000000\n",
       "prod_long_desc       1.000000\n",
       "review_difficulty    0.832395\n",
       "set_name             1.000000\n",
       "star_rating          0.867874\n",
       "theme_name           0.999755\n",
       "val_star_rating      0.853601\n",
       "country              1.000000\n",
       "dtype: float64"
      ]
     },
     "execution_count": 29,
     "metadata": {},
     "output_type": "execute_result"
    }
   ],
   "source": [
    "# Geben Sie den relativen Anteil der vorhandenen Einträge in jeder Spalte zurück\n",
    "data.count() / data.shape[0]"
   ]
  },
  {
   "cell_type": "markdown",
   "metadata": {
    "editable": false
   },
   "source": [
    "Selbst die Spalte mit den meisten fehlenden Einträgen bringt es demnach noch auf über 80 % vorhandener Einträge, was das Einfüllen der Werte ([Imputation](https://de.wikipedia.org/wiki/Imputation_(Statistik))) noch sinnvoll erscheinen lässt. Diese Entscheidung muss allerdings in jedem konkreten Problem neu abgewogen werden und hier können auch keine allgemein gültigen Richtwerte angegeben werden.\n",
    "\n",
    "Für unsere Zwecke gehen wir nun aber davon aus, dass in jeder Spalte genügend Daten vorhanden sind. Im nächsten Abschnitt werden wir nun die oben identifizierten nicht-numerischen Spalten konvertieren und die fehlenden Werte einfüllen."
   ]
  },
  {
   "cell_type": "markdown",
   "metadata": {
    "editable": false
   },
   "source": [
    "---"
   ]
  },
  {
   "cell_type": "markdown",
   "metadata": {
    "editable": false
   },
   "source": [
    "<a id=\"clean_data\"></a><div><img src=\"Images/IMG-broom.png\" style=\"float:left\"> <h2 style=\"position: relative; top: 6px\">3. Daten säubern</h2>"
   ]
  },
  {
   "cell_type": "markdown",
   "metadata": {},
   "source": [
    "Wie bereits oben beschrieben setzen die meisten maschinellen Lernverfahren lückenlose numerische Eingangsdaten voraus. Daher beginnen wir die Datenaufarbeitung zunächst mit der Konvertierung aller nicht-numerischen Spalten. Anschließend werden wir die oben identifizierten fehlenden Einträge auf möglichst geschickte Art und Weise auffüllen.\n",
    "\n",
    "__Achtung:__ Natürlich ist das Auffüllen von fehlenden Einträgen ein Eingriff und Sie __verfälschen damit die Daten!__ Trotzdem kann das eine legitime Vorgehensweise sein, wenn nicht zu viele Elemente fehlen. Eine feste Größe, was als zu viel gilt, lässt sich hier nicht angeben. Grundsätzlich sollten Sie allerdings Ihre auf aufgefüllten Daten trainierten __Modelle immer nur auf vollständigen Daten validieren und testen!__ "
   ]
  },
  {
   "cell_type": "markdown",
   "metadata": {
    "editable": false
   },
   "source": [
    "<h3> 3.1 Nicht-numerische Merkmale</h3>"
   ]
  },
  {
   "cell_type": "markdown",
   "metadata": {
    "editable": false
   },
   "source": [
    "Wie oben bereits festgestellt, müssen wir die Daten einiger Spalten in Zahlenwerte konvertieren. Für dieses Problem gibt es kein allgemeingültiges Rezept, sondern es muss im Einzelfall überlegt werden, welche Konvertierung sinnvoll erscheint. Daher bearbeiten wir im folgenden jede Spalte einzeln."
   ]
  },
  {
   "cell_type": "markdown",
   "metadata": {
    "editable": false
   },
   "source": [
    "<h4>3.1.1 Alter</h4>"
   ]
  },
  {
   "cell_type": "markdown",
   "metadata": {
    "editable": false
   },
   "source": [
    "Die Spalte ``ages`` besitzt den ``dtype`` ``'object'``. Das überrascht zunächst, schließlich sollte sich das Alter doch leicht numerisch kodieren lassen. Werfen wir daher nochmal einen Blick auf die ersten paar Einträge der Spalte:"
   ]
  },
  {
   "cell_type": "code",
   "execution_count": 31,
   "metadata": {},
   "outputs": [
    {
     "data": {
      "text/plain": [
       "0    6-12\n",
       "1    6-12\n",
       "2    6-12\n",
       "3     12+\n",
       "4     12+\n",
       "Name: ages, dtype: object"
      ]
     },
     "execution_count": 31,
     "metadata": {},
     "output_type": "execute_result"
    }
   ],
   "source": [
    "# Geben Sie den Kopf der Spalte 'ages' aus\n",
    "data['ages'].head()"
   ]
  },
  {
   "cell_type": "markdown",
   "metadata": {
    "editable": false
   },
   "source": [
    "Ihnen fällt sicherlich auf, dass Lego das Alter branchenüblich als Intervalle angibt. Dabei verwendet der Datensatz offenbar Zeichenketten verschiedener Formate, da schon im Kopf zwei verschiedene zu sehen sind. Wie viele einzigartige Werte es gibt, kann durch die Methode ``unique()`` ausgegeben werden:\n",
    "\n",
    "```python\n",
    "some_dataFrame.unique()\n",
    "```"
   ]
  },
  {
   "cell_type": "code",
   "execution_count": 32,
   "metadata": {},
   "outputs": [
    {
     "data": {
      "text/plain": [
       "array(['6-12', '12+', '7-12', '10+', '5-12', '8-12', '4-7', '4-99', '4+',\n",
       "       '9-12', '16+', '14+', '9-14', '7-14', '8-14', '6+', '2-5', '1½-3',\n",
       "       '1½-5', '9+', '5-8', '10-21', '8+', '6-14', '5+', '10-16', '10-14',\n",
       "       '11-16', '12-16', '9-16', '7+'], dtype=object)"
      ]
     },
     "execution_count": 32,
     "metadata": {},
     "output_type": "execute_result"
    }
   ],
   "source": [
    "# Geben Sie die möglichen Wert der Spalte 'ages' aus\n",
    "data['ages'].unique()"
   ]
  },
  {
   "cell_type": "markdown",
   "metadata": {
    "editable": false
   },
   "source": [
    "Wir sehen, dass das Format der Altersangabe entweder ein Mindest- _und_ ein Maximalalter beinhaltet oder _nur_ ein Mindestalter. Es bietet sich daher hier an, die Spalte ``'ages'`` durch zwei neue Spalten ``'age_min'`` und ``'age_max'`` zu ersetzen. \n",
    "\n",
    "Dabei ist jedoch noch problematisch, dass bei manchen Angaben das Maximalalter fehlt. Wir können allerdings den (ebenfalls branchentypischen) globalen Maximalwert von ``99`` hier einfüllen. Damit greifen wir also eigentlich schon vor und machen unsere erste Imputation: wir ersetzen einen fehlenden Wert durch einen statistisch gefundenen Wert: das Maximum.\n",
    "\n",
    "Ein weiteres Hindernis bei der weiteren Verarbeitung ist die Notation ``'½'``. Wir wollen daher auch diese Zeichenkennte ersetzen. __Achtung:__ ``½`` ist nicht die gleiche Zeichenkette wie ``1/2``.\n",
    "\n",
    "Wir möchten also in jedem String einer Spalte eine Zeichenkette mit einer anderen ersetzen. Das geht in pandas sehr einfach:\n",
    "\n",
    "```python\n",
    "some_dataFrame['column_label'] = some_dataFrame['column_label'].str.replace('old_string', 'new_string')\n",
    "```"
   ]
  },
  {
   "cell_type": "code",
   "execution_count": 33,
   "metadata": {},
   "outputs": [],
   "source": [
    "# Ersetzen Sie in der Spalte 'ages' die Zeichenkette '+' mit der Zeichenkette '-99'\n",
    "data['ages'] = data['ages'].str.replace('+','-99')\n",
    "# Ersetzen Sie außerdem in der Spalte 'ages' die Zeichenkette '½' mit der Zeichenkette '.5'\n",
    "data['ages'] = data['ages'].str.replace('½','.5')"
   ]
  },
  {
   "cell_type": "markdown",
   "metadata": {
    "editable": false
   },
   "source": [
    "Jetzt haben alle Zeichenkette das gleiche Format und wir können die neuen Spalten ``'age_min'`` und ``'age_max'`` erschaffen, in dem wir die Strings in ``'ages'`` am Zeichen ``-`` aufteilen. Zum Trennen einer Zeichenkette an einem bestimmten Trennzeichen stellt pandas ``.str.split()`` bereit.\n",
    "\n",
    "```python\n",
    "split_string = some_dataFrame['column_label'].str.split('string_to_split_on', expand=True)\n",
    "```\n",
    "\n",
    "__Hinweis:__ Wenn das Argument ``expand`` nicht auf ``True`` gesetzt wird, gibt die Methode die gefundenen Teilstrings als Reihe von Tupeln zurück, was für die weitere Verarbeitung hier nicht optimal ist."
   ]
  },
  {
   "cell_type": "code",
   "execution_count": 34,
   "metadata": {},
   "outputs": [],
   "source": [
    "# Trennen Sie die Werte in 'ages' am Bindestrich '-',\n",
    "split_string = data['ages'].str.split('-', expand=True)\n",
    "# und speichern Sie das erste Element in der Spalte 'age_min' \n",
    "data['age_min'] = split_string[0]\n",
    "# und das zweite ELement in der Spalte 'age_max'\n",
    "data['age_max'] = split_string[1]"
   ]
  },
  {
   "cell_type": "markdown",
   "metadata": {
    "editable": false
   },
   "source": [
    "Da wir nun alle Information aus der Spalte ``'ages'`` verarbeitet haben, können wir die Spalte aus dem Datensatz streichen. Hierzu können wir die Methode ``drop()`` verwenden. Mit dem Argument ``inplace=True`` wird die Spalte direkt im Datensatz gelöscht und nicht nur eine Kopie des Datensatzes ohne die Spalte zurückgegeben.\n",
    "\n",
    "```python\n",
    "some_dataFrame.drop(columns=['column_to_drop'], inplace=True)\n",
    "```"
   ]
  },
  {
   "cell_type": "code",
   "execution_count": 35,
   "metadata": {},
   "outputs": [],
   "source": [
    "# Löschen Sie die nun überflüssige Spalte 'ages' aus dem Datensatz\n",
    "data.drop(columns=['ages'],inplace=True)"
   ]
  },
  {
   "cell_type": "markdown",
   "metadata": {
    "editable": false
   },
   "source": [
    "Zum Schluss müssen wir noch die neuen Spalten in numerische Datentypen umwandeln. Beachten Sie, dass wir zwar bereits Zahlenwerte in den Spalten stehen haben, diese aber noch als Zeichenketten repräsentiert sind. Wir können mit Hilfe von ``astype()`` leicht eine Typkonvertierung vornehmen.\n",
    "\n",
    "```python\n",
    "some_dataFrame['column_of_some_dtype'].astype('new_dtype')\n",
    "```\n",
    "\n",
    "Wie die Typkonvertierung genau passiert, entnehmen Sie bitte der Dokumentation der Methode [astype()](https://pandas.pydata.org/pandas-docs/stable/reference/api/pandas.DataFrame.astype.html)."
   ]
  },
  {
   "cell_type": "code",
   "execution_count": 36,
   "metadata": {},
   "outputs": [
    {
     "data": {
      "text/html": [
       "<div>\n",
       "<style scoped>\n",
       "    .dataframe tbody tr th:only-of-type {\n",
       "        vertical-align: middle;\n",
       "    }\n",
       "\n",
       "    .dataframe tbody tr th {\n",
       "        vertical-align: top;\n",
       "    }\n",
       "\n",
       "    .dataframe thead th {\n",
       "        text-align: right;\n",
       "    }\n",
       "</style>\n",
       "<table border=\"1\" class=\"dataframe\">\n",
       "  <thead>\n",
       "    <tr style=\"text-align: right;\">\n",
       "      <th></th>\n",
       "      <th>age_min</th>\n",
       "      <th>age_max</th>\n",
       "    </tr>\n",
       "  </thead>\n",
       "  <tbody>\n",
       "    <tr>\n",
       "      <th>0</th>\n",
       "      <td>6.0</td>\n",
       "      <td>12.0</td>\n",
       "    </tr>\n",
       "    <tr>\n",
       "      <th>1</th>\n",
       "      <td>6.0</td>\n",
       "      <td>12.0</td>\n",
       "    </tr>\n",
       "    <tr>\n",
       "      <th>2</th>\n",
       "      <td>6.0</td>\n",
       "      <td>12.0</td>\n",
       "    </tr>\n",
       "    <tr>\n",
       "      <th>3</th>\n",
       "      <td>12.0</td>\n",
       "      <td>99.0</td>\n",
       "    </tr>\n",
       "    <tr>\n",
       "      <th>4</th>\n",
       "      <td>12.0</td>\n",
       "      <td>99.0</td>\n",
       "    </tr>\n",
       "    <tr>\n",
       "      <th>...</th>\n",
       "      <td>...</td>\n",
       "      <td>...</td>\n",
       "    </tr>\n",
       "    <tr>\n",
       "      <th>12256</th>\n",
       "      <td>7.0</td>\n",
       "      <td>14.0</td>\n",
       "    </tr>\n",
       "    <tr>\n",
       "      <th>12257</th>\n",
       "      <td>7.0</td>\n",
       "      <td>14.0</td>\n",
       "    </tr>\n",
       "    <tr>\n",
       "      <th>12258</th>\n",
       "      <td>7.0</td>\n",
       "      <td>14.0</td>\n",
       "    </tr>\n",
       "    <tr>\n",
       "      <th>12259</th>\n",
       "      <td>6.0</td>\n",
       "      <td>14.0</td>\n",
       "    </tr>\n",
       "    <tr>\n",
       "      <th>12260</th>\n",
       "      <td>6.0</td>\n",
       "      <td>14.0</td>\n",
       "    </tr>\n",
       "  </tbody>\n",
       "</table>\n",
       "<p>12261 rows × 2 columns</p>\n",
       "</div>"
      ],
      "text/plain": [
       "       age_min  age_max\n",
       "0          6.0     12.0\n",
       "1          6.0     12.0\n",
       "2          6.0     12.0\n",
       "3         12.0     99.0\n",
       "4         12.0     99.0\n",
       "...        ...      ...\n",
       "12256      7.0     14.0\n",
       "12257      7.0     14.0\n",
       "12258      7.0     14.0\n",
       "12259      6.0     14.0\n",
       "12260      6.0     14.0\n",
       "\n",
       "[12261 rows x 2 columns]"
      ]
     },
     "execution_count": 36,
     "metadata": {},
     "output_type": "execute_result"
    }
   ],
   "source": [
    "# Wandeln Sie die Einträge der Spalten 'age_min' und 'age_max' in den Datentyp 'float32' um\n",
    "data[['age_min','age_max']].astype('float32')"
   ]
  },
  {
   "cell_type": "markdown",
   "metadata": {
    "editable": false
   },
   "source": [
    "#### 3.1.2 Schwierigkeitsgrad"
   ]
  },
  {
   "cell_type": "markdown",
   "metadata": {},
   "source": [
    "Der Schwierigkeitsgrad ist in der Spalte ``'review_difficulty'`` abgelegt. Lassen Sie sich die einzigartigen Einträge dieser Spalte anzeigen (siehe oben)."
   ]
  },
  {
   "cell_type": "code",
   "execution_count": 37,
   "metadata": {},
   "outputs": [
    {
     "data": {
      "text/plain": [
       "array(['Average', 'Easy', 'Challenging', 'Very Easy', nan,\n",
       "       'Very Challenging'], dtype=object)"
      ]
     },
     "execution_count": 37,
     "metadata": {},
     "output_type": "execute_result"
    }
   ],
   "source": [
    "# Zeige einzigartige Einträge in 'review_difficulty'\n",
    "data['review_difficulty'].unique()"
   ]
  },
  {
   "cell_type": "markdown",
   "metadata": {
    "editable": false
   },
   "source": [
    "Wir stellen fest, dass der Schwierigkeitsgrad zwar nicht direkt numerisch kodiert ist, aber auf einer fünfstufigen [Ordinalskala](https://de.wikipedia.org/wiki/Ordinalskala) basiert. Außerdem fehlen offenbar einige Einträge, da auch ``nan`` in der Liste dabei ist.\n",
    "\n",
    "Der Schwierigkeitsgrade könnte demnach auch auf einer Skala von 1 bis 5 abgebildet werden, wobei 'Very Easy' auf 1 und 'Very Challenging' auf 5 abgebildet werden sollte, damit 'Very Easy' < 'Very Challenging' gilt.\n",
    "\n",
    "Diese Abbildung können wir leicht mithilfe von ``map()`` vornehmen, die allerdings nur für Objekte vom Typ ```Series``` existiert. Jede Spalte eines ```DataFrame``` Objekt ist jedoch auch ein ```Series```-Objekt. Damit geht folgendes:\n",
    "\n",
    "````python\n",
    "some_dataFrame['column_name'] = some_dataFrame['column_name'].map({'key1': 'value1', 'key2': 'value2'}, na_action='ignore')\n",
    "````\n",
    "__Hinweis:__ Da wir die fehlenden Werte (``na``) noch nicht eingefüllt haben, sollte das Argument ``na_action='ignore'`` gesetzt werden, damit die ``na`` Werte einfach durchgereicht werden."
   ]
  },
  {
   "cell_type": "code",
   "execution_count": 41,
   "metadata": {},
   "outputs": [],
   "source": [
    "# Legen Sie die Reihenfolge der Schwierigkeitgrade fest\n",
    "reihenfolge = {'Very Easy':1,'Easy':2,'Average':3,'Challenging':4,'Very Challenging':5}\n",
    "# Bilden Sie strings auf die Zahlenwerte ab\n",
    "data['review_difficulty'] = data['review_difficulty'].map(reihenfolge,na_action='ignore')"
   ]
  },
  {
   "cell_type": "markdown",
   "metadata": {
    "editable": false
   },
   "source": [
    "Die fehlenden Einträge könnten bereits jetzt eingefüllt werden. So könnte zum Beispiel für alle fehlenden Einträge der Schwierigkeitsgrade ``'Average'`` angenommen werden. Oder man könnte den tatsächlichen, numerischen Durschnitt oder den häufigsten Wert verwenden. Es ist allerdings wahrscheinlich, dass der Schwierigkeitsgrad auch von anderen Spalten wie der Altersangabe oder der Anzahl der Teile abhängt. Daher werden die fehlenden Einträge sinnvoller Weise erst später eingefügt."
   ]
  },
  {
   "cell_type": "markdown",
   "metadata": {
    "editable": false
   },
   "source": [
    "#### 3.1.3 Ländercode "
   ]
  },
  {
   "cell_type": "markdown",
   "metadata": {
    "editable": false
   },
   "source": [
    "Schauen Sie sich die Werte an, die in der Spalte ``'country'`` auftreten."
   ]
  },
  {
   "cell_type": "code",
   "execution_count": 42,
   "metadata": {},
   "outputs": [
    {
     "data": {
      "text/plain": [
       "array(['US', 'AU', 'AT', 'BE', 'CA', 'CH', 'CZ', 'DE', 'DN', 'ES', 'FI',\n",
       "       'FR', 'GB', 'IE', 'IT', 'LU', 'NO', 'NL', 'NZ', 'PL', 'PT'],\n",
       "      dtype=object)"
      ]
     },
     "execution_count": 42,
     "metadata": {},
     "output_type": "execute_result"
    }
   ],
   "source": [
    "# Zeige einzigartige Einträge in 'country'\n",
    "data['country'].unique()\n"
   ]
  },
  {
   "cell_type": "markdown",
   "metadata": {
    "editable": false
   },
   "source": [
    "Ähnlich wie beim Schwierigkeitsgrad haben wir auch hier nur eine begrenzte Anzahl von Werte vertreten. Allerdings kann bei den Ländercodes keine sinnvolle, numerische Reihenfolge festgelegt werden. Stattdessen kann man durch sogenannte [Dummy-Variablen](https://de.wikipedia.org/wiki/Dummy-Variable) die Zugehörigkeit zu dem jeweiligen Land binär signalisieren.\n",
    "\n",
    "Pandas bietet hierfür die Funktion ``get_dummies()`` an, die die Kodierung enorm einfach gestaltet:\n",
    "\n",
    "```python\n",
    "dummy_variables = some_dataFrame['column_name'].str.get_dummies()\n",
    "```\n",
    "\n",
    "__Hinweis:__ Die Dummy-Variablen können dann mit Hilfe von [concat()](https://pandas.pydata.org/pandas-docs/stable/reference/api/pandas.concat.html) an den Datensatz angehängt werden. Achten Sie darauf, die _Spalten_ zu verketten!"
   ]
  },
  {
   "cell_type": "code",
   "execution_count": 46,
   "metadata": {},
   "outputs": [],
   "source": [
    "# Dummy-Variablen berechnen\n",
    "dummy_variables = data['country'].str.get_dummies()\n",
    "# An Datensatz anhängen\n",
    "pd.concat([data,dummy_variables]) \n",
    "# Spalte 'country' streichen\n",
    "data.drop(columns=['country'],inplace=True)"
   ]
  },
  {
   "cell_type": "markdown",
   "metadata": {
    "editable": false
   },
   "source": [
    "#### 3.1.4 Name des Sets"
   ]
  },
  {
   "cell_type": "markdown",
   "metadata": {
    "editable": false
   },
   "source": [
    "Der Name des Sets stellt eine besondere Herausforderung dar, da fast jedes Set einen eigenen Namen hat. Diese Variable mit Dummy-Variablen zu kodieren würde daher die Anzahl der Variablen enorm vergrößern, was für die meisten Modelle, die mit diesen Daten arbeiten sollen, sehr ungünstig ist ([Fluch der Dimensionalität](https://de.wikipedia.org/wiki/Fluch_der_Dimensionalit%C3%A4t)). Daher sollte diese Spalte als ungeordnete, kategoriale Variable kodiert werden. Hierfür gibt es in pandas den Datentyp ``category``, zu dem wir ganz einfach konvertieren können:\n",
    "\n",
    "```python\n",
    "categorical_column = some_dataFrame['non_categorical_column'].astype('category')\n",
    "```\n",
    "\n",
    "Die kategoriale Variable kann dann wiederum in einen numerischen Typ gewandelt werden, indem wir uns den Code ausgeben lassen, der jeder Stufe der Variable zugewiesen wird:\n",
    "\n",
    "```python\n",
    "numerical_categorical_column = categorical_column.cat.codes\n",
    "```\n",
    "\n",
    "__Achtung:__ Durch diese Kodierung wird eine Rangfolge der Kategorien impliziert, die aber faktisch nicht begründbar ist."
   ]
  },
  {
   "cell_type": "code",
   "execution_count": 47,
   "metadata": {},
   "outputs": [],
   "source": [
    "# Wandeln Sie die Spalte 'set_name' in eine kategorische Variable um\n",
    "data['set_name']  = data['set_name'].astype('category')\n",
    "# Weisen Sie der Spalte 'set_name' die Codes der Kategorien der Variable zu\n",
    "data['set_name'] = data['set_name'].cat.codes"
   ]
  },
  {
   "cell_type": "markdown",
   "metadata": {
    "editable": false
   },
   "source": [
    "#### 3.1.4 Name des Themas\n",
    "Auch bei der Spalte ``'theme_name'`` gibt es viele verschiedene einzigartige Werte, wenn auch nicht ganz so viele wie im Falle von ``'set_name'``. Eine Kodierung mit Dummy-Variablen kann hier den Merkmalraum bereits verhängnisvoll vergrößern. Tatsächlich sollte man in einem solchen Grenzfall die Performance der zu trainierenden Modell mit Dummy-Kodierung und kategorialer Kodierung vergleichen, um eine Entscheidung zu treffen. Da uns das hier nicht möglich ist, gehen wir einfach davon aus, dass die Dummy-Kodierung den Merkmalraum noch nicht zu hochdimensional werden lässt."
   ]
  },
  {
   "cell_type": "code",
   "execution_count": 49,
   "metadata": {},
   "outputs": [],
   "source": [
    "# Führen Sie die Dummy-Kodierung für 'theme_name' wie oben beschrieben durch\n",
    "data['theme_name']  = data['theme_name'].astype('category')\n",
    "data['theme_name'] = data['theme_name'].cat.codes"
   ]
  },
  {
   "cell_type": "markdown",
   "metadata": {
    "editable": false
   },
   "source": [
    "#### 3.1.5 Produktbeschreibungen\n",
    "Die Produktbeschreibungen ``prod_desc`` und ``prod_long_desc`` liegen als Fließtext vor und stellen damit eine besondere Herausforderung dar. Schauen wir uns einige Beschreibungen zunächst mal an. Dabei empfiehlt es sich, nicht die ersten oder letzten paar Einträge auszuwählen, sonder eine zufällige Auswahl zu treffen. Pandas bietet dazu die Methode ``.sample()``:\n",
    "\n",
    "```python\n",
    "some_dataFrame.sample(number_of_samples)\n",
    "```"
   ]
  },
  {
   "cell_type": "code",
   "execution_count": 50,
   "metadata": {},
   "outputs": [
    {
     "data": {
      "text/html": [
       "<div>\n",
       "<style scoped>\n",
       "    .dataframe tbody tr th:only-of-type {\n",
       "        vertical-align: middle;\n",
       "    }\n",
       "\n",
       "    .dataframe tbody tr th {\n",
       "        vertical-align: top;\n",
       "    }\n",
       "\n",
       "    .dataframe thead th {\n",
       "        text-align: right;\n",
       "    }\n",
       "</style>\n",
       "<table border=\"1\" class=\"dataframe\">\n",
       "  <thead>\n",
       "    <tr style=\"text-align: right;\">\n",
       "      <th></th>\n",
       "      <th>list_price</th>\n",
       "      <th>num_reviews</th>\n",
       "      <th>piece_count</th>\n",
       "      <th>play_star_rating</th>\n",
       "      <th>prod_desc</th>\n",
       "      <th>prod_id</th>\n",
       "      <th>prod_long_desc</th>\n",
       "      <th>review_difficulty</th>\n",
       "      <th>set_name</th>\n",
       "      <th>star_rating</th>\n",
       "      <th>theme_name</th>\n",
       "      <th>val_star_rating</th>\n",
       "      <th>age_min</th>\n",
       "      <th>age_max</th>\n",
       "    </tr>\n",
       "  </thead>\n",
       "  <tbody>\n",
       "    <tr>\n",
       "      <th>9006</th>\n",
       "      <td>24.3878</td>\n",
       "      <td>12.0</td>\n",
       "      <td>239.0</td>\n",
       "      <td>4.7</td>\n",
       "      <td>Gear up for the big race!</td>\n",
       "      <td>60148.0</td>\n",
       "      <td>Get ready to race with the LEGO® City ATV Race...</td>\n",
       "      <td>2.0</td>\n",
       "      <td>10</td>\n",
       "      <td>4.8</td>\n",
       "      <td>7</td>\n",
       "      <td>4.6</td>\n",
       "      <td>5</td>\n",
       "      <td>12</td>\n",
       "    </tr>\n",
       "    <tr>\n",
       "      <th>6670</th>\n",
       "      <td>85.3390</td>\n",
       "      <td>8.0</td>\n",
       "      <td>747.0</td>\n",
       "      <td>4.3</td>\n",
       "      <td>Defend NINJAGO® City against Garma Mecha Man!</td>\n",
       "      <td>70613.0</td>\n",
       "      <td>Help Lloyd protect civilian Pat from attack by...</td>\n",
       "      <td>3.0</td>\n",
       "      <td>247</td>\n",
       "      <td>4.5</td>\n",
       "      <td>39</td>\n",
       "      <td>4.5</td>\n",
       "      <td>8</td>\n",
       "      <td>14</td>\n",
       "    </tr>\n",
       "    <tr>\n",
       "      <th>4914</th>\n",
       "      <td>36.5878</td>\n",
       "      <td>25.0</td>\n",
       "      <td>241.0</td>\n",
       "      <td>4.1</td>\n",
       "      <td>Learn the Jedi way at the Ahch-To Island mount...</td>\n",
       "      <td>75200.0</td>\n",
       "      <td>Join Master Luke as he trains Rey at his mount...</td>\n",
       "      <td>2.0</td>\n",
       "      <td>17</td>\n",
       "      <td>4.5</td>\n",
       "      <td>35</td>\n",
       "      <td>4.1</td>\n",
       "      <td>7</td>\n",
       "      <td>12</td>\n",
       "    </tr>\n",
       "    <tr>\n",
       "      <th>11329</th>\n",
       "      <td>13.0471</td>\n",
       "      <td>2.0</td>\n",
       "      <td>108.0</td>\n",
       "      <td>3.5</td>\n",
       "      <td>Get an upgrade with LEGO® BrickHeadz Cyborg™</td>\n",
       "      <td>41601.0</td>\n",
       "      <td>This Cyborg™ LEGO® BrickHeadz construction cha...</td>\n",
       "      <td>2.0</td>\n",
       "      <td>148</td>\n",
       "      <td>5.0</td>\n",
       "      <td>5</td>\n",
       "      <td>4.0</td>\n",
       "      <td>10</td>\n",
       "      <td>99</td>\n",
       "    </tr>\n",
       "    <tr>\n",
       "      <th>12222</th>\n",
       "      <td>341.5878</td>\n",
       "      <td>19.0</td>\n",
       "      <td>3444.0</td>\n",
       "      <td>4.9</td>\n",
       "      <td>Dare to enter The Joker™ Manor!</td>\n",
       "      <td>70922.0</td>\n",
       "      <td>Help Batman™, Barbara Gordon, Alfred Pennywort...</td>\n",
       "      <td>4.0</td>\n",
       "      <td>659</td>\n",
       "      <td>5.0</td>\n",
       "      <td>38</td>\n",
       "      <td>4.9</td>\n",
       "      <td>14</td>\n",
       "      <td>99</td>\n",
       "    </tr>\n",
       "    <tr>\n",
       "      <th>3797</th>\n",
       "      <td>121.3800</td>\n",
       "      <td>39.0</td>\n",
       "      <td>863.0</td>\n",
       "      <td>4.2</td>\n",
       "      <td>Transport Director Krennic in his armor-plated...</td>\n",
       "      <td>75156.0</td>\n",
       "      <td>Krennic’s Imperial Shuttle is an intimidating ...</td>\n",
       "      <td>3.0</td>\n",
       "      <td>327</td>\n",
       "      <td>4.4</td>\n",
       "      <td>35</td>\n",
       "      <td>4.4</td>\n",
       "      <td>9</td>\n",
       "      <td>14</td>\n",
       "    </tr>\n",
       "    <tr>\n",
       "      <th>5685</th>\n",
       "      <td>42.6878</td>\n",
       "      <td>10.0</td>\n",
       "      <td>386.0</td>\n",
       "      <td>3.2</td>\n",
       "      <td>Enjoy eco-friendly adventures with the 3-in-1 ...</td>\n",
       "      <td>31068.0</td>\n",
       "      <td>Build the bright and airy Modern Home, featuri...</td>\n",
       "      <td>3.0</td>\n",
       "      <td>421</td>\n",
       "      <td>3.8</td>\n",
       "      <td>9</td>\n",
       "      <td>3.9</td>\n",
       "      <td>8</td>\n",
       "      <td>12</td>\n",
       "    </tr>\n",
       "    <tr>\n",
       "      <th>5080</th>\n",
       "      <td>12.0000</td>\n",
       "      <td>12.0</td>\n",
       "      <td>88.0</td>\n",
       "      <td>4.5</td>\n",
       "      <td>Cruise into the jungle and make a big discovery!</td>\n",
       "      <td>60157.0</td>\n",
       "      <td>Discover what lurks on the banks of the river ...</td>\n",
       "      <td>2.0</td>\n",
       "      <td>315</td>\n",
       "      <td>4.9</td>\n",
       "      <td>7</td>\n",
       "      <td>4.6</td>\n",
       "      <td>5</td>\n",
       "      <td>12</td>\n",
       "    </tr>\n",
       "    <tr>\n",
       "      <th>4744</th>\n",
       "      <td>24.3878</td>\n",
       "      <td>NaN</td>\n",
       "      <td>131.0</td>\n",
       "      <td>NaN</td>\n",
       "      <td>Race against Chopper Maroon for the treasure map!</td>\n",
       "      <td>10755.0</td>\n",
       "      <td>Get your ninja on and help Zane recover the ma...</td>\n",
       "      <td>NaN</td>\n",
       "      <td>739</td>\n",
       "      <td>NaN</td>\n",
       "      <td>22</td>\n",
       "      <td>NaN</td>\n",
       "      <td>4</td>\n",
       "      <td>7</td>\n",
       "    </tr>\n",
       "    <tr>\n",
       "      <th>4412</th>\n",
       "      <td>38.3520</td>\n",
       "      <td>5.0</td>\n",
       "      <td>330.0</td>\n",
       "      <td>4.0</td>\n",
       "      <td>Put the wind in your sails with this amazing R...</td>\n",
       "      <td>42074.0</td>\n",
       "      <td>Enter the world of water sports with this amaz...</td>\n",
       "      <td>3.0</td>\n",
       "      <td>510</td>\n",
       "      <td>4.8</td>\n",
       "      <td>40</td>\n",
       "      <td>4.2</td>\n",
       "      <td>8</td>\n",
       "      <td>14</td>\n",
       "    </tr>\n",
       "  </tbody>\n",
       "</table>\n",
       "</div>"
      ],
      "text/plain": [
       "       list_price  num_reviews  piece_count  play_star_rating  \\\n",
       "9006      24.3878         12.0        239.0               4.7   \n",
       "6670      85.3390          8.0        747.0               4.3   \n",
       "4914      36.5878         25.0        241.0               4.1   \n",
       "11329     13.0471          2.0        108.0               3.5   \n",
       "12222    341.5878         19.0       3444.0               4.9   \n",
       "3797     121.3800         39.0        863.0               4.2   \n",
       "5685      42.6878         10.0        386.0               3.2   \n",
       "5080      12.0000         12.0         88.0               4.5   \n",
       "4744      24.3878          NaN        131.0               NaN   \n",
       "4412      38.3520          5.0        330.0               4.0   \n",
       "\n",
       "                                               prod_desc  prod_id  \\\n",
       "9006                           Gear up for the big race!  60148.0   \n",
       "6670       Defend NINJAGO® City against Garma Mecha Man!  70613.0   \n",
       "4914   Learn the Jedi way at the Ahch-To Island mount...  75200.0   \n",
       "11329       Get an upgrade with LEGO® BrickHeadz Cyborg™  41601.0   \n",
       "12222                    Dare to enter The Joker™ Manor!  70922.0   \n",
       "3797   Transport Director Krennic in his armor-plated...  75156.0   \n",
       "5685   Enjoy eco-friendly adventures with the 3-in-1 ...  31068.0   \n",
       "5080    Cruise into the jungle and make a big discovery!  60157.0   \n",
       "4744   Race against Chopper Maroon for the treasure map!  10755.0   \n",
       "4412   Put the wind in your sails with this amazing R...  42074.0   \n",
       "\n",
       "                                          prod_long_desc  review_difficulty  \\\n",
       "9006   Get ready to race with the LEGO® City ATV Race...                2.0   \n",
       "6670   Help Lloyd protect civilian Pat from attack by...                3.0   \n",
       "4914   Join Master Luke as he trains Rey at his mount...                2.0   \n",
       "11329  This Cyborg™ LEGO® BrickHeadz construction cha...                2.0   \n",
       "12222  Help Batman™, Barbara Gordon, Alfred Pennywort...                4.0   \n",
       "3797   Krennic’s Imperial Shuttle is an intimidating ...                3.0   \n",
       "5685   Build the bright and airy Modern Home, featuri...                3.0   \n",
       "5080   Discover what lurks on the banks of the river ...                2.0   \n",
       "4744   Get your ninja on and help Zane recover the ma...                NaN   \n",
       "4412   Enter the world of water sports with this amaz...                3.0   \n",
       "\n",
       "       set_name  star_rating  theme_name  val_star_rating age_min age_max  \n",
       "9006         10          4.8           7              4.6       5      12  \n",
       "6670        247          4.5          39              4.5       8      14  \n",
       "4914         17          4.5          35              4.1       7      12  \n",
       "11329       148          5.0           5              4.0      10      99  \n",
       "12222       659          5.0          38              4.9      14      99  \n",
       "3797        327          4.4          35              4.4       9      14  \n",
       "5685        421          3.8           9              3.9       8      12  \n",
       "5080        315          4.9           7              4.6       5      12  \n",
       "4744        739          NaN          22              NaN       4       7  \n",
       "4412        510          4.8          40              4.2       8      14  "
      ]
     },
     "execution_count": 50,
     "metadata": {},
     "output_type": "execute_result"
    }
   ],
   "source": [
    "# Geben Sie 10 zufällige Einträge der Spalte 'prod_desc' aus\n",
    "data.sample(10)"
   ]
  },
  {
   "cell_type": "markdown",
   "metadata": {
    "editable": false
   },
   "source": [
    "Es scheint, dass die kurze Produktbeschreibung keine systematischen Informationen enthält. An dieser Stelle könnte man viele verschiedene Ansätze verfolgen und bspw. eine Analyse der verwendeten Verben und Adjektive vornehmen (mittels Methoden des [Natural Language Processing](https://de.wikipedia.org/wiki/Computerlinguistik)). Für den Rahmen dieses Notebooks führt das aber zu weit und wir beschränken uns stattdessen auf die Anzahl der Wörter in der Kurzbeschreibung. Dazu müssen wir die Strings zunächst an den Leerzeichen auftrennen (siehe oben) und die Anzahl der getrennten Einheiten zählen.\n",
    "\n",
    "Zur Bestimmung der Anzahl der Elemente in einem Objekt bietet Python die built-in Funktion [``len()``](https://docs.python.org/3/library/functions.html#len)."
   ]
  },
  {
   "cell_type": "code",
   "execution_count": 62,
   "metadata": {},
   "outputs": [
    {
     "ename": "AttributeError",
     "evalue": "Can only use .str accessor with string values!",
     "output_type": "error",
     "traceback": [
      "\u001b[0;31m---------------------------------------------------------------------------\u001b[0m",
      "\u001b[0;31mAttributeError\u001b[0m                            Traceback (most recent call last)",
      "\u001b[0;32m<ipython-input-62-14cd0e5bca27>\u001b[0m in \u001b[0;36m<module>\u001b[0;34m\u001b[0m\n\u001b[1;32m      1\u001b[0m \u001b[0;31m# Spalten Sie die Strings in der Spalte 'prod_desc' am Leerzeichen auf\u001b[0m\u001b[0;34m\u001b[0m\u001b[0;34m\u001b[0m\u001b[0;34m\u001b[0m\u001b[0m\n\u001b[0;32m----> 2\u001b[0;31m \u001b[0mprod_desc\u001b[0m \u001b[0;34m=\u001b[0m \u001b[0mdata\u001b[0m\u001b[0;34m[\u001b[0m\u001b[0;34m'prod_desc'\u001b[0m\u001b[0;34m]\u001b[0m\u001b[0;34m.\u001b[0m\u001b[0mstr\u001b[0m\u001b[0;34m.\u001b[0m\u001b[0msplit\u001b[0m\u001b[0;34m(\u001b[0m\u001b[0;34m'\\s'\u001b[0m\u001b[0;34m,\u001b[0m\u001b[0mexpand\u001b[0m\u001b[0;34m=\u001b[0m\u001b[0;32mTrue\u001b[0m\u001b[0;34m)\u001b[0m\u001b[0;34m\u001b[0m\u001b[0;34m\u001b[0m\u001b[0m\n\u001b[0m\u001b[1;32m      3\u001b[0m \u001b[0;31m# Bestimmen Sie die Anzahl der Worte (Achtung: Schleife oder besser List Comprehension und Behandlung von NaN (= 0 Wörter) nötig!)\u001b[0m\u001b[0;34m\u001b[0m\u001b[0;34m\u001b[0m\u001b[0;34m\u001b[0m\u001b[0m\n\u001b[1;32m      4\u001b[0m \u001b[0;34m\u001b[0m\u001b[0m\n\u001b[1;32m      5\u001b[0m \u001b[0;31m#words_quant = [desc.len() for desc in data['prod_desc']]\u001b[0m\u001b[0;34m\u001b[0m\u001b[0;34m\u001b[0m\u001b[0;34m\u001b[0m\u001b[0m\n",
      "\u001b[0;32m~/opt/anaconda3/lib/python3.7/site-packages/pandas/core/generic.py\u001b[0m in \u001b[0;36m__getattr__\u001b[0;34m(self, name)\u001b[0m\n\u001b[1;32m   5268\u001b[0m             \u001b[0;32mor\u001b[0m \u001b[0mname\u001b[0m \u001b[0;32min\u001b[0m \u001b[0mself\u001b[0m\u001b[0;34m.\u001b[0m\u001b[0m_accessors\u001b[0m\u001b[0;34m\u001b[0m\u001b[0;34m\u001b[0m\u001b[0m\n\u001b[1;32m   5269\u001b[0m         ):\n\u001b[0;32m-> 5270\u001b[0;31m             \u001b[0;32mreturn\u001b[0m \u001b[0mobject\u001b[0m\u001b[0;34m.\u001b[0m\u001b[0m__getattribute__\u001b[0m\u001b[0;34m(\u001b[0m\u001b[0mself\u001b[0m\u001b[0;34m,\u001b[0m \u001b[0mname\u001b[0m\u001b[0;34m)\u001b[0m\u001b[0;34m\u001b[0m\u001b[0;34m\u001b[0m\u001b[0m\n\u001b[0m\u001b[1;32m   5271\u001b[0m         \u001b[0;32melse\u001b[0m\u001b[0;34m:\u001b[0m\u001b[0;34m\u001b[0m\u001b[0;34m\u001b[0m\u001b[0m\n\u001b[1;32m   5272\u001b[0m             \u001b[0;32mif\u001b[0m \u001b[0mself\u001b[0m\u001b[0;34m.\u001b[0m\u001b[0m_info_axis\u001b[0m\u001b[0;34m.\u001b[0m\u001b[0m_can_hold_identifiers_and_holds_name\u001b[0m\u001b[0;34m(\u001b[0m\u001b[0mname\u001b[0m\u001b[0;34m)\u001b[0m\u001b[0;34m:\u001b[0m\u001b[0;34m\u001b[0m\u001b[0;34m\u001b[0m\u001b[0m\n",
      "\u001b[0;32m~/opt/anaconda3/lib/python3.7/site-packages/pandas/core/accessor.py\u001b[0m in \u001b[0;36m__get__\u001b[0;34m(self, obj, cls)\u001b[0m\n\u001b[1;32m    185\u001b[0m             \u001b[0;31m# we're accessing the attribute of the class, i.e., Dataset.geo\u001b[0m\u001b[0;34m\u001b[0m\u001b[0;34m\u001b[0m\u001b[0;34m\u001b[0m\u001b[0m\n\u001b[1;32m    186\u001b[0m             \u001b[0;32mreturn\u001b[0m \u001b[0mself\u001b[0m\u001b[0;34m.\u001b[0m\u001b[0m_accessor\u001b[0m\u001b[0;34m\u001b[0m\u001b[0;34m\u001b[0m\u001b[0m\n\u001b[0;32m--> 187\u001b[0;31m         \u001b[0maccessor_obj\u001b[0m \u001b[0;34m=\u001b[0m \u001b[0mself\u001b[0m\u001b[0;34m.\u001b[0m\u001b[0m_accessor\u001b[0m\u001b[0;34m(\u001b[0m\u001b[0mobj\u001b[0m\u001b[0;34m)\u001b[0m\u001b[0;34m\u001b[0m\u001b[0;34m\u001b[0m\u001b[0m\n\u001b[0m\u001b[1;32m    188\u001b[0m         \u001b[0;31m# Replace the property with the accessor object. Inspired by:\u001b[0m\u001b[0;34m\u001b[0m\u001b[0;34m\u001b[0m\u001b[0;34m\u001b[0m\u001b[0m\n\u001b[1;32m    189\u001b[0m         \u001b[0;31m# http://www.pydanny.com/cached-property.html\u001b[0m\u001b[0;34m\u001b[0m\u001b[0;34m\u001b[0m\u001b[0;34m\u001b[0m\u001b[0m\n",
      "\u001b[0;32m~/opt/anaconda3/lib/python3.7/site-packages/pandas/core/strings.py\u001b[0m in \u001b[0;36m__init__\u001b[0;34m(self, data)\u001b[0m\n\u001b[1;32m   2037\u001b[0m \u001b[0;34m\u001b[0m\u001b[0m\n\u001b[1;32m   2038\u001b[0m     \u001b[0;32mdef\u001b[0m \u001b[0m__init__\u001b[0m\u001b[0;34m(\u001b[0m\u001b[0mself\u001b[0m\u001b[0;34m,\u001b[0m \u001b[0mdata\u001b[0m\u001b[0;34m)\u001b[0m\u001b[0;34m:\u001b[0m\u001b[0;34m\u001b[0m\u001b[0;34m\u001b[0m\u001b[0m\n\u001b[0;32m-> 2039\u001b[0;31m         \u001b[0mself\u001b[0m\u001b[0;34m.\u001b[0m\u001b[0m_inferred_dtype\u001b[0m \u001b[0;34m=\u001b[0m \u001b[0mself\u001b[0m\u001b[0;34m.\u001b[0m\u001b[0m_validate\u001b[0m\u001b[0;34m(\u001b[0m\u001b[0mdata\u001b[0m\u001b[0;34m)\u001b[0m\u001b[0;34m\u001b[0m\u001b[0;34m\u001b[0m\u001b[0m\n\u001b[0m\u001b[1;32m   2040\u001b[0m         \u001b[0mself\u001b[0m\u001b[0;34m.\u001b[0m\u001b[0m_is_categorical\u001b[0m \u001b[0;34m=\u001b[0m \u001b[0mis_categorical_dtype\u001b[0m\u001b[0;34m(\u001b[0m\u001b[0mdata\u001b[0m\u001b[0;34m)\u001b[0m\u001b[0;34m\u001b[0m\u001b[0;34m\u001b[0m\u001b[0m\n\u001b[1;32m   2041\u001b[0m         \u001b[0mself\u001b[0m\u001b[0;34m.\u001b[0m\u001b[0m_is_string\u001b[0m \u001b[0;34m=\u001b[0m \u001b[0mdata\u001b[0m\u001b[0;34m.\u001b[0m\u001b[0mdtype\u001b[0m\u001b[0;34m.\u001b[0m\u001b[0mname\u001b[0m \u001b[0;34m==\u001b[0m \u001b[0;34m\"string\"\u001b[0m\u001b[0;34m\u001b[0m\u001b[0;34m\u001b[0m\u001b[0m\n",
      "\u001b[0;32m~/opt/anaconda3/lib/python3.7/site-packages/pandas/core/strings.py\u001b[0m in \u001b[0;36m_validate\u001b[0;34m(data)\u001b[0m\n\u001b[1;32m   2094\u001b[0m \u001b[0;34m\u001b[0m\u001b[0m\n\u001b[1;32m   2095\u001b[0m         \u001b[0;32mif\u001b[0m \u001b[0minferred_dtype\u001b[0m \u001b[0;32mnot\u001b[0m \u001b[0;32min\u001b[0m \u001b[0mallowed_types\u001b[0m\u001b[0;34m:\u001b[0m\u001b[0;34m\u001b[0m\u001b[0;34m\u001b[0m\u001b[0m\n\u001b[0;32m-> 2096\u001b[0;31m             \u001b[0;32mraise\u001b[0m \u001b[0mAttributeError\u001b[0m\u001b[0;34m(\u001b[0m\u001b[0;34m\"Can only use .str accessor with string values!\"\u001b[0m\u001b[0;34m)\u001b[0m\u001b[0;34m\u001b[0m\u001b[0;34m\u001b[0m\u001b[0m\n\u001b[0m\u001b[1;32m   2097\u001b[0m         \u001b[0;32mreturn\u001b[0m \u001b[0minferred_dtype\u001b[0m\u001b[0;34m\u001b[0m\u001b[0;34m\u001b[0m\u001b[0m\n\u001b[1;32m   2098\u001b[0m \u001b[0;34m\u001b[0m\u001b[0m\n",
      "\u001b[0;31mAttributeError\u001b[0m: Can only use .str accessor with string values!"
     ]
    }
   ],
   "source": [
    "# Spalten Sie die Strings in der Spalte 'prod_desc' am Leerzeichen auf\n",
    "prod_desc = data['prod_desc'].str.split('\\s',expand=True)\n",
    "# Bestimmen Sie die Anzahl der Worte (Achtung: Schleife oder besser List Comprehension und Behandlung von NaN (= 0 Wörter) nötig!)\n",
    "\n",
    "#words_quant = [desc.len() for desc in data['prod_desc']]\n",
    "# Ersetzen sie die Spalte 'prod_desc' mit der ermittelten Anzahl\n"
   ]
  },
  {
   "cell_type": "markdown",
   "metadata": {
    "editable": false
   },
   "source": [
    "Werfen wir nun einen Blick auf die ausführliche Beschreibung:"
   ]
  },
  {
   "cell_type": "code",
   "execution_count": null,
   "metadata": {},
   "outputs": [],
   "source": [
    "# Geben Sie 10 zufällige Beispiele aus der Spalte 'prod_long_desc' aus (Achtung: hier ist eine Schleife und print() nötig, um die ganze Beschreibung sehen zu können)\n"
   ]
  },
  {
   "cell_type": "markdown",
   "metadata": {
    "editable": false
   },
   "source": [
    "Auch hier könnten natürlich elaborierte Analysen angesetzt werden. Wir stellen aber auch fest, dass viele Beschreibungen die physischen Abmessungen der Lego Sets beinhalten. Diese könnten leicht numerisch kodiert werden, wenn wir sie aus dem Fließtext extrahieren können. Der Einfachheit halber wollen wir nur die erste in der Beschreibung angegebene Abmessung für jede Dimension berücksichtigen.\n",
    "\n",
    "Um in einem String ein auftretendes Muster (wie z.B. \"<ZAHL><EINHEIT><LEERZEICHEN><DIMENSION>\") zu finden, eignen sich [reguläre Ausdrucke](https://de.wikipedia.org/wiki/Regul%C3%A4rer_Ausdruck). Reguläre Ausdrücke sind ein sehr mächtiges Konzept, das in vielen Programmiersprachen und -frameworks Verwendung findet. Mit einem regulären Ausdruck lassen sich auch komplexe Muster in abstrakter Weise formulieren, so dass Sie dann für einen Vergleich genutzt werden können. Ein ausführlicher Exkurs zu regulären Ausdrücken führt an dieser Stelle allerdings zu weit, weshalb wir die Ausdrücke für die zu findenen Muster bereits vorgegeben haben. Nachdem Sie ein Muster definiert haben, können Sie mit der pandas-Methode ``extract()`` das erste Auftreten des Musters extrahieren:\n",
    "    \n",
    "```python\n",
    "some_dataFrame.str.extract(regularExpression)\n",
    "```\n",
    "__Achtung:__ Da in regulären Ausdrücken viele Sonderzeichen vorkommen, werden sie in Python üblicherweise als [Raw String](https://www.journaldev.com/23598/python-raw-string) (mit einem vorangestellten ``r``) definiert.\n"
   ]
  },
  {
   "cell_type": "code",
   "execution_count": null,
   "metadata": {},
   "outputs": [],
   "source": [
    "# Verwenden Sie str.extract() und den String r'(?:(?P<high>\\d+)(?:” high))' um die erste Höhenangabe in Inch zu extrahieren\n",
    "\n",
    "# Die Breite finden Sie mit r'(?:(?P<wide>\\d+)(?:” wide))'\n",
    "\n",
    "# Die Länge finden Sie mit r'(?:(?P<long>\\d+)(?:” long))'\n",
    "\n",
    "# Fügen Sie die Dimensionen als neue Spalten 'height', 'width', 'length' in den DataFrame lego_data ein\n",
    "\n",
    "\n",
    "\n",
    "# Entfernen Sie die Spalte 'prod_long_desc'\n"
   ]
  },
  {
   "cell_type": "markdown",
   "metadata": {
    "editable": false
   },
   "source": [
    "### 3.2 Fehlende Werte"
   ]
  },
  {
   "cell_type": "markdown",
   "metadata": {
    "editable": false
   },
   "source": [
    "Der Datensatz enthält nun ausschließlich numerische Merkmale. Allerdings sind  nicht in jeder Spalte alle Einträge vorhanden. Viele Algorithmen erwarten aber vollständige Datensätze. Der einfachste Weg, mit fehlenden Werten umzugehen, ist die betreffenden Zeilen oder Spalten einfach zu streichen. Das ist allerdings natürlich mit Informationsverlust verbunden und sollte daher vermieden werden. In diesem Abschnitt werden wir daher verschiedene Methoden verwenden, um die fehlenden Werte aufzufüllen.\n",
    "\n",
    "Schauen wir uns nochmal an, wie viele Werte in jeder Spalte jeweils fehlen (siehe oben)."
   ]
  },
  {
   "cell_type": "code",
   "execution_count": null,
   "metadata": {},
   "outputs": [],
   "source": [
    "# Geben Sie die Anzahl der fehlenden Werte pro Spalte aus\n"
   ]
  },
  {
   "cell_type": "markdown",
   "metadata": {},
   "source": [
    "Wir stellen fest, dass vor allem die Bewertungen (Rezensionen und Sterne-Bewertungen) unvollständig sind. Ziel des Einfüllens ist es, den Datensatz zu vervollständigen ohne dabei die Verteilung innerhalb der jeweiligen Spalte zu verzerren. Daher ist es sinnvoll, sich die jeweilige Verteilung zunächst zu betrachten, bevor das weitere Vorgehen festgelegt wird.\n",
    "\n",
    "Pandas bietet hierzu die Methode ```.hist()```, mit der Histogramme der Spalten (oder einer Auswahl von Spalten) eines Datenframes angezeigt werden können.\n",
    "\n",
    "```python\n",
    "some_dataFrame[list_of_columns_of_interest].hist()\n",
    "```"
   ]
  },
  {
   "cell_type": "code",
   "execution_count": null,
   "metadata": {},
   "outputs": [],
   "source": [
    "# Geben Sie Histogramme der Spalten mit fehlenden Werten aus\n"
   ]
  },
  {
   "cell_type": "markdown",
   "metadata": {
    "editable": false
   },
   "source": [
    "Wir stellen fest, dass die meisten Spalten keine Normalverteilung aufweisen. Die fehlenden Werte hier mit dem Mittelwert der Spalte aufzufüllen, wäre daher ungünstig. Stattdessen kann man bei solchen schiefen Verteilungen den häufigsten Wert einfüllen. \n",
    "\n",
    "Für die Bestimmung des häufigsten Wertes und des Mittelwertes gibt es in pandas die Methoden ```.mean()``` und ```.mode()```. Für das Auffüllen von fehlenden Werten gibt es die Methode ```.fillna()```.\n",
    "\n",
    "```python\n",
    "some_dataFrame[columns].mean() # Gibt Mittelwerte der Spalten <columns> zurück\n",
    "some_dataFrame[columns].mode() # Gibt häufigste Werte der Spalten <columns> zurück ACHTUNG: Rückgabewert ist nicht skalar!\n",
    "some_dataFrame[columns].fillna(value) # Füllt alle fehlenden Werte in den Spalten <columns> mit <value> auf\n",
    "```\n",
    "\n"
   ]
  },
  {
   "cell_type": "code",
   "execution_count": null,
   "metadata": {},
   "outputs": [],
   "source": [
    "# Füllen Sie die Spalte(n) mit (näherungsweise) normalverteilten Werte mit dem Mittelwert auf\n",
    "\n",
    "# Füllen Sie die Spalte(n) mit nicht normalverteilten Werte mit dem jeweils häufigsten Wert auf\n"
   ]
  },
  {
   "cell_type": "markdown",
   "metadata": {
    "editable": false
   },
   "source": [
    "Auch hier sind durchaus andere, Problem-angepasste Möglichkeiten zum Auffüllen oft sinnvoll. Zum Beispiel könnte man den Schwierigkeitsgrad auch versuchen, aus der Anzahl der Teile vorherzusagen, und so das Auffüllen der fehlenden Werte zu einem eigenen Regressionsproblem machen. Oder man versucht zu einer Zeile, in der ein Wert fehlt, eine möglichst ähnliche Zeile zu finden und übernimmt den fehlenden Wert (Nächste Nachbarn-Methode). Das beliebte Python-Toolkit [_scikit-learn_](https://scikit-learn.org/stable/) bietet bspw. eine ganze Reihe von Möglichkeiten zur Imputation im Modul [```sklearn.impute```](https://scikit-learn.org/stable/modules/classes.html#module-sklearn.impute). Im Rahmen dieses Notebooks soll darauf aber nicht weiter eingegangen werden."
   ]
  },
  {
   "cell_type": "markdown",
   "metadata": {
    "editable": false
   },
   "source": [
    "<a id=\"save_data\"></a><div><img src=\"Images/IMG-csv-out.png\" style=\"float:left\"> <h2 style=\"position: relative; top: 6px\">3. Daten exportieren</h2>\n",
    "\n",
    "<p style=\"position: relative; top: 10px\">\n",
    "Damit ist der Datensatz nun also vollständig und besteht nur noch aus numerischen Merkmalen. Er muss also nur noch in eine CSV-Datei exportiert werden und kann dann von Modellen zur Regression oder Klassifikation ohne weitere Verarbeitung genutzt werden.\n",
    "\n",
    "Pandas bietet auch hierfür eine einfache Methode an: ```.to_csv()```\n",
    "\n",
    "```python\n",
    "some_dataFrame.to_csv(filename)\n",
    "```\n",
    "</p>\n"
   ]
  },
  {
   "cell_type": "code",
   "execution_count": null,
   "metadata": {},
   "outputs": [],
   "source": [
    "# Exportieren Sie den aufgeräumten Datensatz in eine Datei namens 'tidy_lego_sets.csv' im Unterordner 'Data'\n"
   ]
  },
  {
   "cell_type": "markdown",
   "metadata": {
    "editable": false
   },
   "source": [
    "<p style=\"text-align:center; font-weight:bold\">Herzlichen Glückwunsch! Sie haben erfolgreich den unordentlichen Haufen Lego sortiert.</p>\n",
    "\n",
    "<img src=\"Images/IMG-lego-messy-to-tidy.png\" width=\"1080px\" style=\"float:center\"/>\n",
    "\n",
    "\n",
    "<a style=\"float:left;background-color:black;color:white;text-decoration:none;padding:4px 6px;font-family:-apple-system, BlinkMacSystemFont, &quot;San Francisco&quot;, &quot;Helvetica Neue&quot;, Helvetica, Ubuntu, Roboto, Noto, &quot;Segoe UI&quot;, Arial, sans-serif;font-size:12px;font-weight:bold;line-height:1.2;display:inline-block;border-radius:3px\" href=\"https://unsplash.com/@egnaro?utm_medium=referral&amp;utm_campaign=photographer-credit&amp;utm_content=creditBadge\" target=\"_blank\" rel=\"noopener noreferrer\" title=\"Download free do whatever you want high-resolution photos from Rick Mason\"><span style=\"display:inline-block;padding:2px 3px\"><svg xmlns=\"http://www.w3.org/2000/svg\" style=\"height:12px;width:auto;position:relative;vertical-align:middle;top:-2px;fill:white\" viewBox=\"0 0 32 32\"><title>unsplash-logo</title><path d=\"M10 9V0h12v9H10zm12 5h10v18H0V14h10v9h12v-9z\"></path></svg></span><span style=\"display:inline-block;padding:2px 3px\">Photo by Rick Mason</span></a><a style=\"float:right;background-color:black;color:white;text-decoration:none;padding:4px 6px;font-family:-apple-system, BlinkMacSystemFont, &quot;San Francisco&quot;, &quot;Helvetica Neue&quot;, Helvetica, Ubuntu, Roboto, Noto, &quot;Segoe UI&quot;, Arial, sans-serif;font-size:12px;font-weight:bold;line-height:1.2;display:inline-block;border-radius:3px\" href=\"https://www.reddit.com/r/lego/comments/7mhq2b/finished_kind_of_organizing_my_spare_lego_pieces/\" target=\"_blank\" rel=\"noopener noreferrer\" title=\"Download free do whatever you want high-resolution photos from Rick Mason\"><span style=\"display:inline-block;padding:2px 3px\"><svg xmlns=\"http://www.w3.org/2000/svg\" style=\"height:12px;width:auto;position:relative;vertical-align:middle;top:-2px;fill:white\" viewBox=\"0 0 32 32\"><title>unsplash-logo</title><path d=\"M10 9V0h12v9H10zm12 5h10v18H0V14h10v9h12v-9z\"></path></svg></span><span style=\"display:inline-block;padding:2px 3px\">Photo by rexorhun</span></a>\n"
   ]
  },
  {
   "cell_type": "markdown",
   "metadata": {
    "editable": false
   },
   "source": [
    "<div>Icons made by <a href=\"https://www.flaticon.com/authors/swifticons\" title=\"Swifticons\">Swifticons</a> from <a href=\"https://www.flaticon.com/\" title=\"Flaticon\">www.flaticon.com</a></div>\n",
    "<div>Notebook erstelt von Yifei Li & <a href=\"mailto:simon.stone@tu-dresden.de?Subject=Frage%20zu%20Jupyter%20Notebook%20Lego%20Sets\" target=\"_top\">Simon Stone</a></div>"
   ]
  }
 ],
 "metadata": {
  "kernelspec": {
   "display_name": "Python 3",
   "language": "python",
   "name": "python3"
  },
  "language_info": {
   "codemirror_mode": {
    "name": "ipython",
    "version": 3
   },
   "file_extension": ".py",
   "mimetype": "text/x-python",
   "name": "python",
   "nbconvert_exporter": "python",
   "pygments_lexer": "ipython3",
   "version": "3.7.6"
  }
 },
 "nbformat": 4,
 "nbformat_minor": 4
}
