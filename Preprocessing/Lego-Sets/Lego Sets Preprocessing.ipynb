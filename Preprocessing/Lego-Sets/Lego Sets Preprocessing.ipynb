{
 "cells": [
  {
   "cell_type": "markdown",
   "metadata": {
    "editable": false
   },
   "source": [
    "<img src=\"Images/IMG-dirty-data.jpg\">\n",
    "Bei der Verarbeitung von Daten mit maschinellen Lernverfahren sieht man sich oft mit Datensätzen konfrontiert, die aus vielen verschiedenen Merkmalen bestehen. Diese Merkmale sind dabei oft heterogen: manche werden durch einen kontinuierlichen Zahlenwert kodiert, manche können nur bestimmte diskrete Stufen annehmen, manche sind vielleicht durch ein Wort oder sogar ganze Sätze kodiert. Oftmals fehlen auch einzelne Werte von Merkmalen, bspw. weil ein Sensor in einem multimodalen Messsystem kurzzeitig ausgefallen war oder weil bei einem Fragebogen nicht alle Fragen beantwortet wurden. Die meisten maschinellen Lernverfahren erwarten aber vollständig besetzte, ausschließlich numerische Merkmalvektoren am Eingang. \n",
    "\n",
    "<img style=\"float: right; margin:5px 0px 0px 10px\" src=\"Images/IMG-lego-logo.svg\" alt=\"Lego-Logo\" height=\"128\" width=\"128\">\n",
    "\n",
    "In diesem Notebook sollen Sie Verfahren kennenlernen und anwenden, die bei der Vorverarbeitung eines gemischten Datensatzes (\"Dirty Data\") zum Einsatz kommen können. Als Beispieldatensatz verwenden wir eine Datei, die durch Extraktion der Daten aller auf www.lego.com verfügbaren Produkte entstanden ist (siehe auch [Web Scraping](https://en.wikipedia.org/wiki/Web_scraping)). Der Inhalt der einzelnen Spalten sollte anhand der Spaltentitel weitgehend selbsterklärend sein.\n",
    "\n",
    "## Inhalt\n",
    "<table style=\"width:256; border: 1px solid black; display: inline-block\">\n",
    "  <tr>\n",
    "    <td  style=\"text-align:right\" width=64px><img src=\"Images/IMG-csv-in.png\" style=\"float:left\"></td>\n",
    "      <td style=\"text-align:left\" width=128px>\n",
    "          <a style=\"color:black; font-size:14px; font-weight:bold; text-decoration:none\" href='#import_data'>Daten importieren</a>\n",
    "      </td>\n",
    "  </tr>\n",
    "  <tr>\n",
    "    <td style=\"text-align:right\"><img src=\"Images/IMG-magnifying-glass.png\" style=\"float:left\"></td>\n",
    "    <td style=\"text-align:left\" width=128px><a style=\"color:black; font-size:14px; font-weight:bold; text-decoration:none\" href='#analyze_data'>Daten analysieren</a>\n",
    "      </td>\n",
    "  </tr>\n",
    "    <tr>\n",
    "    <td style=\"text-align:right\"><img src=\"Images/IMG-broom.png\" style=\"float:left\"></td>\n",
    "    <td style=\"text-align:left\" width=128px><a style=\"color:black; font-size:14px; font-weight:bold; text-decoration:none\" href='#clean_data'>Daten säubern</a>\n",
    "        </td>\n",
    "    </tr>\n",
    "    <tr>\n",
    "    <td style=\"text-align:right\"><img src=\"Images/IMG-csv-out.png\" style=\"float:left\"></td>\n",
    "    <td style=\"text-align:left\" width=128px><a style=\"color:black; font-size:14px; font-weight:bold; text-decoration:none\" href='#save_data'>Daten speichern</a>\n",
    "        </td>\n",
    "  </tr>\n",
    "</table>\n"
   ]
  },
  {
   "cell_type": "markdown",
   "metadata": {
    "editable": false
   },
   "source": [
    "<a id='import_data'></a><div><img src=\"Images/IMG-csv-in.png\" style=\"float:left\"> <h2 style=\"position: relative; top: 6px\">1. Daten Importieren</h2>\n",
    "<p style=\"position: relative; top: 10px\">\n",
    "Die unbearbeiteten Rohdaten liegen im Format einer <a href=\"https://de.wikipedia.org/wiki/CSV_(Dateiformat)\">CSV-Datei</a> vor. In den meisten <a href=\"https://de.wikipedia.org/wiki/H%C3%B6here_Programmiersprache\">höheren Programmiersprachen</a> (wie z.B. Python oder Matlab) existieren bereits Methoden zum Import dieser einfach strukturierten Dateien. Im Falle von Python geht das z.B. mit der Funktion <a href=\"https://pandas.pydata.org/docs/reference/api/pandas.read_csv.html#pandas.read_csv\">read_csv()</a> aus dem Modul <a href=\"https://pandas.pydata.org/docs/getting_started/10min.html#min\">pandas (Klick hier für eine 10minütige Tour)</a>. \n",
    "</p>\n",
    "\n",
    "Das funktioniert zum Beispiel so:\n",
    "\n",
    "```python\n",
    "import pandas as pd\n",
    "data = pd.read_csv(\"Path/to/data.csv\")\n",
    "```\n",
    "\n",
    "Probieren Sie es in der nächsten Zelle gleich mal aus! Die CSV-Datei ``lego_sets.csv`` befindet sich im Unterverzeichnis ``Data``."
   ]
  },
  {
   "cell_type": "code",
   "execution_count": 1,
   "metadata": {},
   "outputs": [],
   "source": [
    "# Hier können Sie Python-Code hineinschreiben und mit Shift+Enter ausführen!\n",
    "\n",
    "# Modul importieren\n",
    "import pandas as pd\n",
    "import numpy\n",
    "# CSV-Datei lesen (Daten als DataFrame speichern)\n",
    "data = pd.read_csv(\"Data/lego_sets.csv\")"
   ]
  },
  {
   "cell_type": "markdown",
   "metadata": {
    "editable": false
   },
   "source": [
    "Sehen wir uns mal an, wie pandas die eingelesenen Daten abspeichert. Sie finden diese Information natürlich in der Dokumentation, aber Sie können auch die [Built-In Funktion type()](https://docs.python.org/3/library/functions.html#type) verwenden:"
   ]
  },
  {
   "cell_type": "code",
   "execution_count": 2,
   "metadata": {},
   "outputs": [
    {
     "name": "stdout",
     "output_type": "stream",
     "text": [
      "<class 'pandas.core.frame.DataFrame'>\n"
     ]
    }
   ],
   "source": [
    "# Welchen Typ hat die angelegte Datenstruktur?\n",
    "print(type(data))"
   ]
  },
  {
   "cell_type": "markdown",
   "metadata": {
    "editable": false
   },
   "source": [
    "Wie Sie nun wissen sollten, werden die Daten der Lego-Sets als [``DataFrame``](https://pandas.pydata.org/docs/reference/api/pandas.DataFrame.html#pandas.DataFrame) gespeichert.  \n",
    "Ein ``DataFrame`` ist eine tabellarische Datenstruktur in pandas, die einen geordneten Satz von Spalten enthält. Jede Spalte kann einen anderen Datentyp haben (numerisch, string, boolesch usw.). Ein ``DataFrame`` hat sowohl einen Zeilenindex als auch einen Spaltenindex.\n",
    "\n",
    "Um einen schnellen Blick auf die Datenstruktur werfen zu können, bietet pandas die Funktionen [``head()``](https://pandas.pydata.org/pandas-docs/stable/reference/api/pandas.DataFrame.head.html) und [``tail()``](https://pandas.pydata.org/pandas-docs/stable/reference/api/pandas.DataFrame.tail.html#pandas.DataFrame.tail), um sich die ersten oder letzten Zeilen der Struktur anzeigen zu lassen."
   ]
  },
  {
   "cell_type": "code",
   "execution_count": 3,
   "metadata": {},
   "outputs": [
    {
     "name": "stdout",
     "output_type": "stream",
     "text": [
      "   ages  list_price  num_reviews  piece_count  play_star_rating  \\\n",
      "0  6-12       29.99          2.0        277.0               4.0   \n",
      "1  6-12       19.99          2.0        168.0               4.0   \n",
      "2  6-12       12.99         11.0         74.0               4.3   \n",
      "3   12+       99.99         23.0       1032.0               3.6   \n",
      "4   12+       79.99         14.0        744.0               3.2   \n",
      "\n",
      "                                           prod_desc  prod_id  \\\n",
      "0  Catapult into action and take back the eggs fr...  75823.0   \n",
      "1  Launch a flying attack and rescue the eggs fro...  75822.0   \n",
      "2  Chase the piggy with lightning-fast Chuck and ...  75821.0   \n",
      "3  Explore the architecture of the United States ...  21030.0   \n",
      "4  Recreate the Solomon R. Guggenheim Museum® wit...  21035.0   \n",
      "\n",
      "                                      prod_long_desc review_difficulty  \\\n",
      "0  Use the staircase catapult to launch Red into ...           Average   \n",
      "1  Pilot Pig has taken off from Bird Island with ...              Easy   \n",
      "2  Pitch speedy bird Chuck against the Piggy Car....              Easy   \n",
      "3  Discover the architectural secrets of the icon...           Average   \n",
      "4  Discover the architectural secrets of Frank Ll...       Challenging   \n",
      "\n",
      "                         set_name  star_rating    theme_name  val_star_rating  \\\n",
      "0           Bird Island Egg Heist          4.5  Angry Birds™              4.0   \n",
      "1              Piggy Plane Attack          5.0  Angry Birds™              4.0   \n",
      "2                Piggy Car Escape          4.3  Angry Birds™              4.1   \n",
      "3  United States Capitol Building          4.6  Architecture              4.3   \n",
      "4   Solomon R. Guggenheim Museum®          4.6  Architecture              4.1   \n",
      "\n",
      "  country  \n",
      "0      US  \n",
      "1      US  \n",
      "2      US  \n",
      "3      US  \n",
      "4      US  \n"
     ]
    }
   ],
   "source": [
    "## Werfen Sie einen Blick in die Datenstruktur\n",
    "print(data.head())"
   ]
  },
  {
   "cell_type": "markdown",
   "metadata": {
    "editable": false
   },
   "source": [
    "Sie können natürlich auch gezielt einzelne Elemente aus dem ``DataFrame`` indizieren. Das geht für ganze Spalten grundsätzlich ähnlich wie bei dem Python Standardtyp [*dictionary*](https://docs.python.org/3/tutorial/datastructures.html#dictionaries):\n",
    "\n",
    "```python\n",
    "some_dataFrame['some_column_name']\n",
    "```\n",
    "\n",
    "Wenn Sie mehrere Spalten zurückgeben wollen, können Sie dem ``[]`` Operator eine Liste der Spaltennamen übergeben:\n",
    "\n",
    "```python\n",
    "some_dataFrame[['some_column_name', 'another_column_name']]\n",
    "```"
   ]
  },
  {
   "cell_type": "code",
   "execution_count": 4,
   "metadata": {},
   "outputs": [
    {
     "data": {
      "text/html": [
       "<div>\n",
       "<style scoped>\n",
       "    .dataframe tbody tr th:only-of-type {\n",
       "        vertical-align: middle;\n",
       "    }\n",
       "\n",
       "    .dataframe tbody tr th {\n",
       "        vertical-align: top;\n",
       "    }\n",
       "\n",
       "    .dataframe thead th {\n",
       "        text-align: right;\n",
       "    }\n",
       "</style>\n",
       "<table border=\"1\" class=\"dataframe\">\n",
       "  <thead>\n",
       "    <tr style=\"text-align: right;\">\n",
       "      <th></th>\n",
       "      <th>val_star_rating</th>\n",
       "      <th>num_reviews</th>\n",
       "    </tr>\n",
       "  </thead>\n",
       "  <tbody>\n",
       "    <tr>\n",
       "      <th>0</th>\n",
       "      <td>4.0</td>\n",
       "      <td>2.0</td>\n",
       "    </tr>\n",
       "    <tr>\n",
       "      <th>1</th>\n",
       "      <td>4.0</td>\n",
       "      <td>2.0</td>\n",
       "    </tr>\n",
       "    <tr>\n",
       "      <th>2</th>\n",
       "      <td>4.1</td>\n",
       "      <td>11.0</td>\n",
       "    </tr>\n",
       "    <tr>\n",
       "      <th>3</th>\n",
       "      <td>4.3</td>\n",
       "      <td>23.0</td>\n",
       "    </tr>\n",
       "    <tr>\n",
       "      <th>4</th>\n",
       "      <td>4.1</td>\n",
       "      <td>14.0</td>\n",
       "    </tr>\n",
       "    <tr>\n",
       "      <th>...</th>\n",
       "      <td>...</td>\n",
       "      <td>...</td>\n",
       "    </tr>\n",
       "    <tr>\n",
       "      <th>12256</th>\n",
       "      <td>4.2</td>\n",
       "      <td>6.0</td>\n",
       "    </tr>\n",
       "    <tr>\n",
       "      <th>12257</th>\n",
       "      <td>4.1</td>\n",
       "      <td>8.0</td>\n",
       "    </tr>\n",
       "    <tr>\n",
       "      <th>12258</th>\n",
       "      <td>4.5</td>\n",
       "      <td>18.0</td>\n",
       "    </tr>\n",
       "    <tr>\n",
       "      <th>12259</th>\n",
       "      <td>5.0</td>\n",
       "      <td>1.0</td>\n",
       "    </tr>\n",
       "    <tr>\n",
       "      <th>12260</th>\n",
       "      <td>4.8</td>\n",
       "      <td>11.0</td>\n",
       "    </tr>\n",
       "  </tbody>\n",
       "</table>\n",
       "<p>12261 rows × 2 columns</p>\n",
       "</div>"
      ],
      "text/plain": [
       "       val_star_rating  num_reviews\n",
       "0                  4.0          2.0\n",
       "1                  4.0          2.0\n",
       "2                  4.1         11.0\n",
       "3                  4.3         23.0\n",
       "4                  4.1         14.0\n",
       "...                ...          ...\n",
       "12256              4.2          6.0\n",
       "12257              4.1          8.0\n",
       "12258              4.5         18.0\n",
       "12259              5.0          1.0\n",
       "12260              4.8         11.0\n",
       "\n",
       "[12261 rows x 2 columns]"
      ]
     },
     "execution_count": 4,
     "metadata": {},
     "output_type": "execute_result"
    }
   ],
   "source": [
    "# Geben Sie alle Product IDs aus\n",
    "data['prod_id']\n",
    "# Geben Sie nur die Bewertungssterne und die Anzahl der Reviews aus\n",
    "data[['val_star_rating','num_reviews']]"
   ]
  },
  {
   "cell_type": "markdown",
   "metadata": {
    "editable": false
   },
   "source": [
    "Möchten Sie (zusätzlich) die Auswahl auf einzelne Zeilen beschränken, bietet pandas die zwei Möglichkeiten ``.loc`` und ``.iloc``. Dabei ist ``.loc`` für die Verwendung mit Labels gedacht und ``.iloc`` für rein numerische Indices:\n",
    "\n",
    "```python\n",
    "some_dataFrame.loc[20:40, ['some_column_name', 'another_column_name]]\n",
    "```\n",
    "\n",
    "```python\n",
    "some_dataFrame.iloc[20:40, 2:3]\n",
    "```\n",
    "\n",
    "Die Variante mit ``.loc`` ist sehr nützlich für die Auswahl _einzelner_ Zeilen oder Spalten, während ``.iloc`` besser geeignet für die Auswahl von _Spannen_ von Zeilen oder Spalten ist.\n",
    "\n",
    "__Achtung__: Die beiden Varianten haben unterschiedliche Inklusivität der Index-Spannen!"
   ]
  },
  {
   "cell_type": "code",
   "execution_count": 5,
   "metadata": {},
   "outputs": [
    {
     "data": {
      "text/html": [
       "<div>\n",
       "<style scoped>\n",
       "    .dataframe tbody tr th:only-of-type {\n",
       "        vertical-align: middle;\n",
       "    }\n",
       "\n",
       "    .dataframe tbody tr th {\n",
       "        vertical-align: top;\n",
       "    }\n",
       "\n",
       "    .dataframe thead th {\n",
       "        text-align: right;\n",
       "    }\n",
       "</style>\n",
       "<table border=\"1\" class=\"dataframe\">\n",
       "  <thead>\n",
       "    <tr style=\"text-align: right;\">\n",
       "      <th></th>\n",
       "      <th>star_rating</th>\n",
       "      <th>set_name</th>\n",
       "    </tr>\n",
       "  </thead>\n",
       "  <tbody>\n",
       "    <tr>\n",
       "      <th>2</th>\n",
       "      <td>4.3</td>\n",
       "      <td>Piggy Car Escape</td>\n",
       "    </tr>\n",
       "    <tr>\n",
       "      <th>3</th>\n",
       "      <td>4.6</td>\n",
       "      <td>United States Capitol Building</td>\n",
       "    </tr>\n",
       "    <tr>\n",
       "      <th>4</th>\n",
       "      <td>4.6</td>\n",
       "      <td>Solomon R. Guggenheim Museum®</td>\n",
       "    </tr>\n",
       "    <tr>\n",
       "      <th>5</th>\n",
       "      <td>4.9</td>\n",
       "      <td>Shanghai</td>\n",
       "    </tr>\n",
       "    <tr>\n",
       "      <th>6</th>\n",
       "      <td>4.2</td>\n",
       "      <td>New York City</td>\n",
       "    </tr>\n",
       "    <tr>\n",
       "      <th>...</th>\n",
       "      <td>...</td>\n",
       "      <td>...</td>\n",
       "    </tr>\n",
       "    <tr>\n",
       "      <th>98</th>\n",
       "      <td>3.6</td>\n",
       "      <td>Jungle Buggy</td>\n",
       "    </tr>\n",
       "    <tr>\n",
       "      <th>99</th>\n",
       "      <td>4.6</td>\n",
       "      <td>Fun in the park - City People Pack</td>\n",
       "    </tr>\n",
       "    <tr>\n",
       "      <th>100</th>\n",
       "      <td>4.6</td>\n",
       "      <td>Volcano Heavy-lift Helicopter</td>\n",
       "    </tr>\n",
       "    <tr>\n",
       "      <th>101</th>\n",
       "      <td>4.6</td>\n",
       "      <td>Volcano Exploration Base</td>\n",
       "    </tr>\n",
       "    <tr>\n",
       "      <th>102</th>\n",
       "      <td>4.5</td>\n",
       "      <td>Fire Boat</td>\n",
       "    </tr>\n",
       "  </tbody>\n",
       "</table>\n",
       "<p>101 rows × 2 columns</p>\n",
       "</div>"
      ],
      "text/plain": [
       "     star_rating                            set_name\n",
       "2            4.3                    Piggy Car Escape\n",
       "3            4.6      United States Capitol Building\n",
       "4            4.6       Solomon R. Guggenheim Museum®\n",
       "5            4.9                            Shanghai\n",
       "6            4.2                       New York City\n",
       "..           ...                                 ...\n",
       "98           3.6                        Jungle Buggy\n",
       "99           4.6  Fun in the park - City People Pack\n",
       "100          4.6       Volcano Heavy-lift Helicopter\n",
       "101          4.6            Volcano Exploration Base\n",
       "102          4.5                           Fire Boat\n",
       "\n",
       "[101 rows x 2 columns]"
      ]
     },
     "execution_count": 5,
     "metadata": {},
     "output_type": "execute_result"
    }
   ],
   "source": [
    "# Geben Sie 100 Zeilen von zwei beliebigen Spalten irgendwo aus dem Datensatz zurück. Vergleichen Sie .loc und .iloc!\n",
    "data.loc[2:102,['star_rating','set_name']]"
   ]
  },
  {
   "cell_type": "markdown",
   "metadata": {
    "editable": false
   },
   "source": [
    "Mehr zum Objekt ``DataFrame`` finden Sie unter [DataFrame](https://pandas.pydata.org/pandas-docs/stable/reference/frame.html)."
   ]
  },
  {
   "cell_type": "markdown",
   "metadata": {},
   "source": [
    "---"
   ]
  },
  {
   "cell_type": "markdown",
   "metadata": {
    "editable": false
   },
   "source": [
    "<a id=\"analyze_data\"></a><div><img src=\"Images/IMG-magnifying-glass.png\" style=\"float:left\"> <h2 style=\"position: relative; top: 6px\">2. Daten analysieren</h2>\n",
    "\n",
    "<p style=\"position: relative; top: 10px\">\n",
    "Nachdem die Daten erfolgreich eingelesen wurden und wir uns über die Struktur der Daten informiert haben, können wir uns mit dem eigentlichen Inhalt befassen. Zunächst interessiert uns, in welcher Form die Daten jeder Spalte gespeichert sind. Dazu bietet ein pandas <code>DataFrame</code> das Property <code>.dtypes</code> an:\n",
    "</p>"
   ]
  },
  {
   "cell_type": "code",
   "execution_count": 6,
   "metadata": {},
   "outputs": [
    {
     "data": {
      "text/plain": [
       "ages                  object\n",
       "list_price           float64\n",
       "num_reviews          float64\n",
       "piece_count          float64\n",
       "play_star_rating     float64\n",
       "prod_desc             object\n",
       "prod_id              float64\n",
       "prod_long_desc        object\n",
       "review_difficulty     object\n",
       "set_name              object\n",
       "star_rating          float64\n",
       "theme_name            object\n",
       "val_star_rating      float64\n",
       "country               object\n",
       "dtype: object"
      ]
     },
     "execution_count": 6,
     "metadata": {},
     "output_type": "execute_result"
    }
   ],
   "source": [
    "# Geben Sie den Wert des Attributs \".dtypes\" Ihres Datensatzes aus\n",
    "data.dtypes"
   ]
  },
  {
   "cell_type": "markdown",
   "metadata": {
    "editable": false
   },
   "source": [
    "Ihnen sollte auffallen, dass einige der Spalten numerisch sind (``float64``), andere dagegen den Type ``object`` aufweisen. Da es unser Ziel ist, einen rein numerischen Datensatz zu erzeugen, müssen wir die nicht-numerischen Merkmale auf geeignete Art und Weise ersetzen bzw. konvertieren. Um den Überblick zu behalten, legen wir uns daher eine Liste mit allen Namen der zu konvertierenden Spalten an. \n",
    "\n",
    "Hierbei kann uns eine weitere Indizierungsart von ``DataFrame`` helfen: Indizierung mit einem booleschen Array. Dabei erzeugen wir ein Array von booleschen Werten, dessen Länge der Anzahl der zu indizierenden Dimension hat. Dabei steht ``True`` dafür, den Index im Aufruf zu berücksichtigen und ``False`` für die Unterdrückung des Index.\n",
    "\n",
    "```python\n",
    "some_dataFrame_with_three_columns.loc[:,[True, True, False]] # Gibt die ersten zwei Spalten des dreispaltigen DataFrame zurück\n",
    "```\n",
    "\n",
    "Dieses Array können Sie für gut lesbaren Code auch direkt im Aufruf berechnen, z.B. durch relationale Operatoren (``<>==``).\n",
    "\n",
    "Probieren Sie es gleich mal aus. Lesen Sie dazu zunächst das Attribut des ``DataFrame`` mit den Spaltentiteln aus (``.columns``). Legen Sie dann nur die Titel, für die das Attribut ``.dtypes`` den Wert ``'object'`` hat als Liste (Umwandlung mit ``list()``) ab.\n"
   ]
  },
  {
   "cell_type": "code",
   "execution_count": 7,
   "metadata": {},
   "outputs": [
    {
     "data": {
      "text/plain": [
       "['ages',\n",
       " 'prod_desc',\n",
       " 'prod_long_desc',\n",
       " 'review_difficulty',\n",
       " 'set_name',\n",
       " 'theme_name',\n",
       " 'country']"
      ]
     },
     "execution_count": 7,
     "metadata": {},
     "output_type": "execute_result"
    }
   ],
   "source": [
    "# Auslesen der Spaltentitel\n",
    "list(data.loc[:,data.dtypes == 'object'].columns)"
   ]
  },
  {
   "cell_type": "markdown",
   "metadata": {
    "editable": false
   },
   "source": [
    "Neben ungeeigneten Typen können auch fehlende Einträge im Datensatz die nachfolgende Vearbeitung verhindern. Daher interessiert uns als nächstes, ob und wo Einträge fehlen. Pandas stellt dazu die Methode ``isna()`` bereit, die für fehlende Einträge ``True`` und für existierende Einträge ``False`` zurückgibt. Mit der Methode ``any()`` kann dann geprüft werden, ob in einer Spalte irgendwo ein Wert fehlt:\n",
    "\n",
    "```python\n",
    "some_dataFrame.isna().any()\n",
    "```"
   ]
  },
  {
   "cell_type": "code",
   "execution_count": 8,
   "metadata": {},
   "outputs": [
    {
     "data": {
      "text/plain": [
       "ages                 False\n",
       "list_price           False\n",
       "num_reviews           True\n",
       "piece_count          False\n",
       "play_star_rating      True\n",
       "prod_desc             True\n",
       "prod_id              False\n",
       "prod_long_desc       False\n",
       "review_difficulty     True\n",
       "set_name             False\n",
       "star_rating           True\n",
       "theme_name            True\n",
       "val_star_rating       True\n",
       "country              False\n",
       "dtype: bool"
      ]
     },
     "execution_count": 8,
     "metadata": {},
     "output_type": "execute_result"
    }
   ],
   "source": [
    "# Finden Sie die Spalten, in denen Werte fehlen.\n",
    "data.isna().any()"
   ]
  },
  {
   "cell_type": "markdown",
   "metadata": {
    "editable": false
   },
   "source": [
    "Wenn in einer Spalte nur wenige Werte fehlen, können Sie möglicherweise sinnvoll aufgefüllt werden (siehe <a href=\"#clean_data\">Daten säubern</a>). Wenn allerdings sehr viele Daten fehlen, muss eventuell die ganze Spalte entfernt werden. Mit der Methode ``count()`` können alle vorhandenen Einträge jeder Spalte gezählt werden.\n",
    "\n",
    "```python\n",
    "some_dataFrame.count()\n",
    "```"
   ]
  },
  {
   "cell_type": "code",
   "execution_count": 9,
   "metadata": {},
   "outputs": [
    {
     "data": {
      "text/plain": [
       "ages                 12261\n",
       "list_price           12261\n",
       "num_reviews          10641\n",
       "piece_count          12261\n",
       "play_star_rating     10486\n",
       "prod_desc            11884\n",
       "prod_id              12261\n",
       "prod_long_desc       12261\n",
       "review_difficulty    10206\n",
       "set_name             12261\n",
       "star_rating          10641\n",
       "theme_name           12258\n",
       "val_star_rating      10466\n",
       "country              12261\n",
       "dtype: int64"
      ]
     },
     "execution_count": 9,
     "metadata": {},
     "output_type": "execute_result"
    }
   ],
   "source": [
    "# Geben Sie die Zahl der in jeder Spalte vorhandenen Einträge zurück\n",
    "data.count()"
   ]
  },
  {
   "cell_type": "markdown",
   "metadata": {
    "editable": false
   },
   "source": [
    "Setzen Sie die Zahlen nun ins Verhältnis zur Gesamtzahl der Einträge. Dazu können Sie mit dem Attribut ``shape`` zunächst ein [Tupel](https://docs.python.org/3/tutorial/datastructures.html#tuples-and-sequences) mit der Anzahl der Reihen und Spalten erzeugen."
   ]
  },
  {
   "cell_type": "code",
   "execution_count": 10,
   "metadata": {},
   "outputs": [
    {
     "data": {
      "text/plain": [
       "ages                 1.000000\n",
       "list_price           1.000000\n",
       "num_reviews          0.867874\n",
       "piece_count          1.000000\n",
       "play_star_rating     0.855232\n",
       "prod_desc            0.969252\n",
       "prod_id              1.000000\n",
       "prod_long_desc       1.000000\n",
       "review_difficulty    0.832395\n",
       "set_name             1.000000\n",
       "star_rating          0.867874\n",
       "theme_name           0.999755\n",
       "val_star_rating      0.853601\n",
       "country              1.000000\n",
       "dtype: float64"
      ]
     },
     "execution_count": 10,
     "metadata": {},
     "output_type": "execute_result"
    }
   ],
   "source": [
    "# Geben Sie den relativen Anteil der vorhandenen Einträge in jeder Spalte zurück\n",
    "data.count() / data.shape[0]"
   ]
  },
  {
   "cell_type": "markdown",
   "metadata": {
    "editable": false
   },
   "source": [
    "Selbst die Spalte mit den meisten fehlenden Einträgen bringt es demnach noch auf über 80 % vorhandener Einträge, was das Einfüllen der Werte ([Imputation](https://de.wikipedia.org/wiki/Imputation_(Statistik))) noch sinnvoll erscheinen lässt. Diese Entscheidung muss allerdings in jedem konkreten Problem neu abgewogen werden und hier können auch keine allgemein gültigen Richtwerte angegeben werden.\n",
    "\n",
    "Für unsere Zwecke gehen wir nun aber davon aus, dass in jeder Spalte genügend Daten vorhanden sind. Im nächsten Abschnitt werden wir nun die oben identifizierten nicht-numerischen Spalten konvertieren und die fehlenden Werte einfüllen."
   ]
  },
  {
   "cell_type": "markdown",
   "metadata": {
    "editable": false
   },
   "source": [
    "---"
   ]
  },
  {
   "cell_type": "markdown",
   "metadata": {
    "editable": false
   },
   "source": [
    "<a id=\"clean_data\"></a><div><img src=\"Images/IMG-broom.png\" style=\"float:left\"> <h2 style=\"position: relative; top: 6px\">3. Daten säubern</h2>"
   ]
  },
  {
   "cell_type": "markdown",
   "metadata": {},
   "source": [
    "Wie bereits oben beschrieben setzen die meisten maschinellen Lernverfahren lückenlose numerische Eingangsdaten voraus. Daher beginnen wir die Datenaufarbeitung zunächst mit der Konvertierung aller nicht-numerischen Spalten. Anschließend werden wir die oben identifizierten fehlenden Einträge auf möglichst geschickte Art und Weise auffüllen.\n",
    "\n",
    "__Achtung:__ Natürlich ist das Auffüllen von fehlenden Einträgen ein Eingriff und Sie __verfälschen damit die Daten!__ Trotzdem kann das eine legitime Vorgehensweise sein, wenn nicht zu viele Elemente fehlen. Eine feste Größe, was als zu viel gilt, lässt sich hier nicht angeben. Grundsätzlich sollten Sie allerdings Ihre auf aufgefüllten Daten trainierten __Modelle immer nur auf vollständigen Daten validieren und testen!__ "
   ]
  },
  {
   "cell_type": "markdown",
   "metadata": {
    "editable": false
   },
   "source": [
    "<h3> 3.1 Nicht-numerische Merkmale</h3>"
   ]
  },
  {
   "cell_type": "markdown",
   "metadata": {
    "editable": false
   },
   "source": [
    "Wie oben bereits festgestellt, müssen wir die Daten einiger Spalten in Zahlenwerte konvertieren. Für dieses Problem gibt es kein allgemeingültiges Rezept, sondern es muss im Einzelfall überlegt werden, welche Konvertierung sinnvoll erscheint. Daher bearbeiten wir im folgenden jede Spalte einzeln."
   ]
  },
  {
   "cell_type": "markdown",
   "metadata": {
    "editable": false
   },
   "source": [
    "<h4>3.1.1 Alter</h4>"
   ]
  },
  {
   "cell_type": "markdown",
   "metadata": {
    "editable": false
   },
   "source": [
    "Die Spalte ``ages`` besitzt den ``dtype`` ``'object'``. Das überrascht zunächst, schließlich sollte sich das Alter doch leicht numerisch kodieren lassen. Werfen wir daher nochmal einen Blick auf die ersten paar Einträge der Spalte:"
   ]
  },
  {
   "cell_type": "code",
   "execution_count": 11,
   "metadata": {},
   "outputs": [
    {
     "data": {
      "text/plain": [
       "0    6-12\n",
       "1    6-12\n",
       "2    6-12\n",
       "3     12+\n",
       "4     12+\n",
       "Name: ages, dtype: object"
      ]
     },
     "execution_count": 11,
     "metadata": {},
     "output_type": "execute_result"
    }
   ],
   "source": [
    "# Geben Sie den Kopf der Spalte 'ages' aus\n",
    "data['ages'].head()"
   ]
  },
  {
   "cell_type": "markdown",
   "metadata": {
    "editable": false
   },
   "source": [
    "Ihnen fällt sicherlich auf, dass Lego das Alter branchenüblich als Intervalle angibt. Dabei verwendet der Datensatz offenbar Zeichenketten verschiedener Formate, da schon im Kopf zwei verschiedene zu sehen sind. Wie viele einzigartige Werte es gibt, kann durch die Methode ``unique()`` ausgegeben werden:\n",
    "\n",
    "```python\n",
    "some_dataFrame.unique()\n",
    "```"
   ]
  },
  {
   "cell_type": "code",
   "execution_count": 12,
   "metadata": {},
   "outputs": [
    {
     "data": {
      "text/plain": [
       "array(['6-12', '12+', '7-12', '10+', '5-12', '8-12', '4-7', '4-99', '4+',\n",
       "       '9-12', '16+', '14+', '9-14', '7-14', '8-14', '6+', '2-5', '1½-3',\n",
       "       '1½-5', '9+', '5-8', '10-21', '8+', '6-14', '5+', '10-16', '10-14',\n",
       "       '11-16', '12-16', '9-16', '7+'], dtype=object)"
      ]
     },
     "execution_count": 12,
     "metadata": {},
     "output_type": "execute_result"
    }
   ],
   "source": [
    "# Geben Sie die möglichen Wert der Spalte 'ages' aus\n",
    "data['ages'].unique()"
   ]
  },
  {
   "cell_type": "markdown",
   "metadata": {
    "editable": false
   },
   "source": [
    "Wir sehen, dass das Format der Altersangabe entweder ein Mindest- _und_ ein Maximalalter beinhaltet oder _nur_ ein Mindestalter. Es bietet sich daher hier an, die Spalte ``'ages'`` durch zwei neue Spalten ``'age_min'`` und ``'age_max'`` zu ersetzen. \n",
    "\n",
    "Dabei ist jedoch noch problematisch, dass bei manchen Angaben das Maximalalter fehlt. Wir können allerdings den (ebenfalls branchentypischen) globalen Maximalwert von ``99`` hier einfüllen. Damit greifen wir also eigentlich schon vor und machen unsere erste Imputation: wir ersetzen einen fehlenden Wert durch einen statistisch gefundenen Wert: das Maximum.\n",
    "\n",
    "Ein weiteres Hindernis bei der weiteren Verarbeitung ist die Notation ``'½'``. Wir wollen daher auch diese Zeichenkennte ersetzen. __Achtung:__ ``½`` ist nicht die gleiche Zeichenkette wie ``1/2``.\n",
    "\n",
    "Wir möchten also in jedem String einer Spalte eine Zeichenkette mit einer anderen ersetzen. Das geht in pandas sehr einfach:\n",
    "\n",
    "```python\n",
    "some_dataFrame['column_label'] = some_dataFrame['column_label'].str.replace('old_string', 'new_string')\n",
    "```"
   ]
  },
  {
   "cell_type": "code",
   "execution_count": 13,
   "metadata": {},
   "outputs": [],
   "source": [
    "# Ersetzen Sie in der Spalte 'ages' die Zeichenkette '+' mit der Zeichenkette '-99'\n",
    "data['ages'] = data['ages'].str.replace('+','-99')\n",
    "# Ersetzen Sie außerdem in der Spalte 'ages' die Zeichenkette '½' mit der Zeichenkette '.5'\n",
    "data['ages'] = data['ages'].str.replace('½','.5')"
   ]
  },
  {
   "cell_type": "markdown",
   "metadata": {
    "editable": false
   },
   "source": [
    "Jetzt haben alle Zeichenkette das gleiche Format und wir können die neuen Spalten ``'age_min'`` und ``'age_max'`` erschaffen, in dem wir die Strings in ``'ages'`` am Zeichen ``-`` aufteilen. Zum Trennen einer Zeichenkette an einem bestimmten Trennzeichen stellt pandas ``.str.split()`` bereit.\n",
    "\n",
    "```python\n",
    "split_string = some_dataFrame['column_label'].str.split('string_to_split_on', expand=True)\n",
    "```\n",
    "\n",
    "__Hinweis:__ Wenn das Argument ``expand`` nicht auf ``True`` gesetzt wird, gibt die Methode die gefundenen Teilstrings als Reihe von Tupeln zurück, was für die weitere Verarbeitung hier nicht optimal ist."
   ]
  },
  {
   "cell_type": "code",
   "execution_count": 14,
   "metadata": {},
   "outputs": [],
   "source": [
    "# Trennen Sie die Werte in 'ages' am Bindestrich '-',\n",
    "split_string = data['ages'].str.split('-', expand=True)\n",
    "# und speichern Sie das erste Element in der Spalte 'age_min' \n",
    "data['age_min'] = split_string[0]\n",
    "# und das zweite ELement in der Spalte 'age_max'\n",
    "data['age_max'] = split_string[1]"
   ]
  },
  {
   "cell_type": "markdown",
   "metadata": {
    "editable": false
   },
   "source": [
    "Da wir nun alle Information aus der Spalte ``'ages'`` verarbeitet haben, können wir die Spalte aus dem Datensatz streichen. Hierzu können wir die Methode ``drop()`` verwenden. Mit dem Argument ``inplace=True`` wird die Spalte direkt im Datensatz gelöscht und nicht nur eine Kopie des Datensatzes ohne die Spalte zurückgegeben.\n",
    "\n",
    "```python\n",
    "some_dataFrame.drop(columns=['column_to_drop'], inplace=True)\n",
    "```"
   ]
  },
  {
   "cell_type": "code",
   "execution_count": 15,
   "metadata": {},
   "outputs": [],
   "source": [
    "# Löschen Sie die nun überflüssige Spalte 'ages' aus dem Datensatz\n",
    "data.drop(columns=['ages'],inplace=True)"
   ]
  },
  {
   "cell_type": "markdown",
   "metadata": {
    "editable": false
   },
   "source": [
    "Zum Schluss müssen wir noch die neuen Spalten in numerische Datentypen umwandeln. Beachten Sie, dass wir zwar bereits Zahlenwerte in den Spalten stehen haben, diese aber noch als Zeichenketten repräsentiert sind. Wir können mit Hilfe von ``astype()`` leicht eine Typkonvertierung vornehmen.\n",
    "\n",
    "```python\n",
    "some_dataFrame['column_of_some_dtype'].astype('new_dtype')\n",
    "```\n",
    "\n",
    "Wie die Typkonvertierung genau passiert, entnehmen Sie bitte der Dokumentation der Methode [astype()](https://pandas.pydata.org/pandas-docs/stable/reference/api/pandas.DataFrame.astype.html)."
   ]
  },
  {
   "cell_type": "code",
   "execution_count": 16,
   "metadata": {},
   "outputs": [
    {
     "data": {
      "text/html": [
       "<div>\n",
       "<style scoped>\n",
       "    .dataframe tbody tr th:only-of-type {\n",
       "        vertical-align: middle;\n",
       "    }\n",
       "\n",
       "    .dataframe tbody tr th {\n",
       "        vertical-align: top;\n",
       "    }\n",
       "\n",
       "    .dataframe thead th {\n",
       "        text-align: right;\n",
       "    }\n",
       "</style>\n",
       "<table border=\"1\" class=\"dataframe\">\n",
       "  <thead>\n",
       "    <tr style=\"text-align: right;\">\n",
       "      <th></th>\n",
       "      <th>age_min</th>\n",
       "      <th>age_max</th>\n",
       "    </tr>\n",
       "  </thead>\n",
       "  <tbody>\n",
       "    <tr>\n",
       "      <th>0</th>\n",
       "      <td>6.0</td>\n",
       "      <td>12.0</td>\n",
       "    </tr>\n",
       "    <tr>\n",
       "      <th>1</th>\n",
       "      <td>6.0</td>\n",
       "      <td>12.0</td>\n",
       "    </tr>\n",
       "    <tr>\n",
       "      <th>2</th>\n",
       "      <td>6.0</td>\n",
       "      <td>12.0</td>\n",
       "    </tr>\n",
       "    <tr>\n",
       "      <th>3</th>\n",
       "      <td>12.0</td>\n",
       "      <td>99.0</td>\n",
       "    </tr>\n",
       "    <tr>\n",
       "      <th>4</th>\n",
       "      <td>12.0</td>\n",
       "      <td>99.0</td>\n",
       "    </tr>\n",
       "    <tr>\n",
       "      <th>...</th>\n",
       "      <td>...</td>\n",
       "      <td>...</td>\n",
       "    </tr>\n",
       "    <tr>\n",
       "      <th>12256</th>\n",
       "      <td>7.0</td>\n",
       "      <td>14.0</td>\n",
       "    </tr>\n",
       "    <tr>\n",
       "      <th>12257</th>\n",
       "      <td>7.0</td>\n",
       "      <td>14.0</td>\n",
       "    </tr>\n",
       "    <tr>\n",
       "      <th>12258</th>\n",
       "      <td>7.0</td>\n",
       "      <td>14.0</td>\n",
       "    </tr>\n",
       "    <tr>\n",
       "      <th>12259</th>\n",
       "      <td>6.0</td>\n",
       "      <td>14.0</td>\n",
       "    </tr>\n",
       "    <tr>\n",
       "      <th>12260</th>\n",
       "      <td>6.0</td>\n",
       "      <td>14.0</td>\n",
       "    </tr>\n",
       "  </tbody>\n",
       "</table>\n",
       "<p>12261 rows × 2 columns</p>\n",
       "</div>"
      ],
      "text/plain": [
       "       age_min  age_max\n",
       "0          6.0     12.0\n",
       "1          6.0     12.0\n",
       "2          6.0     12.0\n",
       "3         12.0     99.0\n",
       "4         12.0     99.0\n",
       "...        ...      ...\n",
       "12256      7.0     14.0\n",
       "12257      7.0     14.0\n",
       "12258      7.0     14.0\n",
       "12259      6.0     14.0\n",
       "12260      6.0     14.0\n",
       "\n",
       "[12261 rows x 2 columns]"
      ]
     },
     "execution_count": 16,
     "metadata": {},
     "output_type": "execute_result"
    }
   ],
   "source": [
    "# Wandeln Sie die Einträge der Spalten 'age_min' und 'age_max' in den Datentyp 'float32' um\n",
    "data[['age_min','age_max']].astype('float32')"
   ]
  },
  {
   "cell_type": "markdown",
   "metadata": {
    "editable": false
   },
   "source": [
    "#### 3.1.2 Schwierigkeitsgrad"
   ]
  },
  {
   "cell_type": "markdown",
   "metadata": {},
   "source": [
    "Der Schwierigkeitsgrad ist in der Spalte ``'review_difficulty'`` abgelegt. Lassen Sie sich die einzigartigen Einträge dieser Spalte anzeigen (siehe oben)."
   ]
  },
  {
   "cell_type": "code",
   "execution_count": 17,
   "metadata": {},
   "outputs": [
    {
     "data": {
      "text/plain": [
       "array(['Average', 'Easy', 'Challenging', 'Very Easy', nan,\n",
       "       'Very Challenging'], dtype=object)"
      ]
     },
     "execution_count": 17,
     "metadata": {},
     "output_type": "execute_result"
    }
   ],
   "source": [
    "# Zeige einzigartige Einträge in 'review_difficulty'\n",
    "data['review_difficulty'].unique()"
   ]
  },
  {
   "cell_type": "markdown",
   "metadata": {
    "editable": false
   },
   "source": [
    "Wir stellen fest, dass der Schwierigkeitsgrad zwar nicht direkt numerisch kodiert ist, aber auf einer fünfstufigen [Ordinalskala](https://de.wikipedia.org/wiki/Ordinalskala) basiert. Außerdem fehlen offenbar einige Einträge, da auch ``nan`` in der Liste dabei ist.\n",
    "\n",
    "Der Schwierigkeitsgrade könnte demnach auch auf einer Skala von 1 bis 5 abgebildet werden, wobei 'Very Easy' auf 1 und 'Very Challenging' auf 5 abgebildet werden sollte, damit 'Very Easy' < 'Very Challenging' gilt.\n",
    "\n",
    "Diese Abbildung können wir leicht mithilfe von ``map()`` vornehmen, die allerdings nur für Objekte vom Typ ```Series``` existiert. Jede Spalte eines ```DataFrame``` Objekt ist jedoch auch ein ```Series```-Objekt. Damit geht folgendes:\n",
    "\n",
    "````python\n",
    "some_dataFrame['column_name'] = some_dataFrame['column_name'].map({'key1': 'value1', 'key2': 'value2'}, na_action='ignore')\n",
    "````\n",
    "__Hinweis:__ Da wir die fehlenden Werte (``na``) noch nicht eingefüllt haben, sollte das Argument ``na_action='ignore'`` gesetzt werden, damit die ``na`` Werte einfach durchgereicht werden."
   ]
  },
  {
   "cell_type": "code",
   "execution_count": 18,
   "metadata": {},
   "outputs": [],
   "source": [
    "# Legen Sie die Reihenfolge der Schwierigkeitgrade fest\n",
    "reihenfolge = {'Very Easy':1,'Easy':2,'Average':3,'Challenging':4,'Very Challenging':5}\n",
    "# Bilden Sie strings auf die Zahlenwerte ab\n",
    "data['review_difficulty'] = data['review_difficulty'].map(reihenfolge,na_action='ignore')"
   ]
  },
  {
   "cell_type": "markdown",
   "metadata": {
    "editable": false
   },
   "source": [
    "Die fehlenden Einträge könnten bereits jetzt eingefüllt werden. So könnte zum Beispiel für alle fehlenden Einträge der Schwierigkeitsgrade ``'Average'`` angenommen werden. Oder man könnte den tatsächlichen, numerischen Durschnitt oder den häufigsten Wert verwenden. Es ist allerdings wahrscheinlich, dass der Schwierigkeitsgrad auch von anderen Spalten wie der Altersangabe oder der Anzahl der Teile abhängt. Daher werden die fehlenden Einträge sinnvoller Weise erst später eingefügt."
   ]
  },
  {
   "cell_type": "markdown",
   "metadata": {
    "editable": false
   },
   "source": [
    "#### 3.1.3 Ländercode "
   ]
  },
  {
   "cell_type": "markdown",
   "metadata": {
    "editable": false
   },
   "source": [
    "Schauen Sie sich die Werte an, die in der Spalte ``'country'`` auftreten."
   ]
  },
  {
   "cell_type": "code",
   "execution_count": 21,
   "metadata": {},
   "outputs": [
    {
     "data": {
      "text/plain": [
       "dtype('O')"
      ]
     },
     "execution_count": 21,
     "metadata": {},
     "output_type": "execute_result"
    }
   ],
   "source": [
    "# Zeige einzigartige Einträge in 'country'\n",
    "data['country'].unique()\n",
    "data['country'].dtypes"
   ]
  },
  {
   "cell_type": "markdown",
   "metadata": {
    "editable": false
   },
   "source": [
    "Ähnlich wie beim Schwierigkeitsgrad haben wir auch hier nur eine begrenzte Anzahl von Werte vertreten. Allerdings kann bei den Ländercodes keine sinnvolle, numerische Reihenfolge festgelegt werden. Stattdessen kann man durch sogenannte [Dummy-Variablen](https://de.wikipedia.org/wiki/Dummy-Variable) die Zugehörigkeit zu dem jeweiligen Land binär signalisieren.\n",
    "\n",
    "Pandas bietet hierfür die Funktion ``get_dummies()`` an, die die Kodierung enorm einfach gestaltet:\n",
    "\n",
    "```python\n",
    "dummy_variables = some_dataFrame['column_name'].str.get_dummies()\n",
    "```\n",
    "\n",
    "__Hinweis:__ Die Dummy-Variablen können dann mit Hilfe von [concat()](https://pandas.pydata.org/pandas-docs/stable/reference/api/pandas.concat.html) an den Datensatz angehängt werden. Achten Sie darauf, die _Spalten_ zu verketten!"
   ]
  },
  {
   "cell_type": "code",
   "execution_count": 26,
   "metadata": {},
   "outputs": [],
   "source": [
    "# Dummy-Variablen berechnen\n",
    "dummy_variables = data['country'].str.get_dummies()\n",
    "# An Datensatz anhängen\n",
    "pd.concat([data,dummy_variables]) \n",
    "# Spalte 'country' streichen\n",
    "data.drop(columns=['country'],inplace=True)"
   ]
  },
  {
   "cell_type": "markdown",
   "metadata": {
    "editable": false
   },
   "source": [
    "#### 3.1.4 Name des Sets"
   ]
  },
  {
   "cell_type": "markdown",
   "metadata": {
    "editable": false
   },
   "source": [
    "Der Name des Sets stellt eine besondere Herausforderung dar, da fast jedes Set einen eigenen Namen hat. Diese Variable mit Dummy-Variablen zu kodieren würde daher die Anzahl der Variablen enorm vergrößern, was für die meisten Modelle, die mit diesen Daten arbeiten sollen, sehr ungünstig ist ([Fluch der Dimensionalität](https://de.wikipedia.org/wiki/Fluch_der_Dimensionalit%C3%A4t)). Daher sollte diese Spalte als ungeordnete, kategoriale Variable kodiert werden. Hierfür gibt es in pandas den Datentyp ``category``, zu dem wir ganz einfach konvertieren können:\n",
    "\n",
    "```python\n",
    "categorical_column = some_dataFrame['non_categorical_column'].astype('category')\n",
    "```\n",
    "\n",
    "Die kategoriale Variable kann dann wiederum in einen numerischen Typ gewandelt werden, indem wir uns den Code ausgeben lassen, der jeder Stufe der Variable zugewiesen wird:\n",
    "\n",
    "```python\n",
    "numerical_categorical_column = categorical_column.cat.codes\n",
    "```\n",
    "\n",
    "__Achtung:__ Durch diese Kodierung wird eine Rangfolge der Kategorien impliziert, die aber faktisch nicht begründbar ist."
   ]
  },
  {
   "cell_type": "code",
   "execution_count": 27,
   "metadata": {},
   "outputs": [],
   "source": [
    "# Wandeln Sie die Spalte 'set_name' in eine kategorische Variable um\n",
    "data['set_name']  = data['set_name'].astype('category')\n",
    "# Weisen Sie der Spalte 'set_name' die Codes der Kategorien der Variable zu\n",
    "data['set_name'] = data['set_name'].cat.codes"
   ]
  },
  {
   "cell_type": "markdown",
   "metadata": {
    "editable": false
   },
   "source": [
    "#### 3.1.4 Name des Themas\n",
    "Auch bei der Spalte ``'theme_name'`` gibt es viele verschiedene einzigartige Werte, wenn auch nicht ganz so viele wie im Falle von ``'set_name'``. Eine Kodierung mit Dummy-Variablen kann hier den Merkmalraum bereits verhängnisvoll vergrößern. Tatsächlich sollte man in einem solchen Grenzfall die Performance der zu trainierenden Modell mit Dummy-Kodierung und kategorialer Kodierung vergleichen, um eine Entscheidung zu treffen. Da uns das hier nicht möglich ist, gehen wir einfach davon aus, dass die Dummy-Kodierung den Merkmalraum noch nicht zu hochdimensional werden lässt."
   ]
  },
  {
   "cell_type": "code",
   "execution_count": 22,
   "metadata": {},
   "outputs": [
    {
     "data": {
      "text/plain": [
       "dtype('int8')"
      ]
     },
     "execution_count": 22,
     "metadata": {},
     "output_type": "execute_result"
    }
   ],
   "source": [
    "# Führen Sie die Dummy-Kodierung für 'theme_name' wie oben beschrieben durch\n",
    "data['theme_name']  = data['theme_name'].astype('category')\n",
    "data['theme_name'] = data['theme_name'].cat.codes\n",
    "data['theme_name'].dtypes"
   ]
  },
  {
   "cell_type": "markdown",
   "metadata": {
    "editable": false
   },
   "source": [
    "#### 3.1.5 Produktbeschreibungen\n",
    "Die Produktbeschreibungen ``prod_desc`` und ``prod_long_desc`` liegen als Fließtext vor und stellen damit eine besondere Herausforderung dar. Schauen wir uns einige Beschreibungen zunächst mal an. Dabei empfiehlt es sich, nicht die ersten oder letzten paar Einträge auszuwählen, sonder eine zufällige Auswahl zu treffen. Pandas bietet dazu die Methode ``.sample()``:\n",
    "\n",
    "```python\n",
    "some_dataFrame.sample(number_of_samples)\n",
    "```"
   ]
  },
  {
   "cell_type": "code",
   "execution_count": 29,
   "metadata": {},
   "outputs": [
    {
     "data": {
      "text/html": [
       "<div>\n",
       "<style scoped>\n",
       "    .dataframe tbody tr th:only-of-type {\n",
       "        vertical-align: middle;\n",
       "    }\n",
       "\n",
       "    .dataframe tbody tr th {\n",
       "        vertical-align: top;\n",
       "    }\n",
       "\n",
       "    .dataframe thead th {\n",
       "        text-align: right;\n",
       "    }\n",
       "</style>\n",
       "<table border=\"1\" class=\"dataframe\">\n",
       "  <thead>\n",
       "    <tr style=\"text-align: right;\">\n",
       "      <th></th>\n",
       "      <th>list_price</th>\n",
       "      <th>num_reviews</th>\n",
       "      <th>piece_count</th>\n",
       "      <th>play_star_rating</th>\n",
       "      <th>prod_desc</th>\n",
       "      <th>prod_id</th>\n",
       "      <th>prod_long_desc</th>\n",
       "      <th>review_difficulty</th>\n",
       "      <th>set_name</th>\n",
       "      <th>star_rating</th>\n",
       "      <th>theme_name</th>\n",
       "      <th>val_star_rating</th>\n",
       "      <th>age_min</th>\n",
       "      <th>age_max</th>\n",
       "    </tr>\n",
       "  </thead>\n",
       "  <tbody>\n",
       "    <tr>\n",
       "      <th>4899</th>\n",
       "      <td>109.7878</td>\n",
       "      <td>71.0</td>\n",
       "      <td>717.0</td>\n",
       "      <td>4.7</td>\n",
       "      <td>Go on daring missions with Poe's X-Wing Fighter!</td>\n",
       "      <td>75102.0</td>\n",
       "      <td>Battle the forces of the First Order with Poe'...</td>\n",
       "      <td>3.0</td>\n",
       "      <td>488</td>\n",
       "      <td>4.7</td>\n",
       "      <td>34</td>\n",
       "      <td>4.1</td>\n",
       "      <td>8</td>\n",
       "      <td>14</td>\n",
       "    </tr>\n",
       "    <tr>\n",
       "      <th>3582</th>\n",
       "      <td>12.1380</td>\n",
       "      <td>2.0</td>\n",
       "      <td>15.0</td>\n",
       "      <td>5.0</td>\n",
       "      <td>Play all day with the cute LEGO® DUPLO® Family...</td>\n",
       "      <td>10838.0</td>\n",
       "      <td>Take a trip to the park to play with all the F...</td>\n",
       "      <td>1.0</td>\n",
       "      <td>201</td>\n",
       "      <td>5.0</td>\n",
       "      <td>13</td>\n",
       "      <td>5.0</td>\n",
       "      <td>2</td>\n",
       "      <td>5</td>\n",
       "    </tr>\n",
       "    <tr>\n",
       "      <th>1842</th>\n",
       "      <td>243.9878</td>\n",
       "      <td>87.0</td>\n",
       "      <td>1703.0</td>\n",
       "      <td>3.3</td>\n",
       "      <td>Build the ultimate LEGO® Snowspeeder!</td>\n",
       "      <td>75144.0</td>\n",
       "      <td>Collect a true Star Wars classic: the T-47 Sno...</td>\n",
       "      <td>4.0</td>\n",
       "      <td>572</td>\n",
       "      <td>4.3</td>\n",
       "      <td>34</td>\n",
       "      <td>4.1</td>\n",
       "      <td>14</td>\n",
       "      <td>99</td>\n",
       "    </tr>\n",
       "    <tr>\n",
       "      <th>1050</th>\n",
       "      <td>13.6724</td>\n",
       "      <td>15.0</td>\n",
       "      <td>1.0</td>\n",
       "      <td>4.4</td>\n",
       "      <td>Start creations here!</td>\n",
       "      <td>2304.0</td>\n",
       "      <td>Even big imaginations need a place to start--a...</td>\n",
       "      <td>2.0</td>\n",
       "      <td>259</td>\n",
       "      <td>4.0</td>\n",
       "      <td>13</td>\n",
       "      <td>3.3</td>\n",
       "      <td>1.5</td>\n",
       "      <td>5</td>\n",
       "    </tr>\n",
       "    <tr>\n",
       "      <th>4749</th>\n",
       "      <td>12.1878</td>\n",
       "      <td>3.0</td>\n",
       "      <td>62.0</td>\n",
       "      <td>4.3</td>\n",
       "      <td>Take a break at the junkyard with Disney•Pixar...</td>\n",
       "      <td>10733.0</td>\n",
       "      <td>Join Mater in his Easy to Build junkyard as he...</td>\n",
       "      <td>2.0</td>\n",
       "      <td>381</td>\n",
       "      <td>4.7</td>\n",
       "      <td>21</td>\n",
       "      <td>5.0</td>\n",
       "      <td>4</td>\n",
       "      <td>7</td>\n",
       "    </tr>\n",
       "    <tr>\n",
       "      <th>1811</th>\n",
       "      <td>12.1878</td>\n",
       "      <td>NaN</td>\n",
       "      <td>69.0</td>\n",
       "      <td>NaN</td>\n",
       "      <td>Create the coolest Spinjitzu tricks with the I...</td>\n",
       "      <td>70636.0</td>\n",
       "      <td>Build, rip and spin into action with the LEGO®...</td>\n",
       "      <td>NaN</td>\n",
       "      <td>737</td>\n",
       "      <td>NaN</td>\n",
       "      <td>29</td>\n",
       "      <td>NaN</td>\n",
       "      <td>6</td>\n",
       "      <td>14</td>\n",
       "    </tr>\n",
       "    <tr>\n",
       "      <th>8036</th>\n",
       "      <td>36.5878</td>\n",
       "      <td>NaN</td>\n",
       "      <td>38.0</td>\n",
       "      <td>NaN</td>\n",
       "      <td>Help Spider-Man and Hulk fight Sandman at Aven...</td>\n",
       "      <td>10876.0</td>\n",
       "      <td>Little superheroes will love to create endless...</td>\n",
       "      <td>NaN</td>\n",
       "      <td>578</td>\n",
       "      <td>NaN</td>\n",
       "      <td>13</td>\n",
       "      <td>NaN</td>\n",
       "      <td>2</td>\n",
       "      <td>5</td>\n",
       "    </tr>\n",
       "    <tr>\n",
       "      <th>4535</th>\n",
       "      <td>12.1878</td>\n",
       "      <td>NaN</td>\n",
       "      <td>73.0</td>\n",
       "      <td>NaN</td>\n",
       "      <td>Grab your shovel and get to work!</td>\n",
       "      <td>10750.0</td>\n",
       "      <td>Join the LEGO® City roadwork crew and take car...</td>\n",
       "      <td>NaN</td>\n",
       "      <td>530</td>\n",
       "      <td>NaN</td>\n",
       "      <td>21</td>\n",
       "      <td>NaN</td>\n",
       "      <td>4</td>\n",
       "      <td>7</td>\n",
       "    </tr>\n",
       "    <tr>\n",
       "      <th>5829</th>\n",
       "      <td>36.5878</td>\n",
       "      <td>2.0</td>\n",
       "      <td>307.0</td>\n",
       "      <td>5.0</td>\n",
       "      <td>Glide across the ice and show off your skills!</td>\n",
       "      <td>41322.0</td>\n",
       "      <td>Take to the ice with the LEGO® Friends Snow Re...</td>\n",
       "      <td>3.0</td>\n",
       "      <td>569</td>\n",
       "      <td>4.5</td>\n",
       "      <td>17</td>\n",
       "      <td>4.5</td>\n",
       "      <td>6</td>\n",
       "      <td>12</td>\n",
       "    </tr>\n",
       "    <tr>\n",
       "      <th>1173</th>\n",
       "      <td>34.1924</td>\n",
       "      <td>NaN</td>\n",
       "      <td>1.0</td>\n",
       "      <td>NaN</td>\n",
       "      <td>NaN</td>\n",
       "      <td>45505.0</td>\n",
       "      <td>The digital EV3 Gyro Sensor measures the robot...</td>\n",
       "      <td>NaN</td>\n",
       "      <td>174</td>\n",
       "      <td>NaN</td>\n",
       "      <td>24</td>\n",
       "      <td>NaN</td>\n",
       "      <td>10</td>\n",
       "      <td>21</td>\n",
       "    </tr>\n",
       "  </tbody>\n",
       "</table>\n",
       "</div>"
      ],
      "text/plain": [
       "      list_price  num_reviews  piece_count  play_star_rating  \\\n",
       "4899    109.7878         71.0        717.0               4.7   \n",
       "3582     12.1380          2.0         15.0               5.0   \n",
       "1842    243.9878         87.0       1703.0               3.3   \n",
       "1050     13.6724         15.0          1.0               4.4   \n",
       "4749     12.1878          3.0         62.0               4.3   \n",
       "1811     12.1878          NaN         69.0               NaN   \n",
       "8036     36.5878          NaN         38.0               NaN   \n",
       "4535     12.1878          NaN         73.0               NaN   \n",
       "5829     36.5878          2.0        307.0               5.0   \n",
       "1173     34.1924          NaN          1.0               NaN   \n",
       "\n",
       "                                              prod_desc  prod_id  \\\n",
       "4899   Go on daring missions with Poe's X-Wing Fighter!  75102.0   \n",
       "3582  Play all day with the cute LEGO® DUPLO® Family...  10838.0   \n",
       "1842              Build the ultimate LEGO® Snowspeeder!  75144.0   \n",
       "1050                              Start creations here!   2304.0   \n",
       "4749  Take a break at the junkyard with Disney•Pixar...  10733.0   \n",
       "1811  Create the coolest Spinjitzu tricks with the I...  70636.0   \n",
       "8036  Help Spider-Man and Hulk fight Sandman at Aven...  10876.0   \n",
       "4535                  Grab your shovel and get to work!  10750.0   \n",
       "5829     Glide across the ice and show off your skills!  41322.0   \n",
       "1173                                                NaN  45505.0   \n",
       "\n",
       "                                         prod_long_desc  review_difficulty  \\\n",
       "4899  Battle the forces of the First Order with Poe'...                3.0   \n",
       "3582  Take a trip to the park to play with all the F...                1.0   \n",
       "1842  Collect a true Star Wars classic: the T-47 Sno...                4.0   \n",
       "1050  Even big imaginations need a place to start--a...                2.0   \n",
       "4749  Join Mater in his Easy to Build junkyard as he...                2.0   \n",
       "1811  Build, rip and spin into action with the LEGO®...                NaN   \n",
       "8036  Little superheroes will love to create endless...                NaN   \n",
       "4535  Join the LEGO® City roadwork crew and take car...                NaN   \n",
       "5829  Take to the ice with the LEGO® Friends Snow Re...                3.0   \n",
       "1173  The digital EV3 Gyro Sensor measures the robot...                NaN   \n",
       "\n",
       "      set_name  star_rating  theme_name  val_star_rating age_min age_max  \n",
       "4899       488          4.7          34              4.1       8      14  \n",
       "3582       201          5.0          13              5.0       2       5  \n",
       "1842       572          4.3          34              4.1      14      99  \n",
       "1050       259          4.0          13              3.3     1.5       5  \n",
       "4749       381          4.7          21              5.0       4       7  \n",
       "1811       737          NaN          29              NaN       6      14  \n",
       "8036       578          NaN          13              NaN       2       5  \n",
       "4535       530          NaN          21              NaN       4       7  \n",
       "5829       569          4.5          17              4.5       6      12  \n",
       "1173       174          NaN          24              NaN      10      21  "
      ]
     },
     "execution_count": 29,
     "metadata": {},
     "output_type": "execute_result"
    }
   ],
   "source": [
    "# Geben Sie 10 zufällige Einträge der Spalte 'prod_desc' aus\n",
    "data.sample(10)"
   ]
  },
  {
   "cell_type": "markdown",
   "metadata": {
    "editable": false
   },
   "source": [
    "Es scheint, dass die kurze Produktbeschreibung keine systematischen Informationen enthält. An dieser Stelle könnte man viele verschiedene Ansätze verfolgen und bspw. eine Analyse der verwendeten Verben und Adjektive vornehmen (mittels Methoden des [Natural Language Processing](https://de.wikipedia.org/wiki/Computerlinguistik)). Für den Rahmen dieses Notebooks führt das aber zu weit und wir beschränken uns stattdessen auf die Anzahl der Wörter in der Kurzbeschreibung. Dazu müssen wir die Strings zunächst an den Leerzeichen auftrennen (siehe oben) und die Anzahl der getrennten Einheiten zählen.\n",
    "\n",
    "Zur Bestimmung der Anzahl der Elemente in einem Objekt bietet Python die built-in Funktion [``len()``](https://docs.python.org/3/library/functions.html#len)."
   ]
  },
  {
   "cell_type": "code",
   "execution_count": 128,
   "metadata": {},
   "outputs": [
    {
     "name": "stdout",
     "output_type": "stream",
     "text": [
      "\n"
     ]
    }
   ],
   "source": [
    "# Spalten Sie die Strings in der Spalte 'prod_desc' am Leerzeichen auf\n",
    "prod_desc = data['prod_desc'].str.split(' ',expand=False)\n",
    "# Bestimmen Sie die Anzahl der Worte (Achtung: Schleife oder besser List Comprehension und Behandlung von NaN (= 0 Wörter) nötig!)\n",
    "prod_desc = prod_desc.replace(numpy.nan,'',regex=True)\n",
    "print(prod_desc[1172])\n",
    "prod_desc = [len(desc) for desc in prod_desc]\n",
    "#print(type(prod_desc))\n",
    "# Ersetzen sie die Spalte 'prod_desc' mit der ermittelten Anzahl\n",
    "data['prod_desc'] = prod_desc"
   ]
  },
  {
   "cell_type": "markdown",
   "metadata": {
    "editable": false
   },
   "source": [
    "Werfen wir nun einen Blick auf die ausführliche Beschreibung:"
   ]
  },
  {
   "cell_type": "code",
   "execution_count": 144,
   "metadata": {},
   "outputs": [
    {
     "data": {
      "text/plain": [
       "11375    10\n",
       "3214      5\n",
       "7130      9\n",
       "11969     8\n",
       "638      12\n",
       "9686     12\n",
       "4167      8\n",
       "49       10\n",
       "4681      9\n",
       "7548      7\n",
       "Name: prod_desc, dtype: int64"
      ]
     },
     "execution_count": 144,
     "metadata": {},
     "output_type": "execute_result"
    }
   ],
   "source": [
    "# Geben Sie 10 zufällige Beispiele aus der Spalte 'prod_long_desc' aus (Achtung: hier ist eine Schleife und print() nötig, um die ganze Beschreibung sehen zu können)\n",
    "data['prod_desc'].sample(10)"
   ]
  },
  {
   "cell_type": "markdown",
   "metadata": {
    "editable": false
   },
   "source": [
    "Auch hier könnten natürlich elaborierte Analysen angesetzt werden. Wir stellen aber auch fest, dass viele Beschreibungen die physischen Abmessungen der Lego Sets beinhalten. Diese könnten leicht numerisch kodiert werden, wenn wir sie aus dem Fließtext extrahieren können. Der Einfachheit halber wollen wir nur die erste in der Beschreibung angegebene Abmessung für jede Dimension berücksichtigen.\n",
    "\n",
    "Um in einem String ein auftretendes Muster (wie z.B. \"<ZAHL><EINHEIT><LEERZEICHEN><DIMENSION>\") zu finden, eignen sich [reguläre Ausdrucke](https://de.wikipedia.org/wiki/Regul%C3%A4rer_Ausdruck). Reguläre Ausdrücke sind ein sehr mächtiges Konzept, das in vielen Programmiersprachen und -frameworks Verwendung findet. Mit einem regulären Ausdruck lassen sich auch komplexe Muster in abstrakter Weise formulieren, so dass Sie dann für einen Vergleich genutzt werden können. Ein ausführlicher Exkurs zu regulären Ausdrücken führt an dieser Stelle allerdings zu weit, weshalb wir die Ausdrücke für die zu findenen Muster bereits vorgegeben haben. Nachdem Sie ein Muster definiert haben, können Sie mit der pandas-Methode ``extract()`` das erste Auftreten des Musters extrahieren:\n",
    "    \n",
    "```python\n",
    "some_dataFrame.str.extract(regularExpression)\n",
    "```\n",
    "__Achtung:__ Da in regulären Ausdrücken viele Sonderzeichen vorkommen, werden sie in Python üblicherweise als [Raw String](https://www.journaldev.com/23598/python-raw-string) (mit einem vorangestellten ``r``) definiert.\n"
   ]
  },
  {
   "cell_type": "code",
   "execution_count": 153,
   "metadata": {},
   "outputs": [],
   "source": [
    "# Verwenden Sie str.extract() und den String r'(?:(?P<high>\\d+)(?:” high))' um die erste Höhenangabe in Inch zu extrahieren\n",
    "high= data['prod_long_desc'].str.extract('(?:(?P<high>\\d+)(?:” high))')\n",
    "# Die Breite finden Sie mit r'(?:(?P<wide>\\d+)(?:” wide))'\n",
    "wide = data['prod_long_desc'].str.extract('(?:(?P<wide>\\d+)(?:” wide))')\n",
    "# Die Länge finden Sie mit r'(?:(?P<long>\\d+)(?:” long))'\n",
    "long =data['prod_long_desc'].str.extract('(?:(?P<long>\\d+)(?:” long))')\n",
    "# Fügen Sie die Dimensionen als neue Spalten 'height', 'width', 'length' in den DataFrame lego_data ein\n",
    "data['height'] = high\n",
    "data['width'] = wide\n",
    "data['length'] =long\n",
    "\n",
    "# Entfernen Sie die Spalte 'prod_long_desc'\n",
    "data.drop(columns=['prod_long_desc'],inplace=True)"
   ]
  },
  {
   "cell_type": "markdown",
   "metadata": {
    "editable": false
   },
   "source": [
    "### 3.2 Fehlende Werte"
   ]
  },
  {
   "cell_type": "markdown",
   "metadata": {
    "editable": false
   },
   "source": [
    "Der Datensatz enthält nun ausschließlich numerische Merkmale. Allerdings sind  nicht in jeder Spalte alle Einträge vorhanden. Viele Algorithmen erwarten aber vollständige Datensätze. Der einfachste Weg, mit fehlenden Werten umzugehen, ist die betreffenden Zeilen oder Spalten einfach zu streichen. Das ist allerdings natürlich mit Informationsverlust verbunden und sollte daher vermieden werden. In diesem Abschnitt werden wir daher verschiedene Methoden verwenden, um die fehlenden Werte aufzufüllen.\n",
    "\n",
    "Schauen wir uns nochmal an, wie viele Werte in jeder Spalte jeweils fehlen (siehe oben)."
   ]
  },
  {
   "cell_type": "code",
   "execution_count": 156,
   "metadata": {},
   "outputs": [
    {
     "data": {
      "text/plain": [
       "ages                    0\n",
       "list_price              0\n",
       "num_reviews          1620\n",
       "piece_count             0\n",
       "play_star_rating     1775\n",
       "prod_desc               0\n",
       "prod_id                 0\n",
       "review_difficulty    2055\n",
       "set_name                0\n",
       "star_rating          1620\n",
       "theme_name              3\n",
       "val_star_rating      1795\n",
       "country                 0\n",
       "height               1935\n",
       "width                2286\n",
       "length               2264\n",
       "dtype: int64"
      ]
     },
     "execution_count": 156,
     "metadata": {},
     "output_type": "execute_result"
    }
   ],
   "source": [
    "# Geben Sie die Anzahl der fehlenden Werte pro Spalte aus\n",
    "data.isnull().sum()"
   ]
  },
  {
   "cell_type": "markdown",
   "metadata": {},
   "source": [
    "Wir stellen fest, dass vor allem die Bewertungen (Rezensionen und Sterne-Bewertungen) unvollständig sind. Ziel des Einfüllens ist es, den Datensatz zu vervollständigen ohne dabei die Verteilung innerhalb der jeweiligen Spalte zu verzerren. Daher ist es sinnvoll, sich die jeweilige Verteilung zunächst zu betrachten, bevor das weitere Vorgehen festgelegt wird.\n",
    "\n",
    "Pandas bietet hierzu die Methode ```.hist()```, mit der Histogramme der Spalten (oder einer Auswahl von Spalten) eines Datenframes angezeigt werden können.\n",
    "\n",
    "```python\n",
    "some_dataFrame[list_of_columns_of_interest].hist()\n",
    "```"
   ]
  },
  {
   "cell_type": "code",
   "execution_count": 165,
   "metadata": {},
   "outputs": [
    {
     "data": {
      "text/plain": [
       "array([[<matplotlib.axes._subplots.AxesSubplot object at 0x7fdeaae4ed50>,\n",
       "        <matplotlib.axes._subplots.AxesSubplot object at 0x7fded8d20390>,\n",
       "        <matplotlib.axes._subplots.AxesSubplot object at 0x7fded8844450>],\n",
       "       [<matplotlib.axes._subplots.AxesSubplot object at 0x7fdee8857710>,\n",
       "        <matplotlib.axes._subplots.AxesSubplot object at 0x7fdea91adbd0>,\n",
       "        <matplotlib.axes._subplots.AxesSubplot object at 0x7fdeaaee6ed0>],\n",
       "       [<matplotlib.axes._subplots.AxesSubplot object at 0x7fdeaac55750>,\n",
       "        <matplotlib.axes._subplots.AxesSubplot object at 0x7fdea828fa50>,\n",
       "        <matplotlib.axes._subplots.AxesSubplot object at 0x7fdeab2e3510>]],\n",
       "      dtype=object)"
      ]
     },
     "execution_count": 165,
     "metadata": {},
     "output_type": "execute_result"
    },
    {
     "data": {
      "image/png": "[encoded data removed]",
      "text/plain": [
       "<Figure size 432x288 with 9 Axes>"
      ]
     },
     "metadata": {
      "needs_background": "light"
     },
     "output_type": "display_data"
    }
   ],
   "source": [
    "# Geben Sie Histogramme der Spalten mit fehlenden Werten aus\n",
    "data[data.isnull().columns].hist()"
   ]
  },
  {
   "cell_type": "markdown",
   "metadata": {
    "editable": false
   },
   "source": [
    "Wir stellen fest, dass die meisten Spalten keine Normalverteilung aufweisen. Die fehlenden Werte hier mit dem Mittelwert der Spalte aufzufüllen, wäre daher ungünstig. Stattdessen kann man bei solchen schiefen Verteilungen den häufigsten Wert einfüllen. \n",
    "\n",
    "Für die Bestimmung des häufigsten Wertes und des Mittelwertes gibt es in pandas die Methoden ```.mean()``` und ```.mode()```. Für das Auffüllen von fehlenden Werten gibt es die Methode ```.fillna()```.\n",
    "\n",
    "```python\n",
    "some_dataFrame[columns].mean() # Gibt Mittelwerte der Spalten <columns> zurück\n",
    "some_dataFrame[columns].mode() # Gibt häufigste Werte der Spalten <columns> zurück ACHTUNG: Rückgabewert ist nicht skalar!\n",
    "some_dataFrame[columns].fillna(value) # Füllt alle fehlenden Werte in den Spalten <columns> mit <value> auf\n",
    "```\n",
    "\n"
   ]
  },
  {
   "cell_type": "code",
   "execution_count": 216,
   "metadata": {},
   "outputs": [
    {
     "data": {
      "text/plain": [
       "ages                 0\n",
       "list_price           0\n",
       "num_reviews          0\n",
       "piece_count          0\n",
       "play_star_rating     0\n",
       "prod_desc            0\n",
       "prod_id              0\n",
       "review_difficulty    0\n",
       "set_name             0\n",
       "star_rating          0\n",
       "theme_name           0\n",
       "val_star_rating      0\n",
       "country              0\n",
       "height               0\n",
       "width                0\n",
       "length               0\n",
       "dtype: int64"
      ]
     },
     "execution_count": 216,
     "metadata": {},
     "output_type": "execute_result"
    }
   ],
   "source": [
    "# Füllen Sie die Spalte(n) mit (näherungsweise) normalverteilten Werte mit dem Mittelwert auf\n",
    "#data[data.isnull().columns].fillna(data[data.isnull()].mean(),inplace = True)\n",
    "#mean = data['num_reviews'].mean()\n",
    "#to_fill = [data.isnull().columns]\n",
    "#print(to_fill)\n",
    "#data[data.isnull().columns].fillna[data.isnull().mean(),inplace = True]\n",
    "#data['num_reviews'].fillna(data['num_reviews'].mean(), inplace = True)\n",
    "data.fillna(data.isnull().mean(), inplace = True)\n",
    "#print(mean)\n",
    "\n",
    "# Füllen Sie die Spalte(n) mit nicht normalverteilten Werte mit dem jeweils häufigsten Wert auf\n",
    "#data[data.isnull().columns].fillna(data.mode())\n",
    "data.isnull().sum()"
   ]
  },
  {
   "cell_type": "markdown",
   "metadata": {
    "editable": false
   },
   "source": [
    "Auch hier sind durchaus andere, Problem-angepasste Möglichkeiten zum Auffüllen oft sinnvoll. Zum Beispiel könnte man den Schwierigkeitsgrad auch versuchen, aus der Anzahl der Teile vorherzusagen, und so das Auffüllen der fehlenden Werte zu einem eigenen Regressionsproblem machen. Oder man versucht zu einer Zeile, in der ein Wert fehlt, eine möglichst ähnliche Zeile zu finden und übernimmt den fehlenden Wert (Nächste Nachbarn-Methode). Das beliebte Python-Toolkit [_scikit-learn_](https://scikit-learn.org/stable/) bietet bspw. eine ganze Reihe von Möglichkeiten zur Imputation im Modul [```sklearn.impute```](https://scikit-learn.org/stable/modules/classes.html#module-sklearn.impute). Im Rahmen dieses Notebooks soll darauf aber nicht weiter eingegangen werden."
   ]
  },
  {
   "cell_type": "markdown",
   "metadata": {
    "editable": false
   },
   "source": [
    "<a id=\"save_data\"></a><div><img src=\"Images/IMG-csv-out.png\" style=\"float:left\"> <h2 style=\"position: relative; top: 6px\">3. Daten exportieren</h2>\n",
    "\n",
    "<p style=\"position: relative; top: 10px\">\n",
    "Damit ist der Datensatz nun also vollständig und besteht nur noch aus numerischen Merkmalen. Er muss also nur noch in eine CSV-Datei exportiert werden und kann dann von Modellen zur Regression oder Klassifikation ohne weitere Verarbeitung genutzt werden.\n",
    "\n",
    "Pandas bietet auch hierfür eine einfache Methode an: ```.to_csv()```\n",
    "\n",
    "```python\n",
    "some_dataFrame.to_csv(filename)\n",
    "```\n",
    "</p>\n"
   ]
  },
  {
   "cell_type": "code",
   "execution_count": 217,
   "metadata": {},
   "outputs": [],
   "source": [
    "# Exportieren Sie den aufgeräumten Datensatz in eine Datei namens 'tidy_lego_sets.csv' im Unterordner 'Data'\n",
    "data.to_csv('Data/tidy_lego_sets.csv')"
   ]
  },
  {
   "cell_type": "markdown",
   "metadata": {
    "editable": false
   },
   "source": [
    "<p style=\"text-align:center; font-weight:bold\">Herzlichen Glückwunsch! Sie haben erfolgreich den unordentlichen Haufen Lego sortiert.</p>\n",
    "\n",
    "<img src=\"Images/IMG-lego-messy-to-tidy.png\" width=\"1080px\" style=\"float:center\"/>\n",
    "\n",
    "\n",
    "<a style=\"float:left;background-color:black;color:white;text-decoration:none;padding:4px 6px;font-family:-apple-system, BlinkMacSystemFont, &quot;San Francisco&quot;, &quot;Helvetica Neue&quot;, Helvetica, Ubuntu, Roboto, Noto, &quot;Segoe UI&quot;, Arial, sans-serif;font-size:12px;font-weight:bold;line-height:1.2;display:inline-block;border-radius:3px\" href=\"https://unsplash.com/@egnaro?utm_medium=referral&amp;utm_campaign=photographer-credit&amp;utm_content=creditBadge\" target=\"_blank\" rel=\"noopener noreferrer\" title=\"Download free do whatever you want high-resolution photos from Rick Mason\"><span style=\"display:inline-block;padding:2px 3px\"><svg xmlns=\"http://www.w3.org/2000/svg\" style=\"height:12px;width:auto;position:relative;vertical-align:middle;top:-2px;fill:white\" viewBox=\"0 0 32 32\"><title>unsplash-logo</title><path d=\"M10 9V0h12v9H10zm12 5h10v18H0V14h10v9h12v-9z\"></path></svg></span><span style=\"display:inline-block;padding:2px 3px\">Photo by Rick Mason</span></a><a style=\"float:right;background-color:black;color:white;text-decoration:none;padding:4px 6px;font-family:-apple-system, BlinkMacSystemFont, &quot;San Francisco&quot;, &quot;Helvetica Neue&quot;, Helvetica, Ubuntu, Roboto, Noto, &quot;Segoe UI&quot;, Arial, sans-serif;font-size:12px;font-weight:bold;line-height:1.2;display:inline-block;border-radius:3px\" href=\"https://www.reddit.com/r/lego/comments/7mhq2b/finished_kind_of_organizing_my_spare_lego_pieces/\" target=\"_blank\" rel=\"noopener noreferrer\" title=\"Download free do whatever you want high-resolution photos from Rick Mason\"><span style=\"display:inline-block;padding:2px 3px\"><svg xmlns=\"http://www.w3.org/2000/svg\" style=\"height:12px;width:auto;position:relative;vertical-align:middle;top:-2px;fill:white\" viewBox=\"0 0 32 32\"><title>unsplash-logo</title><path d=\"M10 9V0h12v9H10zm12 5h10v18H0V14h10v9h12v-9z\"></path></svg></span><span style=\"display:inline-block;padding:2px 3px\">Photo by rexorhun</span></a>\n"
   ]
  },
  {
   "cell_type": "markdown",
   "metadata": {
    "editable": false
   },
   "source": [
    "<div>Icons made by <a href=\"https://www.flaticon.com/authors/swifticons\" title=\"Swifticons\">Swifticons</a> from <a href=\"https://www.flaticon.com/\" title=\"Flaticon\">www.flaticon.com</a></div>\n",
    "<div>Notebook erstelt von Yifei Li & <a href=\"mailto:simon.stone@tu-dresden.de?Subject=Frage%20zu%20Jupyter%20Notebook%20Lego%20Sets\" target=\"_top\">Simon Stone</a></div>"
   ]
  },
  {
   "cell_type": "code",
   "execution_count": null,
   "metadata": {},
   "outputs": [],
   "source": []
  }
 ],
 "metadata": {
  "kernelspec": {
   "display_name": "Python 3",
   "language": "python",
   "name": "python3"
  },
  "language_info": {
   "codemirror_mode": {
    "name": "ipython",
    "version": 3
   },
   "file_extension": ".py",
   "mimetype": "text/x-python",
   "name": "python",
   "nbconvert_exporter": "python",
   "pygments_lexer": "ipython3",
   "version": "3.7.6"
  }
 },
 "nbformat": 4,
 "nbformat_minor": 4
}
